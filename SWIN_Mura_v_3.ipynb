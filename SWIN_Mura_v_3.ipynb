{
 "cells": [
  {
   "cell_type": "code",
   "execution_count": 1,
   "metadata": {},
   "outputs": [
    {
     "name": "stdout",
     "output_type": "stream",
     "text": [
      "Requirement already satisfied: torchinfo in c:\\users\\hamad\\appdata\\local\\programs\\python\\python311\\lib\\site-packages (1.8.0)\n",
      "Note: you may need to restart the kernel to use updated packages.\n"
     ]
    },
    {
     "name": "stderr",
     "output_type": "stream",
     "text": [
      "\n",
      "[notice] A new release of pip is available: 23.2.1 -> 23.3\n",
      "[notice] To update, run: python.exe -m pip install --upgrade pip\n"
     ]
    }
   ],
   "source": [
    "%pip install torchinfo"
   ]
  },
  {
   "cell_type": "code",
   "execution_count": 2,
   "metadata": {},
   "outputs": [],
   "source": [
    "import torch\n",
    "from torchvision import transforms, utils\n",
    "import matplotlib.pyplot as plt\n",
    "from PIL import Image\n",
    "import os\n",
    "import pandas as pd\n",
    "import numpy as np\n",
    "import torch.nn as nn\n",
    "from torchinfo import summary\n",
    "from sklearn.model_selection import GridSearchCV\n",
    "from skorch import NeuralNetClassifier\n"
   ]
  },
  {
   "cell_type": "code",
   "execution_count": 3,
   "metadata": {},
   "outputs": [],
   "source": [
    "path = './MURA-v1.1/'\n",
    "train_image_paths_csv = \"train_image_paths.csv\"\n",
    "df_train_images_paths = pd.read_csv(os.path.join(path,train_image_paths_csv),dtype=str,header=None)\n",
    "df_train_images_paths.columns = ['image_path']"
   ]
  },
  {
   "cell_type": "code",
   "execution_count": 4,
   "metadata": {},
   "outputs": [],
   "source": [
    "df_train_images_paths['label'] = df_train_images_paths['image_path'].map(lambda x: 'positive' if 'positive' in x else 'negative')\n",
    "df_train_images_paths['category'] = df_train_images_paths['image_path'].apply(lambda x: x.split('/')[2])\n",
    "#df_train_images_paths['patientId'] = df_train_images_paths['image_path'].apply(lambda x: x.split('/')[3].replace('patient',''))"
   ]
  },
  {
   "cell_type": "code",
   "execution_count": 5,
   "metadata": {},
   "outputs": [],
   "source": [
    "valid_image_paths_csv = \"valid_image_paths.csv\"\n",
    "df_valid_data_paths = pd.read_csv(os.path.join(path,valid_image_paths_csv),dtype=str,header=None)\n",
    "df_valid_data_paths.columns = ['image_path']"
   ]
  },
  {
   "cell_type": "code",
   "execution_count": 6,
   "metadata": {},
   "outputs": [],
   "source": [
    "df_valid_data_paths['label'] = df_valid_data_paths['image_path'].map(lambda x:'positive' if 'positive' in x else 'negative')\n",
    "df_valid_data_paths['category']  = df_valid_data_paths['image_path'].apply(lambda x: x.split('/')[2])\n",
    "#df_valid_data_paths['dir'] =  df_valid_data_paths['image_path'].apply(lambda x: x.split('/')[1])\n",
    "#df_valid_data_paths['patientId']  = df_valid_data_paths['image_path'].apply(lambda x: x.split('/')[3].replace('patient',''))"
   ]
  },
  {
   "cell_type": "code",
   "execution_count": 7,
   "metadata": {},
   "outputs": [
    {
     "data": {
      "text/html": [
       "<div>\n",
       "<style scoped>\n",
       "    .dataframe tbody tr th:only-of-type {\n",
       "        vertical-align: middle;\n",
       "    }\n",
       "\n",
       "    .dataframe tbody tr th {\n",
       "        vertical-align: top;\n",
       "    }\n",
       "\n",
       "    .dataframe thead th {\n",
       "        text-align: right;\n",
       "    }\n",
       "</style>\n",
       "<table border=\"1\" class=\"dataframe\">\n",
       "  <thead>\n",
       "    <tr style=\"text-align: right;\">\n",
       "      <th></th>\n",
       "      <th>image_path</th>\n",
       "      <th>label</th>\n",
       "      <th>category</th>\n",
       "    </tr>\n",
       "  </thead>\n",
       "  <tbody>\n",
       "    <tr>\n",
       "      <th>0</th>\n",
       "      <td>MURA-v1.1/train/XR_SHOULDER/patient00001/study...</td>\n",
       "      <td>positive</td>\n",
       "      <td>XR_SHOULDER</td>\n",
       "    </tr>\n",
       "    <tr>\n",
       "      <th>1</th>\n",
       "      <td>MURA-v1.1/train/XR_SHOULDER/patient00001/study...</td>\n",
       "      <td>positive</td>\n",
       "      <td>XR_SHOULDER</td>\n",
       "    </tr>\n",
       "    <tr>\n",
       "      <th>2</th>\n",
       "      <td>MURA-v1.1/train/XR_SHOULDER/patient00001/study...</td>\n",
       "      <td>positive</td>\n",
       "      <td>XR_SHOULDER</td>\n",
       "    </tr>\n",
       "    <tr>\n",
       "      <th>3</th>\n",
       "      <td>MURA-v1.1/train/XR_SHOULDER/patient00002/study...</td>\n",
       "      <td>positive</td>\n",
       "      <td>XR_SHOULDER</td>\n",
       "    </tr>\n",
       "    <tr>\n",
       "      <th>4</th>\n",
       "      <td>MURA-v1.1/train/XR_SHOULDER/patient00002/study...</td>\n",
       "      <td>positive</td>\n",
       "      <td>XR_SHOULDER</td>\n",
       "    </tr>\n",
       "  </tbody>\n",
       "</table>\n",
       "</div>"
      ],
      "text/plain": [
       "                                          image_path     label     category\n",
       "0  MURA-v1.1/train/XR_SHOULDER/patient00001/study...  positive  XR_SHOULDER\n",
       "1  MURA-v1.1/train/XR_SHOULDER/patient00001/study...  positive  XR_SHOULDER\n",
       "2  MURA-v1.1/train/XR_SHOULDER/patient00001/study...  positive  XR_SHOULDER\n",
       "3  MURA-v1.1/train/XR_SHOULDER/patient00002/study...  positive  XR_SHOULDER\n",
       "4  MURA-v1.1/train/XR_SHOULDER/patient00002/study...  positive  XR_SHOULDER"
      ]
     },
     "execution_count": 7,
     "metadata": {},
     "output_type": "execute_result"
    }
   ],
   "source": [
    "df_train_images_paths.head()"
   ]
  },
  {
   "cell_type": "code",
   "execution_count": 8,
   "metadata": {},
   "outputs": [
    {
     "data": {
      "text/html": [
       "<div>\n",
       "<style scoped>\n",
       "    .dataframe tbody tr th:only-of-type {\n",
       "        vertical-align: middle;\n",
       "    }\n",
       "\n",
       "    .dataframe tbody tr th {\n",
       "        vertical-align: top;\n",
       "    }\n",
       "\n",
       "    .dataframe thead th {\n",
       "        text-align: right;\n",
       "    }\n",
       "</style>\n",
       "<table border=\"1\" class=\"dataframe\">\n",
       "  <thead>\n",
       "    <tr style=\"text-align: right;\">\n",
       "      <th></th>\n",
       "      <th>image_path</th>\n",
       "      <th>label</th>\n",
       "      <th>category</th>\n",
       "    </tr>\n",
       "  </thead>\n",
       "  <tbody>\n",
       "    <tr>\n",
       "      <th>0</th>\n",
       "      <td>MURA-v1.1/valid/XR_WRIST/patient11185/study1_p...</td>\n",
       "      <td>positive</td>\n",
       "      <td>XR_WRIST</td>\n",
       "    </tr>\n",
       "    <tr>\n",
       "      <th>1</th>\n",
       "      <td>MURA-v1.1/valid/XR_WRIST/patient11185/study1_p...</td>\n",
       "      <td>positive</td>\n",
       "      <td>XR_WRIST</td>\n",
       "    </tr>\n",
       "    <tr>\n",
       "      <th>2</th>\n",
       "      <td>MURA-v1.1/valid/XR_WRIST/patient11185/study1_p...</td>\n",
       "      <td>positive</td>\n",
       "      <td>XR_WRIST</td>\n",
       "    </tr>\n",
       "    <tr>\n",
       "      <th>3</th>\n",
       "      <td>MURA-v1.1/valid/XR_WRIST/patient11185/study1_p...</td>\n",
       "      <td>positive</td>\n",
       "      <td>XR_WRIST</td>\n",
       "    </tr>\n",
       "    <tr>\n",
       "      <th>4</th>\n",
       "      <td>MURA-v1.1/valid/XR_WRIST/patient11186/study1_p...</td>\n",
       "      <td>positive</td>\n",
       "      <td>XR_WRIST</td>\n",
       "    </tr>\n",
       "  </tbody>\n",
       "</table>\n",
       "</div>"
      ],
      "text/plain": [
       "                                          image_path     label  category\n",
       "0  MURA-v1.1/valid/XR_WRIST/patient11185/study1_p...  positive  XR_WRIST\n",
       "1  MURA-v1.1/valid/XR_WRIST/patient11185/study1_p...  positive  XR_WRIST\n",
       "2  MURA-v1.1/valid/XR_WRIST/patient11185/study1_p...  positive  XR_WRIST\n",
       "3  MURA-v1.1/valid/XR_WRIST/patient11185/study1_p...  positive  XR_WRIST\n",
       "4  MURA-v1.1/valid/XR_WRIST/patient11186/study1_p...  positive  XR_WRIST"
      ]
     },
     "execution_count": 8,
     "metadata": {},
     "output_type": "execute_result"
    }
   ],
   "source": [
    "df_valid_data_paths.head()"
   ]
  },
  {
   "cell_type": "code",
   "execution_count": 9,
   "metadata": {},
   "outputs": [],
   "source": [
    "# def splitByRatio(dataframe,n_samples = int):\n",
    "#     balanced_df = pd.DataFrame()\n",
    "#     for category in dataframe[\"category\"].unique():\n",
    "#         # Filter the DataFrame by category\n",
    "#         sub_df = dataframe[dataframe[\"category\"] == category]\n",
    "\n",
    "#         # Filter positive and negative samples\n",
    "#         pos_samples = sub_df[sub_df[\"label\"] == 'positive'].sample(n=n_samples)\n",
    "#         neg_samples = sub_df[sub_df[\"label\"] == 'negative'].sample(n=n_samples)\n",
    "\n",
    "#         # Concatenate positive and negative samples\n",
    "#         balanced_sub_df = pd.concat([pos_samples, neg_samples])\n",
    "\n",
    "#         # Add to the final balanced DataFrame\n",
    "#         balanced_df = pd.concat([balanced_df, balanced_sub_df])\n",
    "\n",
    "#     return balanced_df"
   ]
  },
  {
   "cell_type": "code",
   "execution_count": 10,
   "metadata": {},
   "outputs": [],
   "source": [
    "# train_balanced = splitByRatio(df_train_images_paths,500)\n",
    "# train_balanced = train_balanced.reset_index(drop=True)\n"
   ]
  },
  {
   "cell_type": "code",
   "execution_count": 11,
   "metadata": {},
   "outputs": [],
   "source": [
    "# valid_balanced = splitByRatio(df_valid_data_paths,100)\n",
    "# valid_balanced = valid_balanced.reset_index(drop=True)\n"
   ]
  },
  {
   "cell_type": "code",
   "execution_count": 12,
   "metadata": {},
   "outputs": [],
   "source": [
    "# filtered_df = df_train_images_paths.loc[df_train_images_paths['label'] == 'negative']\n",
    "# filtered_df = filtered_df.reset_index(drop=True)\n"
   ]
  },
  {
   "cell_type": "code",
   "execution_count": 13,
   "metadata": {},
   "outputs": [],
   "source": [
    "df_train_images_paths[\"label\"] = df_train_images_paths[\"label\"].replace({'positive': 1, 'negative': 0})\n"
   ]
  },
  {
   "cell_type": "code",
   "execution_count": 14,
   "metadata": {},
   "outputs": [],
   "source": [
    "# train_balanced[\"label\"] = train_balanced[\"label\"].replace({'positive': 1, 'negative': 0})\n"
   ]
  },
  {
   "cell_type": "code",
   "execution_count": 15,
   "metadata": {},
   "outputs": [],
   "source": [
    "df_valid_data_paths[\"label\"] = df_valid_data_paths[\"label\"].replace({'positive': 1, 'negative': 0})\n"
   ]
  },
  {
   "cell_type": "code",
   "execution_count": 16,
   "metadata": {},
   "outputs": [],
   "source": [
    "# valid_balanced[\"label\"] = valid_balanced[\"label\"].replace({'positive': 1, 'negative': 0})\n"
   ]
  },
  {
   "cell_type": "markdown",
   "metadata": {},
   "source": [
    "# Feautre extraction"
   ]
  },
  {
   "cell_type": "code",
   "execution_count": 17,
   "metadata": {},
   "outputs": [],
   "source": [
    "%matplotlib inline"
   ]
  },
  {
   "cell_type": "code",
   "execution_count": 18,
   "metadata": {},
   "outputs": [
    {
     "name": "stdout",
     "output_type": "stream",
     "text": [
      "Requirement already satisfied: scikit-image in c:\\users\\hamad\\appdata\\local\\programs\\python\\python311\\lib\\site-packages (0.21.0)\n",
      "Requirement already satisfied: numpy>=1.21.1 in c:\\users\\hamad\\appdata\\local\\programs\\python\\python311\\lib\\site-packages (from scikit-image) (1.23.5)\n",
      "Requirement already satisfied: scipy>=1.8 in c:\\users\\hamad\\appdata\\local\\programs\\python\\python311\\lib\\site-packages (from scikit-image) (1.11.1)\n",
      "Requirement already satisfied: networkx>=2.8 in c:\\users\\hamad\\appdata\\local\\programs\\python\\python311\\lib\\site-packages (from scikit-image) (3.0rc1)\n",
      "Requirement already satisfied: pillow>=9.0.1 in c:\\users\\hamad\\appdata\\local\\programs\\python\\python311\\lib\\site-packages (from scikit-image) (9.3.0)\n",
      "Requirement already satisfied: imageio>=2.27 in c:\\users\\hamad\\appdata\\local\\programs\\python\\python311\\lib\\site-packages (from scikit-image) (2.31.3)\n",
      "Requirement already satisfied: tifffile>=2022.8.12 in c:\\users\\hamad\\appdata\\local\\programs\\python\\python311\\lib\\site-packages (from scikit-image) (2023.8.30)\n",
      "Requirement already satisfied: PyWavelets>=1.1.1 in c:\\users\\hamad\\appdata\\local\\programs\\python\\python311\\lib\\site-packages (from scikit-image) (1.4.1)\n",
      "Requirement already satisfied: packaging>=21 in c:\\users\\hamad\\appdata\\roaming\\python\\python311\\site-packages (from scikit-image) (23.1)\n",
      "Requirement already satisfied: lazy_loader>=0.2 in c:\\users\\hamad\\appdata\\local\\programs\\python\\python311\\lib\\site-packages (from scikit-image) (0.3)\n",
      "Note: you may need to restart the kernel to use updated packages.\n"
     ]
    },
    {
     "name": "stderr",
     "output_type": "stream",
     "text": [
      "\n",
      "[notice] A new release of pip is available: 23.2.1 -> 23.3\n",
      "[notice] To update, run: python.exe -m pip install --upgrade pip\n"
     ]
    }
   ],
   "source": [
    "%pip install scikit-image"
   ]
  },
  {
   "cell_type": "markdown",
   "metadata": {},
   "source": [
    "## HOG"
   ]
  },
  {
   "cell_type": "code",
   "execution_count": 19,
   "metadata": {},
   "outputs": [],
   "source": [
    "from skimage.feature import hog\n",
    "from skimage.feature import canny\n",
    "from skimage.filters import prewitt\n",
    "from skimage.filters import gabor\n",
    "from skimage.filters import sobel\n",
    "from skimage.filters import butterworth\n",
    "from skimage.filters import gaussian\n",
    "from skimage.filters import hessian\n",
    "from skimage.filters import median\n",
    "from skimage import exposure\n",
    "\n",
    "\n",
    "\n",
    "\n",
    "import random"
   ]
  },
  {
   "cell_type": "code",
   "execution_count": null,
   "metadata": {},
   "outputs": [],
   "source": [
    "# idx = random.randint(0, filtered_df.__len__())\n",
    "# img = plt.imread(filtered_df['image_path'][idx])\n",
    "# plt.imshow(img)\n",
    "# img.shape"
   ]
  },
  {
   "cell_type": "code",
   "execution_count": null,
   "metadata": {},
   "outputs": [],
   "source": [
    "# equalized_img = exposure.equalize_adapthist(img, clip_limit=0.02)\n",
    "# plt.imshow(equalized_img)"
   ]
  },
  {
   "cell_type": "code",
   "execution_count": null,
   "metadata": {},
   "outputs": [],
   "source": [
    "# fd, hog_image = hog(equalized_img, orientations=9, pixels_per_cell=(2, 2),\n",
    "#                     cells_per_block=(1, 1), visualize=True)\n",
    "# plt.imshow(hog_image)\n",
    "# fd.shape"
   ]
  },
  {
   "cell_type": "markdown",
   "metadata": {},
   "source": [
    "## Prewitt"
   ]
  },
  {
   "cell_type": "code",
   "execution_count": null,
   "metadata": {},
   "outputs": [],
   "source": [
    "# edge_prewitt = prewitt(equalized_img)\n",
    "# plt.imshow(edge_prewitt)"
   ]
  },
  {
   "cell_type": "markdown",
   "metadata": {},
   "source": [
    "## Gabor Filter\n"
   ]
  },
  {
   "cell_type": "code",
   "execution_count": null,
   "metadata": {},
   "outputs": [],
   "source": [
    "# filt_real, gabor_filter = gabor(equalized_img,frequency=0.1)\n",
    "\n",
    "# plt.imshow(gabor_filter)"
   ]
  },
  {
   "cell_type": "markdown",
   "metadata": {},
   "source": [
    "## Canny"
   ]
  },
  {
   "cell_type": "code",
   "execution_count": null,
   "metadata": {},
   "outputs": [],
   "source": [
    "# Canny_edge = canny(equalized_img,sigma=0)\n",
    "# plt.imshow(Canny_edge)"
   ]
  },
  {
   "cell_type": "markdown",
   "metadata": {},
   "source": [
    "## Sobel\n"
   ]
  },
  {
   "cell_type": "code",
   "execution_count": null,
   "metadata": {},
   "outputs": [],
   "source": [
    "# sobel_edge = sobel(equalized_img)\n",
    "# plt.imshow(sobel_edge)"
   ]
  },
  {
   "cell_type": "code",
   "execution_count": null,
   "metadata": {},
   "outputs": [],
   "source": [
    "# butterworth_img = butterworth(equalized_img)\n",
    "# plt.imshow(butterworth_img)"
   ]
  },
  {
   "cell_type": "code",
   "execution_count": null,
   "metadata": {},
   "outputs": [],
   "source": [
    "# gaussian_img = gaussian(equalized_img)\n",
    "# plt.imshow(gaussian_img)"
   ]
  },
  {
   "cell_type": "code",
   "execution_count": null,
   "metadata": {},
   "outputs": [],
   "source": [
    "# hessian_img = hessian(equalized_img)\n",
    "# plt.imshow(img)"
   ]
  },
  {
   "cell_type": "code",
   "execution_count": null,
   "metadata": {},
   "outputs": [],
   "source": [
    "# laplace_img = median(equalized_img)\n",
    "# plt.imshow(img)"
   ]
  },
  {
   "cell_type": "code",
   "execution_count": 27,
   "metadata": {},
   "outputs": [],
   "source": [
    "from torch.utils.data import Dataset\n",
    "from skimage import img_as_ubyte\n",
    "from skimage.color import rgb2gray\n",
    "class MuraDataset(Dataset):\n",
    "    def __init__(self, image_paths, labels, transform=None, device='cpu'):\n",
    "        self.image_paths = image_paths\n",
    "        self.labels = labels\n",
    "        self.transform = transform\n",
    "        self.device = device\n",
    "\n",
    "    def __len__(self):\n",
    "        return len(self.image_paths)\n",
    "\n",
    "    def __getitem__(self, idx):\n",
    "        if torch.is_tensor(idx):\n",
    "            idx = idx.item()\n",
    "        \n",
    "        img_path = self.image_paths[idx]\n",
    "        image = Image.open(img_path)\n",
    "        image = image.convert('RGB')\n",
    "        \n",
    "        # Convert PIL Image to numpy array\n",
    "        image_np = np.array(image)\n",
    "        \n",
    "        image_gray = rgb2gray(image_np)\n",
    "        \n",
    "        # Apply adaptive histogram equalization\n",
    "        image_gray = exposure.equalize_adapthist(image_gray, clip_limit=0.02)\n",
    "\n",
    "        \n",
    "        # Apply Butterworth filter\n",
    "        image_butterworth = butterworth(image_gray)\n",
    "\n",
    "        \n",
    "        # Apply Gaussian filter\n",
    "        image_gaussian = gaussian(image_gray)\n",
    "        \n",
    "        # Combine the two images into one (stack them along the last axis)\n",
    "        # Create a 3 channel image from the butterworth and gaussian filtered images\n",
    "        image_combined = np.stack([image_butterworth, image_gaussian, image_gray], axis=-1)\n",
    "        \n",
    "        image_combined = (image_combined - np.min(image_combined)) / (np.max(image_combined) - np.min(image_combined))\n",
    "        \n",
    "        # Convert to 8-bit image for PIL\n",
    "        image_combined = img_as_ubyte(image_combined)\n",
    "        \n",
    "        # Convert numpy array back to PIL Image\n",
    "        image = Image.fromarray(image_combined)\n",
    "        \n",
    "        label = self.labels[idx]\n",
    "        \n",
    "        if self.transform:\n",
    "            image = self.transform(image)\n",
    "        \n",
    "        image = image.to(self.device)\n",
    "        \n",
    "        label = torch.tensor(label).to(self.device)\n",
    "\n",
    "        return image, label\n"
   ]
  },
  {
   "cell_type": "code",
   "execution_count": 20,
   "metadata": {},
   "outputs": [
    {
     "data": {
      "text/plain": [
       "image_path    3197\n",
       "label         3197\n",
       "category      3197\n",
       "dtype: int64"
      ]
     },
     "execution_count": 20,
     "metadata": {},
     "output_type": "execute_result"
    }
   ],
   "source": [
    "df_valid_data_paths.count()"
   ]
  },
  {
   "cell_type": "code",
   "execution_count": 24,
   "metadata": {},
   "outputs": [
    {
     "data": {
      "text/plain": [
       "image_path    36808\n",
       "label         36808\n",
       "category      36808\n",
       "dtype: int64"
      ]
     },
     "execution_count": 24,
     "metadata": {},
     "output_type": "execute_result"
    }
   ],
   "source": [
    "df_train_images_paths.count()"
   ]
  },
  {
   "cell_type": "code",
   "execution_count": 28,
   "metadata": {},
   "outputs": [],
   "source": [
    "from torch.utils.data import DataLoader\n",
    "from torchvision.transforms import v2\n",
    "\n",
    "mean_values = [0.2665, 0.4648, 0.4648]# Calculated\n",
    "std_values = [0.1079, 0.1650, 0.1666] # Calculated\n",
    "batchsize = 32\n",
    "transform = v2.Compose([\n",
    "    v2.RandomHorizontalFlip(p=0.5),  # Already included\n",
    "    v2.RandomVerticalFlip(p=0.5),  # New: vertical flip\n",
    "    v2.RandomRotation(10),  # New: random rotation with a maximum rotation angle of 10 degrees\n",
    "    v2.Resize((224, 224)),  # Already included\n",
    "    v2.ToTensor(),  # Already included\n",
    "    v2.Normalize(mean=mean_values, std=std_values)  # Normalization step\n",
    "\n",
    "])\n",
    "\n",
    "val_transform = v2.Compose([\n",
    "    v2.Resize((224, 224)),\n",
    "    v2.ToTensor(),\n",
    "    v2.Normalize(mean=mean_values, std=std_values),\n",
    "])\n",
    "# Before balancing\n",
    "Mura_transform = MuraDataset(df_train_images_paths[\"image_path\"], df_train_images_paths[\"label\"], transform=transform,device='cuda')\n",
    "train_loader = DataLoader(Mura_transform, batch_size=batchsize, shuffle=True)\n",
    "Mura_transform_valid = MuraDataset(df_valid_data_paths[\"image_path\"], df_valid_data_paths[\"label\"], transform=val_transform,device='cuda')\n",
    "valid_loader = DataLoader(Mura_transform_valid, batch_size=batchsize)\n",
    "\n"
   ]
  },
  {
   "cell_type": "code",
   "execution_count": 29,
   "metadata": {},
   "outputs": [
    {
     "name": "stdout",
     "output_type": "stream",
     "text": [
      "Feature batch shape: torch.Size([32, 3, 224, 224])\n",
      "Labels batch shape: torch.Size([32])\n"
     ]
    },
    {
     "data": {
      "image/png": "[encoded data removed]",
      "text/plain": [
       "<Figure size 640x480 with 1 Axes>"
      ]
     },
     "metadata": {},
     "output_type": "display_data"
    },
    {
     "name": "stdout",
     "output_type": "stream",
     "text": [
      "Label: 0\n"
     ]
    }
   ],
   "source": [
    "# Display image and label.\n",
    "train_features, train_labels = next(iter(train_loader))\n",
    "print(f\"Feature batch shape: {train_features.size()}\")\n",
    "print(f\"Labels batch shape: {train_labels.size()}\")\n",
    "\n",
    "# Select a single image from the batch.\n",
    "img = train_features[0]\n",
    "\n",
    "# Select one channel (e.g., the first channel).\n",
    "img_channel1 = img[1].cpu().numpy()\n",
    "\n",
    "# Display the selected channel.\n",
    "plt.imshow(img_channel1, cmap=\"gray\")\n",
    "plt.show()\n",
    "\n",
    "# Alternatively, you can display the second channel\n",
    "# img_channel2 = img[1].cpu().numpy()\n",
    "# plt.imshow(img_channel2, cmap=\"gray\")\n",
    "# plt.show()\n",
    "\n",
    "label = train_labels[0]\n",
    "print(f\"Label: {label}\")\n"
   ]
  },
  {
   "cell_type": "code",
   "execution_count": null,
   "metadata": {},
   "outputs": [],
   "source": [
    "# %pip install timm"
   ]
  },
  {
   "cell_type": "code",
   "execution_count": null,
   "metadata": {},
   "outputs": [
    {
     "name": "stderr",
     "output_type": "stream",
     "text": [
      "c:\\Users\\Hamad\\AppData\\Local\\Programs\\Python\\Python311\\Lib\\site-packages\\timm\\models\\_factory.py:114: UserWarning: Mapping deprecated model name vit_base_patch16_224_in21k to current vit_base_patch16_224.augreg_in21k.\n",
      "  model = create_fn(\n"
     ]
    }
   ],
   "source": [
    "# import timm\n",
    "# # vit_model = timm.create_model(model_name='vit_base_patch16_224_in21k',num_classes = 2)"
   ]
  },
  {
   "cell_type": "code",
   "execution_count": 30,
   "metadata": {},
   "outputs": [
    {
     "data": {
      "text/plain": [
       "device(type='cuda')"
      ]
     },
     "execution_count": 30,
     "metadata": {},
     "output_type": "execute_result"
    }
   ],
   "source": [
    "device = torch.device(\"cuda\" if torch.cuda.is_available() else \"cpu\")\n",
    "device\n"
   ]
  },
  {
   "cell_type": "code",
   "execution_count": null,
   "metadata": {},
   "outputs": [],
   "source": [
    "# vit_model.to(device)"
   ]
  },
  {
   "cell_type": "code",
   "execution_count": null,
   "metadata": {},
   "outputs": [],
   "source": [
    "# criterion = torch.nn.CrossEntropyLoss()\n",
    "# optimizer = torch.optim.Adam(vit_model.parameters(), lr=1e-7)\n",
    "# scheduler = torch.optim.lr_scheduler.StepLR(optimizer, step_size=10, gamma=0.7)\n"
   ]
  },
  {
   "cell_type": "code",
   "execution_count": null,
   "metadata": {},
   "outputs": [],
   "source": [
    "# num_epochs = 3\n",
    "\n",
    "# for epoch in range(num_epochs):\n",
    "#     vit_model.train()\n",
    "#     total_loss = 0.0\n",
    "#     correct = 0  # To keep track of correct predictions\n",
    "#     total = 0  # To keep track of total predictions\n",
    "\n",
    "#     batch_accuracies = []  # To store batch accuracies for the epoch\n",
    "\n",
    "#     for batch_idx, (images, labels) in enumerate(train_loader):\n",
    "#         images, labels = images.to(device), labels.to(device)\n",
    "\n",
    "#         optimizer.zero_grad()\n",
    "#         outputs = vit_model(images)\n",
    "#         loss = criterion(outputs, labels)\n",
    "#         loss.backward()\n",
    "#         optimizer.step()\n",
    "\n",
    "#         total_loss += loss.item()\n",
    "\n",
    "#         # Calculate accuracy\n",
    "#         _, predicted = outputs.max(1)  # Get the index of the max log-probability\n",
    "#         total += labels.size(0)\n",
    "#         correct += predicted.eq(labels).sum().item()\n",
    "\n",
    "#         # Print loss and accuracy for every 584 batches\n",
    "#         if (batch_idx + 1) % 32 == 0:\n",
    "#             batch_accuracy = 100. * correct / total\n",
    "#             batch_accuracies.append(batch_accuracy)  # Store the batch accuracy\n",
    "#             print(f\"Epoch [{epoch+1}/{num_epochs}], Batch [{batch_idx+1}/{len(train_loader)}], Batch Loss: {loss.item():.4f}, Batch Accuracy: {batch_accuracy:.2f}%\")\n",
    "#     scheduler.step()\n",
    "#     avg_loss = total_loss / len(train_loader)\n",
    "#     epoch_accuracy = 100. * correct / total  # Convert to percentage\n",
    "\n",
    "#     # Calculate the average of batch accuracies for the epoch\n",
    "#     avg_batch_accuracy = sum(batch_accuracies) / len(batch_accuracies) if batch_accuracies else 0.0\n",
    "\n",
    "#     print(f\"Epoch [{epoch+1}/{num_epochs}], Average Loss: {avg_loss:.4f}, Epoch Accuracy: {epoch_accuracy:.2f}%, Average Batch Accuracy: {avg_batch_accuracy:.2f}%\")\n"
   ]
  },
  {
   "cell_type": "code",
   "execution_count": null,
   "metadata": {},
   "outputs": [],
   "source": [
    "# from sklearn.metrics import accuracy_score, precision_score, recall_score, f1_score\n",
    "\n",
    "# # Switch the model to evaluation mode\n",
    "# vit_model.eval()\n",
    "\n",
    "# # Initialize lists to store all true labels and all predictions\n",
    "# all_labels = []\n",
    "# all_predictions = []\n",
    "\n",
    "# # Disabling gradient calculation\n",
    "# with torch.no_grad():\n",
    "#     for batch_idx, (images, labels) in enumerate(valid_loader):\n",
    "#         images, labels = images.to(device), labels.to(device)\n",
    "\n",
    "#         # Forward pass\n",
    "#         outputs = vit_model(images)\n",
    "\n",
    "#         # Get predictions\n",
    "#         _, predicted = outputs.max(1)\n",
    "\n",
    "#         # Store predictions and true labels for later calculation of metrics\n",
    "#         all_predictions.extend(predicted.cpu().numpy())\n",
    "#         all_labels.extend(labels.cpu().numpy())\n",
    "\n",
    "#         # Print status for every 175 batches (or another number if you prefer)\n",
    "#         if (batch_idx + 1) % 175 == 0:\n",
    "#             print(f\"Test Batch [{batch_idx+1}/{len(valid_loader)}] Processed\")\n",
    "\n",
    "# # Compute metrics\n",
    "# accuracy = accuracy_score(all_labels, all_predictions)\n",
    "# precision = precision_score(all_labels, all_predictions, average='weighted')  # Using weighted average if you have class imbalance\n",
    "# recall = recall_score(all_labels, all_predictions, average='weighted')  # Using weighted average if you have class imbalance\n",
    "# f1 = f1_score(all_labels, all_predictions, average='weighted')  # Using weighted average if you have class imbalance\n",
    "\n",
    "\n",
    "# print(f\"Test Accuracy: {accuracy:.4f}\")\n",
    "# print(f\"Test Precision: {precision:.4f}\")\n",
    "# print(f\"Test Recall: {recall:.4f}\")\n",
    "# print(f\"Test F1-Score: {f1:.4f}\")\n"
   ]
  },
  {
   "cell_type": "code",
   "execution_count": null,
   "metadata": {},
   "outputs": [],
   "source": [
    "# import torch\n",
    "# save_path = './Vit_mura_phase_3.pth'\n",
    "# torch.save(vit_model,save_path)"
   ]
  },
  {
   "cell_type": "markdown",
   "metadata": {},
   "source": [
    "# Swin Transformer"
   ]
  },
  {
   "cell_type": "code",
   "execution_count": 31,
   "metadata": {},
   "outputs": [],
   "source": [
    "from transformers import SwinForImageClassification"
   ]
  },
  {
   "cell_type": "code",
   "execution_count": 32,
   "metadata": {},
   "outputs": [],
   "source": [
    "model = SwinForImageClassification.from_pretrained(\"microsoft/swin-tiny-patch4-window7-224\")"
   ]
  },
  {
   "cell_type": "markdown",
   "metadata": {},
   "source": [
    "# Removing the last layer and adding only 2 output instead of 1000"
   ]
  },
  {
   "cell_type": "code",
   "execution_count": 28,
   "metadata": {},
   "outputs": [
    {
     "data": {
      "text/plain": [
       "SwinForImageClassification(\n",
       "  (swin): SwinModel(\n",
       "    (embeddings): SwinEmbeddings(\n",
       "      (patch_embeddings): SwinPatchEmbeddings(\n",
       "        (projection): Conv2d(3, 96, kernel_size=(4, 4), stride=(4, 4))\n",
       "      )\n",
       "      (norm): LayerNorm((96,), eps=1e-05, elementwise_affine=True)\n",
       "      (dropout): Dropout(p=0.0, inplace=False)\n",
       "    )\n",
       "    (encoder): SwinEncoder(\n",
       "      (layers): ModuleList(\n",
       "        (0): SwinStage(\n",
       "          (blocks): ModuleList(\n",
       "            (0-1): 2 x SwinLayer(\n",
       "              (layernorm_before): LayerNorm((96,), eps=1e-05, elementwise_affine=True)\n",
       "              (attention): SwinAttention(\n",
       "                (self): SwinSelfAttention(\n",
       "                  (query): Linear(in_features=96, out_features=96, bias=True)\n",
       "                  (key): Linear(in_features=96, out_features=96, bias=True)\n",
       "                  (value): Linear(in_features=96, out_features=96, bias=True)\n",
       "                  (dropout): Dropout(p=0.0, inplace=False)\n",
       "                )\n",
       "                (output): SwinSelfOutput(\n",
       "                  (dense): Linear(in_features=96, out_features=96, bias=True)\n",
       "                  (dropout): Dropout(p=0.0, inplace=False)\n",
       "                )\n",
       "              )\n",
       "              (drop_path): SwinDropPath(p=0.1)\n",
       "              (layernorm_after): LayerNorm((96,), eps=1e-05, elementwise_affine=True)\n",
       "              (intermediate): SwinIntermediate(\n",
       "                (dense): Linear(in_features=96, out_features=384, bias=True)\n",
       "                (intermediate_act_fn): GELUActivation()\n",
       "              )\n",
       "              (output): SwinOutput(\n",
       "                (dense): Linear(in_features=384, out_features=96, bias=True)\n",
       "                (dropout): Dropout(p=0.0, inplace=False)\n",
       "              )\n",
       "            )\n",
       "          )\n",
       "          (downsample): SwinPatchMerging(\n",
       "            (reduction): Linear(in_features=384, out_features=192, bias=False)\n",
       "            (norm): LayerNorm((384,), eps=1e-05, elementwise_affine=True)\n",
       "          )\n",
       "        )\n",
       "        (1): SwinStage(\n",
       "          (blocks): ModuleList(\n",
       "            (0-1): 2 x SwinLayer(\n",
       "              (layernorm_before): LayerNorm((192,), eps=1e-05, elementwise_affine=True)\n",
       "              (attention): SwinAttention(\n",
       "                (self): SwinSelfAttention(\n",
       "                  (query): Linear(in_features=192, out_features=192, bias=True)\n",
       "                  (key): Linear(in_features=192, out_features=192, bias=True)\n",
       "                  (value): Linear(in_features=192, out_features=192, bias=True)\n",
       "                  (dropout): Dropout(p=0.0, inplace=False)\n",
       "                )\n",
       "                (output): SwinSelfOutput(\n",
       "                  (dense): Linear(in_features=192, out_features=192, bias=True)\n",
       "                  (dropout): Dropout(p=0.0, inplace=False)\n",
       "                )\n",
       "              )\n",
       "              (drop_path): SwinDropPath(p=0.1)\n",
       "              (layernorm_after): LayerNorm((192,), eps=1e-05, elementwise_affine=True)\n",
       "              (intermediate): SwinIntermediate(\n",
       "                (dense): Linear(in_features=192, out_features=768, bias=True)\n",
       "                (intermediate_act_fn): GELUActivation()\n",
       "              )\n",
       "              (output): SwinOutput(\n",
       "                (dense): Linear(in_features=768, out_features=192, bias=True)\n",
       "                (dropout): Dropout(p=0.0, inplace=False)\n",
       "              )\n",
       "            )\n",
       "          )\n",
       "          (downsample): SwinPatchMerging(\n",
       "            (reduction): Linear(in_features=768, out_features=384, bias=False)\n",
       "            (norm): LayerNorm((768,), eps=1e-05, elementwise_affine=True)\n",
       "          )\n",
       "        )\n",
       "        (2): SwinStage(\n",
       "          (blocks): ModuleList(\n",
       "            (0-5): 6 x SwinLayer(\n",
       "              (layernorm_before): LayerNorm((384,), eps=1e-05, elementwise_affine=True)\n",
       "              (attention): SwinAttention(\n",
       "                (self): SwinSelfAttention(\n",
       "                  (query): Linear(in_features=384, out_features=384, bias=True)\n",
       "                  (key): Linear(in_features=384, out_features=384, bias=True)\n",
       "                  (value): Linear(in_features=384, out_features=384, bias=True)\n",
       "                  (dropout): Dropout(p=0.0, inplace=False)\n",
       "                )\n",
       "                (output): SwinSelfOutput(\n",
       "                  (dense): Linear(in_features=384, out_features=384, bias=True)\n",
       "                  (dropout): Dropout(p=0.0, inplace=False)\n",
       "                )\n",
       "              )\n",
       "              (drop_path): SwinDropPath(p=0.1)\n",
       "              (layernorm_after): LayerNorm((384,), eps=1e-05, elementwise_affine=True)\n",
       "              (intermediate): SwinIntermediate(\n",
       "                (dense): Linear(in_features=384, out_features=1536, bias=True)\n",
       "                (intermediate_act_fn): GELUActivation()\n",
       "              )\n",
       "              (output): SwinOutput(\n",
       "                (dense): Linear(in_features=1536, out_features=384, bias=True)\n",
       "                (dropout): Dropout(p=0.0, inplace=False)\n",
       "              )\n",
       "            )\n",
       "          )\n",
       "          (downsample): SwinPatchMerging(\n",
       "            (reduction): Linear(in_features=1536, out_features=768, bias=False)\n",
       "            (norm): LayerNorm((1536,), eps=1e-05, elementwise_affine=True)\n",
       "          )\n",
       "        )\n",
       "        (3): SwinStage(\n",
       "          (blocks): ModuleList(\n",
       "            (0-1): 2 x SwinLayer(\n",
       "              (layernorm_before): LayerNorm((768,), eps=1e-05, elementwise_affine=True)\n",
       "              (attention): SwinAttention(\n",
       "                (self): SwinSelfAttention(\n",
       "                  (query): Linear(in_features=768, out_features=768, bias=True)\n",
       "                  (key): Linear(in_features=768, out_features=768, bias=True)\n",
       "                  (value): Linear(in_features=768, out_features=768, bias=True)\n",
       "                  (dropout): Dropout(p=0.0, inplace=False)\n",
       "                )\n",
       "                (output): SwinSelfOutput(\n",
       "                  (dense): Linear(in_features=768, out_features=768, bias=True)\n",
       "                  (dropout): Dropout(p=0.0, inplace=False)\n",
       "                )\n",
       "              )\n",
       "              (drop_path): SwinDropPath(p=0.1)\n",
       "              (layernorm_after): LayerNorm((768,), eps=1e-05, elementwise_affine=True)\n",
       "              (intermediate): SwinIntermediate(\n",
       "                (dense): Linear(in_features=768, out_features=3072, bias=True)\n",
       "                (intermediate_act_fn): GELUActivation()\n",
       "              )\n",
       "              (output): SwinOutput(\n",
       "                (dense): Linear(in_features=3072, out_features=768, bias=True)\n",
       "                (dropout): Dropout(p=0.0, inplace=False)\n",
       "              )\n",
       "            )\n",
       "          )\n",
       "        )\n",
       "      )\n",
       "    )\n",
       "    (layernorm): LayerNorm((768,), eps=1e-05, elementwise_affine=True)\n",
       "    (pooler): AdaptiveAvgPool1d(output_size=1)\n",
       "  )\n",
       "  (classifier): Linear(in_features=768, out_features=2, bias=True)\n",
       ")"
      ]
     },
     "execution_count": 28,
     "metadata": {},
     "output_type": "execute_result"
    }
   ],
   "source": [
    "model.classifier = nn.Linear(in_features=768, out_features=2)\n",
    "model"
   ]
  },
  {
   "cell_type": "code",
   "execution_count": 33,
   "metadata": {},
   "outputs": [
    {
     "data": {
      "text/plain": [
       "===================================================================================================================\n",
       "Layer (type:depth-idx)                                            Output Shape              Param #\n",
       "===================================================================================================================\n",
       "SwinForImageClassification                                        [32, 1000]                --\n",
       "├─SwinModel: 1-1                                                  [32, 768]                 --\n",
       "│    └─SwinEmbeddings: 2-1                                        [32, 3136, 96]            --\n",
       "│    │    └─SwinPatchEmbeddings: 3-1                              [32, 3136, 96]            4,704\n",
       "│    │    └─LayerNorm: 3-2                                        [32, 3136, 96]            192\n",
       "│    │    └─Dropout: 3-3                                          [32, 3136, 96]            --\n",
       "│    └─SwinEncoder: 2-2                                           [32, 49, 768]             --\n",
       "│    │    └─ModuleList: 3-4                                       --                        27,512,922\n",
       "│    └─LayerNorm: 2-3                                             [32, 49, 768]             1,536\n",
       "│    └─AdaptiveAvgPool1d: 2-4                                     [32, 768, 1]              --\n",
       "├─Linear: 1-2                                                     [32, 1000]                769,000\n",
       "===================================================================================================================\n",
       "Total params: 28,288,354\n",
       "Trainable params: 28,288,354\n",
       "Non-trainable params: 0\n",
       "Total mult-adds (Units.GIGABYTES): 2.01\n",
       "===================================================================================================================\n",
       "Input size (MB): 19.27\n",
       "Forward/backward pass size (MB): 4393.27\n",
       "Params size (MB): 113.06\n",
       "Estimated Total Size (MB): 4525.59\n",
       "==================================================================================================================="
      ]
     },
     "execution_count": 33,
     "metadata": {},
     "output_type": "execute_result"
    }
   ],
   "source": [
    "# layers = list(swin_model.children())[:-1]\n",
    "# layers.append(nn.Linear(in_features=768,out_features=2))\n",
    "# model = nn.Sequential(*layers)\n",
    "summary(model, input_size=(32, 3, 224, 224))\n"
   ]
  },
  {
   "cell_type": "code",
   "execution_count": 40,
   "metadata": {},
   "outputs": [],
   "source": [
    "model.classifier = nn.Linear(in_features=768, out_features=2, bias=True)\n"
   ]
  },
  {
   "cell_type": "code",
   "execution_count": 41,
   "metadata": {},
   "outputs": [
    {
     "data": {
      "text/plain": [
       "SwinForImageClassification(\n",
       "  (swin): SwinModel(\n",
       "    (embeddings): SwinEmbeddings(\n",
       "      (patch_embeddings): SwinPatchEmbeddings(\n",
       "        (projection): Conv2d(3, 96, kernel_size=(4, 4), stride=(4, 4))\n",
       "      )\n",
       "      (norm): LayerNorm((96,), eps=1e-05, elementwise_affine=True)\n",
       "      (dropout): Dropout(p=0.0, inplace=False)\n",
       "    )\n",
       "    (encoder): SwinEncoder(\n",
       "      (layers): ModuleList(\n",
       "        (0): SwinStage(\n",
       "          (blocks): ModuleList(\n",
       "            (0-1): 2 x SwinLayer(\n",
       "              (layernorm_before): LayerNorm((96,), eps=1e-05, elementwise_affine=True)\n",
       "              (attention): SwinAttention(\n",
       "                (self): SwinSelfAttention(\n",
       "                  (query): Linear(in_features=96, out_features=96, bias=True)\n",
       "                  (key): Linear(in_features=96, out_features=96, bias=True)\n",
       "                  (value): Linear(in_features=96, out_features=96, bias=True)\n",
       "                  (dropout): Dropout(p=0.0, inplace=False)\n",
       "                )\n",
       "                (output): SwinSelfOutput(\n",
       "                  (dense): Linear(in_features=96, out_features=96, bias=True)\n",
       "                  (dropout): Dropout(p=0.0, inplace=False)\n",
       "                )\n",
       "              )\n",
       "              (drop_path): SwinDropPath(p=0.1)\n",
       "              (layernorm_after): LayerNorm((96,), eps=1e-05, elementwise_affine=True)\n",
       "              (intermediate): SwinIntermediate(\n",
       "                (dense): Linear(in_features=96, out_features=384, bias=True)\n",
       "                (intermediate_act_fn): GELUActivation()\n",
       "              )\n",
       "              (output): SwinOutput(\n",
       "                (dense): Linear(in_features=384, out_features=96, bias=True)\n",
       "                (dropout): Dropout(p=0.0, inplace=False)\n",
       "              )\n",
       "            )\n",
       "          )\n",
       "          (downsample): SwinPatchMerging(\n",
       "            (reduction): Linear(in_features=384, out_features=192, bias=False)\n",
       "            (norm): LayerNorm((384,), eps=1e-05, elementwise_affine=True)\n",
       "          )\n",
       "        )\n",
       "        (1): SwinStage(\n",
       "          (blocks): ModuleList(\n",
       "            (0-1): 2 x SwinLayer(\n",
       "              (layernorm_before): LayerNorm((192,), eps=1e-05, elementwise_affine=True)\n",
       "              (attention): SwinAttention(\n",
       "                (self): SwinSelfAttention(\n",
       "                  (query): Linear(in_features=192, out_features=192, bias=True)\n",
       "                  (key): Linear(in_features=192, out_features=192, bias=True)\n",
       "                  (value): Linear(in_features=192, out_features=192, bias=True)\n",
       "                  (dropout): Dropout(p=0.0, inplace=False)\n",
       "                )\n",
       "                (output): SwinSelfOutput(\n",
       "                  (dense): Linear(in_features=192, out_features=192, bias=True)\n",
       "                  (dropout): Dropout(p=0.0, inplace=False)\n",
       "                )\n",
       "              )\n",
       "              (drop_path): SwinDropPath(p=0.1)\n",
       "              (layernorm_after): LayerNorm((192,), eps=1e-05, elementwise_affine=True)\n",
       "              (intermediate): SwinIntermediate(\n",
       "                (dense): Linear(in_features=192, out_features=768, bias=True)\n",
       "                (intermediate_act_fn): GELUActivation()\n",
       "              )\n",
       "              (output): SwinOutput(\n",
       "                (dense): Linear(in_features=768, out_features=192, bias=True)\n",
       "                (dropout): Dropout(p=0.0, inplace=False)\n",
       "              )\n",
       "            )\n",
       "          )\n",
       "          (downsample): SwinPatchMerging(\n",
       "            (reduction): Linear(in_features=768, out_features=384, bias=False)\n",
       "            (norm): LayerNorm((768,), eps=1e-05, elementwise_affine=True)\n",
       "          )\n",
       "        )\n",
       "        (2): SwinStage(\n",
       "          (blocks): ModuleList(\n",
       "            (0-5): 6 x SwinLayer(\n",
       "              (layernorm_before): LayerNorm((384,), eps=1e-05, elementwise_affine=True)\n",
       "              (attention): SwinAttention(\n",
       "                (self): SwinSelfAttention(\n",
       "                  (query): Linear(in_features=384, out_features=384, bias=True)\n",
       "                  (key): Linear(in_features=384, out_features=384, bias=True)\n",
       "                  (value): Linear(in_features=384, out_features=384, bias=True)\n",
       "                  (dropout): Dropout(p=0.0, inplace=False)\n",
       "                )\n",
       "                (output): SwinSelfOutput(\n",
       "                  (dense): Linear(in_features=384, out_features=384, bias=True)\n",
       "                  (dropout): Dropout(p=0.0, inplace=False)\n",
       "                )\n",
       "              )\n",
       "              (drop_path): SwinDropPath(p=0.1)\n",
       "              (layernorm_after): LayerNorm((384,), eps=1e-05, elementwise_affine=True)\n",
       "              (intermediate): SwinIntermediate(\n",
       "                (dense): Linear(in_features=384, out_features=1536, bias=True)\n",
       "                (intermediate_act_fn): GELUActivation()\n",
       "              )\n",
       "              (output): SwinOutput(\n",
       "                (dense): Linear(in_features=1536, out_features=384, bias=True)\n",
       "                (dropout): Dropout(p=0.0, inplace=False)\n",
       "              )\n",
       "            )\n",
       "          )\n",
       "          (downsample): SwinPatchMerging(\n",
       "            (reduction): Linear(in_features=1536, out_features=768, bias=False)\n",
       "            (norm): LayerNorm((1536,), eps=1e-05, elementwise_affine=True)\n",
       "          )\n",
       "        )\n",
       "        (3): SwinStage(\n",
       "          (blocks): ModuleList(\n",
       "            (0-1): 2 x SwinLayer(\n",
       "              (layernorm_before): LayerNorm((768,), eps=1e-05, elementwise_affine=True)\n",
       "              (attention): SwinAttention(\n",
       "                (self): SwinSelfAttention(\n",
       "                  (query): Linear(in_features=768, out_features=768, bias=True)\n",
       "                  (key): Linear(in_features=768, out_features=768, bias=True)\n",
       "                  (value): Linear(in_features=768, out_features=768, bias=True)\n",
       "                  (dropout): Dropout(p=0.0, inplace=False)\n",
       "                )\n",
       "                (output): SwinSelfOutput(\n",
       "                  (dense): Linear(in_features=768, out_features=768, bias=True)\n",
       "                  (dropout): Dropout(p=0.0, inplace=False)\n",
       "                )\n",
       "              )\n",
       "              (drop_path): SwinDropPath(p=0.1)\n",
       "              (layernorm_after): LayerNorm((768,), eps=1e-05, elementwise_affine=True)\n",
       "              (intermediate): SwinIntermediate(\n",
       "                (dense): Linear(in_features=768, out_features=3072, bias=True)\n",
       "                (intermediate_act_fn): GELUActivation()\n",
       "              )\n",
       "              (output): SwinOutput(\n",
       "                (dense): Linear(in_features=3072, out_features=768, bias=True)\n",
       "                (dropout): Dropout(p=0.0, inplace=False)\n",
       "              )\n",
       "            )\n",
       "          )\n",
       "        )\n",
       "      )\n",
       "    )\n",
       "    (layernorm): LayerNorm((768,), eps=1e-05, elementwise_affine=True)\n",
       "    (pooler): AdaptiveAvgPool1d(output_size=1)\n",
       "  )\n",
       "  (classifier): Linear(in_features=768, out_features=2, bias=True)\n",
       ")"
      ]
     },
     "execution_count": 41,
     "metadata": {},
     "output_type": "execute_result"
    }
   ],
   "source": [
    "model.to(device)"
   ]
  },
  {
   "cell_type": "code",
   "execution_count": 42,
   "metadata": {},
   "outputs": [],
   "source": [
    "from lion_pytorch import Lion\n",
    "optimizer = Lion(model.parameters(), lr=3.33e-6, weight_decay=3e-2)"
   ]
  },
  {
   "cell_type": "code",
   "execution_count": 43,
   "metadata": {},
   "outputs": [],
   "source": [
    "criterion = torch.nn.CrossEntropyLoss()\n",
    "# optimizer = torch.optim.Adam(model.parameters(), lr=1e-5)\n",
    "\n",
    "scheduler = torch.optim.lr_scheduler.StepLR(optimizer, step_size=10, gamma=0.7)"
   ]
  },
  {
   "cell_type": "code",
   "execution_count": null,
   "metadata": {},
   "outputs": [],
   "source": [
    "# learning_rates = [0.001, 0.0001,0.00001,0.000001]\n",
    "# best_lr = None\n",
    "# best_accuracy = 0.0\n",
    "\n",
    "# for lr in learning_rates:\n",
    "#     optimizer = torch.optim.Adam(model.parameters(), lr=lr)\n",
    "#     # Initialize and train Swin Transformer with learning rate = lr\n",
    "#     # ...\n",
    "#     # Validate the model\n",
    "#     val_accuracy = validate_model(model, val_data)\n",
    "#     if val_accuracy > best_accuracy:\n",
    "#         best_accuracy = val_accuracy\n",
    "#         best_lr = lr\n",
    "        \n"
   ]
  },
  {
   "cell_type": "code",
   "execution_count": 45,
   "metadata": {},
   "outputs": [
    {
     "data": {
      "text/plain": [
       "1151"
      ]
     },
     "execution_count": 45,
     "metadata": {},
     "output_type": "execute_result"
    }
   ],
   "source": [
    "len(train_loader)"
   ]
  },
  {
   "cell_type": "code",
   "execution_count": 46,
   "metadata": {},
   "outputs": [
    {
     "name": "stdout",
     "output_type": "stream",
     "text": [
      "Epoch [1/10], Batch [200/1151], Batch Loss: 0.4337, Batch Accuracy: 77.00%\n",
      "Epoch [1/10], Batch [400/1151], Batch Loss: 0.3515, Batch Accuracy: 77.25%\n",
      "Epoch [1/10], Batch [600/1151], Batch Loss: 0.5579, Batch Accuracy: 77.98%\n",
      "Epoch [1/10], Batch [800/1151], Batch Loss: 0.5957, Batch Accuracy: 78.23%\n",
      "Epoch [1/10], Batch [1000/1151], Batch Loss: 0.4315, Batch Accuracy: 78.45%\n",
      "Epoch [1/10], Average Loss: 0.4671, Epoch Accuracy: 78.67%, Average Batch Accuracy: 77.78%\n"
     ]
    },
    {
     "ename": "KeyboardInterrupt",
     "evalue": "",
     "output_type": "error",
     "traceback": [
      "\u001b[1;31m---------------------------------------------------------------------------\u001b[0m",
      "\u001b[1;31mKeyboardInterrupt\u001b[0m                         Traceback (most recent call last)",
      "\u001b[1;32md:\\Users\\hamad\\Documents\\GP2\\SWIN_Mura_v_3.ipynb Cell 62\u001b[0m line \u001b[0;36m1\n\u001b[0;32m     <a href='vscode-notebook-cell:/d%3A/Users/hamad/Documents/GP2/SWIN_Mura_v_3.ipynb#Y113sZmlsZQ%3D%3D?line=16'>17</a>\u001b[0m loss \u001b[39m=\u001b[39m criterion(logits, labels) \n\u001b[0;32m     <a href='vscode-notebook-cell:/d%3A/Users/hamad/Documents/GP2/SWIN_Mura_v_3.ipynb#Y113sZmlsZQ%3D%3D?line=17'>18</a>\u001b[0m loss\u001b[39m.\u001b[39mbackward()\n\u001b[1;32m---> <a href='vscode-notebook-cell:/d%3A/Users/hamad/Documents/GP2/SWIN_Mura_v_3.ipynb#Y113sZmlsZQ%3D%3D?line=18'>19</a>\u001b[0m optimizer\u001b[39m.\u001b[39;49mstep()\n\u001b[0;32m     <a href='vscode-notebook-cell:/d%3A/Users/hamad/Documents/GP2/SWIN_Mura_v_3.ipynb#Y113sZmlsZQ%3D%3D?line=20'>21</a>\u001b[0m total_loss \u001b[39m+\u001b[39m\u001b[39m=\u001b[39m loss\u001b[39m.\u001b[39mitem()\n\u001b[0;32m     <a href='vscode-notebook-cell:/d%3A/Users/hamad/Documents/GP2/SWIN_Mura_v_3.ipynb#Y113sZmlsZQ%3D%3D?line=23'>24</a>\u001b[0m _, predicted \u001b[39m=\u001b[39m logits\u001b[39m.\u001b[39mmax(\u001b[39m1\u001b[39m)  \u001b[39m# Get the index of the max log-probability\u001b[39;00m\n",
      "File \u001b[1;32mc:\\Users\\Hamad\\AppData\\Local\\Programs\\Python\\Python311\\Lib\\site-packages\\torch\\optim\\lr_scheduler.py:69\u001b[0m, in \u001b[0;36mLRScheduler.__init__.<locals>.with_counter.<locals>.wrapper\u001b[1;34m(*args, **kwargs)\u001b[0m\n\u001b[0;32m     67\u001b[0m instance\u001b[39m.\u001b[39m_step_count \u001b[39m+\u001b[39m\u001b[39m=\u001b[39m \u001b[39m1\u001b[39m\n\u001b[0;32m     68\u001b[0m wrapped \u001b[39m=\u001b[39m func\u001b[39m.\u001b[39m\u001b[39m__get__\u001b[39m(instance, \u001b[39mcls\u001b[39m)\n\u001b[1;32m---> 69\u001b[0m \u001b[39mreturn\u001b[39;00m wrapped(\u001b[39m*\u001b[39;49margs, \u001b[39m*\u001b[39;49m\u001b[39m*\u001b[39;49mkwargs)\n",
      "File \u001b[1;32mc:\\Users\\Hamad\\AppData\\Local\\Programs\\Python\\Python311\\Lib\\site-packages\\torch\\optim\\optimizer.py:294\u001b[0m, in \u001b[0;36mOptimizer.profile_hook_step.<locals>.wrapper\u001b[1;34m(*args, **kwargs)\u001b[0m\n\u001b[0;32m    290\u001b[0m         \u001b[39melse\u001b[39;00m:\n\u001b[0;32m    291\u001b[0m             \u001b[39mraise\u001b[39;00m \u001b[39mRuntimeError\u001b[39;00m(\u001b[39mf\u001b[39m\u001b[39m\"\u001b[39m\u001b[39m{\u001b[39;00mfunc\u001b[39m}\u001b[39;00m\u001b[39m must return None or a tuple of (new_args, new_kwargs),\u001b[39m\u001b[39m\"\u001b[39m\n\u001b[0;32m    292\u001b[0m                                \u001b[39mf\u001b[39m\u001b[39m\"\u001b[39m\u001b[39mbut got \u001b[39m\u001b[39m{\u001b[39;00mresult\u001b[39m}\u001b[39;00m\u001b[39m.\u001b[39m\u001b[39m\"\u001b[39m)\n\u001b[1;32m--> 294\u001b[0m out \u001b[39m=\u001b[39m func(\u001b[39m*\u001b[39;49margs, \u001b[39m*\u001b[39;49m\u001b[39m*\u001b[39;49mkwargs)\n\u001b[0;32m    295\u001b[0m \u001b[39mself\u001b[39m\u001b[39m.\u001b[39m_optimizer_step_code()\n\u001b[0;32m    297\u001b[0m \u001b[39m# call optimizer step post hooks\u001b[39;00m\n",
      "File \u001b[1;32mc:\\Users\\Hamad\\AppData\\Local\\Programs\\Python\\Python311\\Lib\\site-packages\\torch\\utils\\_contextlib.py:115\u001b[0m, in \u001b[0;36mcontext_decorator.<locals>.decorate_context\u001b[1;34m(*args, **kwargs)\u001b[0m\n\u001b[0;32m    112\u001b[0m \u001b[39m@functools\u001b[39m\u001b[39m.\u001b[39mwraps(func)\n\u001b[0;32m    113\u001b[0m \u001b[39mdef\u001b[39;00m \u001b[39mdecorate_context\u001b[39m(\u001b[39m*\u001b[39margs, \u001b[39m*\u001b[39m\u001b[39m*\u001b[39mkwargs):\n\u001b[0;32m    114\u001b[0m     \u001b[39mwith\u001b[39;00m ctx_factory():\n\u001b[1;32m--> 115\u001b[0m         \u001b[39mreturn\u001b[39;00m func(\u001b[39m*\u001b[39;49margs, \u001b[39m*\u001b[39;49m\u001b[39m*\u001b[39;49mkwargs)\n",
      "File \u001b[1;32mc:\\Users\\Hamad\\AppData\\Local\\Programs\\Python\\Python311\\Lib\\site-packages\\lion_pytorch\\lion_pytorch.py:78\u001b[0m, in \u001b[0;36mLion.step\u001b[1;34m(self, closure)\u001b[0m\n\u001b[0;32m     74\u001b[0m             state[\u001b[39m'\u001b[39m\u001b[39mexp_avg\u001b[39m\u001b[39m'\u001b[39m] \u001b[39m=\u001b[39m torch\u001b[39m.\u001b[39mzeros_like(p)\n\u001b[0;32m     76\u001b[0m         exp_avg \u001b[39m=\u001b[39m state[\u001b[39m'\u001b[39m\u001b[39mexp_avg\u001b[39m\u001b[39m'\u001b[39m]\n\u001b[1;32m---> 78\u001b[0m         \u001b[39mself\u001b[39;49m\u001b[39m.\u001b[39;49mupdate_fn(\n\u001b[0;32m     79\u001b[0m             p,\n\u001b[0;32m     80\u001b[0m             grad,\n\u001b[0;32m     81\u001b[0m             exp_avg,\n\u001b[0;32m     82\u001b[0m             lr,\n\u001b[0;32m     83\u001b[0m             wd,\n\u001b[0;32m     84\u001b[0m             beta1,\n\u001b[0;32m     85\u001b[0m             beta2\n\u001b[0;32m     86\u001b[0m         )\n\u001b[0;32m     88\u001b[0m \u001b[39mreturn\u001b[39;00m loss\n",
      "File \u001b[1;32mc:\\Users\\Hamad\\AppData\\Local\\Programs\\Python\\Python311\\Lib\\site-packages\\lion_pytorch\\lion_pytorch.py:20\u001b[0m, in \u001b[0;36mupdate_fn\u001b[1;34m(p, grad, exp_avg, lr, wd, beta1, beta2)\u001b[0m\n\u001b[0;32m     16\u001b[0m p\u001b[39m.\u001b[39mdata\u001b[39m.\u001b[39mmul_(\u001b[39m1\u001b[39m \u001b[39m-\u001b[39m lr \u001b[39m*\u001b[39m wd)\n\u001b[0;32m     18\u001b[0m \u001b[39m# weight update\u001b[39;00m\n\u001b[1;32m---> 20\u001b[0m update \u001b[39m=\u001b[39m exp_avg\u001b[39m.\u001b[39;49mclone()\u001b[39m.\u001b[39;49mmul_(beta1)\u001b[39m.\u001b[39;49madd(grad, alpha \u001b[39m=\u001b[39;49m \u001b[39m1\u001b[39;49m \u001b[39m-\u001b[39;49m beta1)\u001b[39m.\u001b[39;49msign_()\n\u001b[0;32m     21\u001b[0m p\u001b[39m.\u001b[39madd_(update, alpha \u001b[39m=\u001b[39m \u001b[39m-\u001b[39mlr)\n\u001b[0;32m     23\u001b[0m \u001b[39m# decay the momentum running average coefficient\u001b[39;00m\n",
      "\u001b[1;31mKeyboardInterrupt\u001b[0m: "
     ]
    }
   ],
   "source": [
    "num_epochs = 10\n",
    "\n",
    "for epoch in range(num_epochs):\n",
    "    model.train()\n",
    "    total_loss = 0.0\n",
    "    correct = 0  # To keep track of correct predictions\n",
    "    total = 0  # To keep track of total predictions\n",
    "\n",
    "    batch_accuracies = []  # To store batch accuracies for the epoch\n",
    "\n",
    "    for batch_idx, (images, labels) in enumerate(train_loader):\n",
    "        images, labels = images.to(device), labels.to(device)\n",
    "\n",
    "        optimizer.zero_grad()\n",
    "        outputs = model(images)\n",
    "        logits = outputs.logits  # Extract the logits\n",
    "        loss = criterion(logits, labels) \n",
    "        loss.backward()\n",
    "        optimizer.step()\n",
    "\n",
    "        total_loss += loss.item()\n",
    "\n",
    "        \n",
    "        _, predicted = logits.max(1)  # Get the index of the max log-probability\n",
    "        total += labels.size(0)\n",
    "        correct += predicted.eq(labels).sum().item()\n",
    "\n",
    "        # Print loss and accuracy for every 200 batches\n",
    "        if (batch_idx + 1) % 200 == 0:\n",
    "            batch_accuracy = 100. * correct / total\n",
    "            batch_accuracies.append(batch_accuracy)  # Store the batch accuracy\n",
    "            print(f\"Epoch [{epoch+1}/{num_epochs}], Batch [{batch_idx+1}/{len(train_loader)}], Batch Loss: {loss.item():.4f}, Batch Accuracy: {batch_accuracy:.2f}%\")\n",
    "    scheduler.step()\n",
    "    avg_loss = total_loss / len(train_loader)\n",
    "    epoch_accuracy = 100. * correct / total  # Convert to percentage\n",
    "\n",
    "    # Calculate the average of batch accuracies for the epoch\n",
    "    avg_batch_accuracy = sum(batch_accuracies) / len(batch_accuracies) if batch_accuracies else 0.0\n",
    "\n",
    "    print(f\"Epoch [{epoch+1}/{num_epochs}], Average Loss: {avg_loss:.4f}, Epoch Accuracy: {epoch_accuracy:.2f}%, Average Batch Accuracy: {avg_batch_accuracy:.2f}%\")\n"
   ]
  },
  {
   "cell_type": "markdown",
   "metadata": {},
   "source": [
    "# النتائج الان قبل موازنة البيانات"
   ]
  },
  {
   "cell_type": "code",
   "execution_count": null,
   "metadata": {},
   "outputs": [
    {
     "name": "stdout",
     "output_type": "stream",
     "text": [
      "Test Batch [100/200] Processed\n",
      "Test Batch [200/200] Processed\n",
      "Test Accuracy: 0.8186\n",
      "Test Precision: 0.8868\n",
      "Test Recall: 0.7118\n",
      "Test F1-Score: 0.7897\n"
     ]
    }
   ],
   "source": [
    "from sklearn.metrics import accuracy_score, precision_score, recall_score, f1_score\n",
    "\n",
    "# Switch the model to evaluation mode\n",
    "model.eval()\n",
    "\n",
    "# Initialize lists to store all true labels and all predictions\n",
    "all_labels = []\n",
    "all_predictions = []    \n",
    "\n",
    "# Disabling gradient calculation\n",
    "with torch.no_grad():\n",
    "    for batch_idx, (images, labels) in enumerate(valid_loader):\n",
    "        images, labels = images.to(device), labels.to(device)\n",
    "\n",
    "        # Forward pass\n",
    "        outputs = model(images)  \n",
    "        logits = outputs.logits\n",
    "\n",
    "        # Get predictions\n",
    "        _, predicted = logits.max(1)\n",
    "\n",
    "        # Store predictions and true labels for later calculation of metrics\n",
    "        all_predictions.extend(predicted.cpu().numpy())\n",
    "        all_labels.extend(labels.cpu().numpy())\n",
    "\n",
    "        # Print status for every 50 batches (or another number if you prefer)\n",
    "        if (batch_idx + 1) % 100 == 0:\n",
    "            print(f\"Test Batch [{batch_idx+1}/{len(valid_loader)}] Processed\")\n",
    "\n",
    "\n",
    "# Compute metrics\n",
    "accuracy = accuracy_score(all_labels, all_predictions)\n",
    "precision = precision_score(all_labels, all_predictions)  # Using weighted average if you have class imbalance\n",
    "recall = recall_score(all_labels, all_predictions)  # Using weighted average if you have class imbalance\n",
    "f1 = f1_score(all_labels, all_predictions)  # Using weighted average if you have class imbalance\n",
    "\n",
    "\n",
    "print(f\"Test Accuracy: {accuracy:.4f}\")\n",
    "print(f\"Test Precision: {precision:.4f}\")\n",
    "print(f\"Test Recall: {recall:.4f}\")\n",
    "print(f\"Test F1-Score: {f1:.4f}\")\n",
    "\n"
   ]
  },
  {
   "cell_type": "markdown",
   "metadata": {},
   "source": [
    "7 epochs reuslt:\n",
    "# Test Accuracy: 0.8017\n",
    "# Test Precision: 0.8810\n",
    "# Test Recall: 0.6771\n",
    "# Test F1-Score: 0.7657\n"
   ]
  },
  {
   "cell_type": "code",
   "execution_count": null,
   "metadata": {},
   "outputs": [],
   "source": [
    "import torch\n",
    "save_path = './SWIN_mura_LION_Normalization_10epoch.pth'\n",
    "torch.save(model,save_path)"
   ]
  }
 ],
 "metadata": {
  "kernelspec": {
   "display_name": "Python 3",
   "language": "python",
   "name": "python3"
  },
  "language_info": {
   "codemirror_mode": {
    "name": "ipython",
    "version": 3
   },
   "file_extension": ".py",
   "mimetype": "text/x-python",
   "name": "python",
   "nbconvert_exporter": "python",
   "pygments_lexer": "ipython3",
   "version": "3.11.4"
  },
  "orig_nbformat": 4
 },
 "nbformat": 4,
 "nbformat_minor": 2
}
