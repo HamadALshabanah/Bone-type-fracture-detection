{
 "cells": [
  {
   "cell_type": "code",
   "execution_count": 1,
   "metadata": {},
   "outputs": [
    {
     "name": "stdout",
     "output_type": "stream",
     "text": [
      "Requirement already satisfied: torchinfo in c:\\users\\hamad\\appdata\\local\\programs\\python\\python311\\lib\\site-packages (1.8.0)Note: you may need to restart the kernel to use updated packages.\n",
      "\n"
     ]
    }
   ],
   "source": [
    "%pip install torchinfo"
   ]
  },
  {
   "cell_type": "code",
   "execution_count": 2,
   "metadata": {},
   "outputs": [],
   "source": [
    "import torch\n",
    "from torchvision import transforms, utils\n",
    "import matplotlib.pyplot as plt\n",
    "from PIL import Image\n",
    "import os\n",
    "import pandas as pd\n",
    "import numpy as np\n",
    "import torch.nn as nn\n",
    "from torchinfo import summary\n",
    "from sklearn.model_selection import GridSearchCV\n",
    "from skorch import NeuralNetClassifier\n"
   ]
  },
  {
   "cell_type": "code",
   "execution_count": 3,
   "metadata": {},
   "outputs": [],
   "source": [
    "path = './MURA-v1.1/'\n",
    "train_image_paths_csv = \"train_image_paths.csv\"\n",
    "df_train_images_paths = pd.read_csv(os.path.join(path,train_image_paths_csv),dtype=str,header=None)\n",
    "df_train_images_paths.columns = ['image_path']"
   ]
  },
  {
   "cell_type": "code",
   "execution_count": 4,
   "metadata": {},
   "outputs": [],
   "source": [
    "df_train_images_paths['label'] = df_train_images_paths['image_path'].map(lambda x: 'positive' if 'positive' in x else 'negative')\n",
    "df_train_images_paths['category'] = df_train_images_paths['image_path'].apply(lambda x: x.split('/')[2])\n",
    "#df_train_images_paths['patientId'] = df_train_images_paths['image_path'].apply(lambda x: x.split('/')[3].replace('patient',''))"
   ]
  },
  {
   "cell_type": "code",
   "execution_count": 5,
   "metadata": {},
   "outputs": [],
   "source": [
    "valid_image_paths_csv = \"valid_image_paths.csv\"\n",
    "df_valid_data_paths = pd.read_csv(os.path.join(path,valid_image_paths_csv),dtype=str,header=None)\n",
    "df_valid_data_paths.columns = ['image_path']"
   ]
  },
  {
   "cell_type": "code",
   "execution_count": 6,
   "metadata": {},
   "outputs": [],
   "source": [
    "df_valid_data_paths['label'] = df_valid_data_paths['image_path'].map(lambda x:'positive' if 'positive' in x else 'negative')\n",
    "df_valid_data_paths['category']  = df_valid_data_paths['image_path'].apply(lambda x: x.split('/')[2])\n",
    "#df_valid_data_paths['dir'] =  df_valid_data_paths['image_path'].apply(lambda x: x.split('/')[1])\n",
    "#df_valid_data_paths['patientId']  = df_valid_data_paths['image_path'].apply(lambda x: x.split('/')[3].replace('patient',''))"
   ]
  },
  {
   "cell_type": "code",
   "execution_count": 7,
   "metadata": {},
   "outputs": [
    {
     "data": {
      "text/html": [
       "<div>\n",
       "<style scoped>\n",
       "    .dataframe tbody tr th:only-of-type {\n",
       "        vertical-align: middle;\n",
       "    }\n",
       "\n",
       "    .dataframe tbody tr th {\n",
       "        vertical-align: top;\n",
       "    }\n",
       "\n",
       "    .dataframe thead th {\n",
       "        text-align: right;\n",
       "    }\n",
       "</style>\n",
       "<table border=\"1\" class=\"dataframe\">\n",
       "  <thead>\n",
       "    <tr style=\"text-align: right;\">\n",
       "      <th></th>\n",
       "      <th>image_path</th>\n",
       "      <th>label</th>\n",
       "      <th>category</th>\n",
       "    </tr>\n",
       "  </thead>\n",
       "  <tbody>\n",
       "    <tr>\n",
       "      <th>0</th>\n",
       "      <td>MURA-v1.1/train/XR_SHOULDER/patient00001/study...</td>\n",
       "      <td>positive</td>\n",
       "      <td>XR_SHOULDER</td>\n",
       "    </tr>\n",
       "    <tr>\n",
       "      <th>1</th>\n",
       "      <td>MURA-v1.1/train/XR_SHOULDER/patient00001/study...</td>\n",
       "      <td>positive</td>\n",
       "      <td>XR_SHOULDER</td>\n",
       "    </tr>\n",
       "    <tr>\n",
       "      <th>2</th>\n",
       "      <td>MURA-v1.1/train/XR_SHOULDER/patient00001/study...</td>\n",
       "      <td>positive</td>\n",
       "      <td>XR_SHOULDER</td>\n",
       "    </tr>\n",
       "    <tr>\n",
       "      <th>3</th>\n",
       "      <td>MURA-v1.1/train/XR_SHOULDER/patient00002/study...</td>\n",
       "      <td>positive</td>\n",
       "      <td>XR_SHOULDER</td>\n",
       "    </tr>\n",
       "    <tr>\n",
       "      <th>4</th>\n",
       "      <td>MURA-v1.1/train/XR_SHOULDER/patient00002/study...</td>\n",
       "      <td>positive</td>\n",
       "      <td>XR_SHOULDER</td>\n",
       "    </tr>\n",
       "  </tbody>\n",
       "</table>\n",
       "</div>"
      ],
      "text/plain": [
       "                                          image_path     label     category\n",
       "0  MURA-v1.1/train/XR_SHOULDER/patient00001/study...  positive  XR_SHOULDER\n",
       "1  MURA-v1.1/train/XR_SHOULDER/patient00001/study...  positive  XR_SHOULDER\n",
       "2  MURA-v1.1/train/XR_SHOULDER/patient00001/study...  positive  XR_SHOULDER\n",
       "3  MURA-v1.1/train/XR_SHOULDER/patient00002/study...  positive  XR_SHOULDER\n",
       "4  MURA-v1.1/train/XR_SHOULDER/patient00002/study...  positive  XR_SHOULDER"
      ]
     },
     "execution_count": 7,
     "metadata": {},
     "output_type": "execute_result"
    }
   ],
   "source": [
    "df_train_images_paths.head()"
   ]
  },
  {
   "cell_type": "code",
   "execution_count": 8,
   "metadata": {},
   "outputs": [
    {
     "data": {
      "text/html": [
       "<div>\n",
       "<style scoped>\n",
       "    .dataframe tbody tr th:only-of-type {\n",
       "        vertical-align: middle;\n",
       "    }\n",
       "\n",
       "    .dataframe tbody tr th {\n",
       "        vertical-align: top;\n",
       "    }\n",
       "\n",
       "    .dataframe thead th {\n",
       "        text-align: right;\n",
       "    }\n",
       "</style>\n",
       "<table border=\"1\" class=\"dataframe\">\n",
       "  <thead>\n",
       "    <tr style=\"text-align: right;\">\n",
       "      <th></th>\n",
       "      <th>image_path</th>\n",
       "      <th>label</th>\n",
       "      <th>category</th>\n",
       "    </tr>\n",
       "  </thead>\n",
       "  <tbody>\n",
       "    <tr>\n",
       "      <th>0</th>\n",
       "      <td>MURA-v1.1/valid/XR_WRIST/patient11185/study1_p...</td>\n",
       "      <td>positive</td>\n",
       "      <td>XR_WRIST</td>\n",
       "    </tr>\n",
       "    <tr>\n",
       "      <th>1</th>\n",
       "      <td>MURA-v1.1/valid/XR_WRIST/patient11185/study1_p...</td>\n",
       "      <td>positive</td>\n",
       "      <td>XR_WRIST</td>\n",
       "    </tr>\n",
       "    <tr>\n",
       "      <th>2</th>\n",
       "      <td>MURA-v1.1/valid/XR_WRIST/patient11185/study1_p...</td>\n",
       "      <td>positive</td>\n",
       "      <td>XR_WRIST</td>\n",
       "    </tr>\n",
       "    <tr>\n",
       "      <th>3</th>\n",
       "      <td>MURA-v1.1/valid/XR_WRIST/patient11185/study1_p...</td>\n",
       "      <td>positive</td>\n",
       "      <td>XR_WRIST</td>\n",
       "    </tr>\n",
       "    <tr>\n",
       "      <th>4</th>\n",
       "      <td>MURA-v1.1/valid/XR_WRIST/patient11186/study1_p...</td>\n",
       "      <td>positive</td>\n",
       "      <td>XR_WRIST</td>\n",
       "    </tr>\n",
       "  </tbody>\n",
       "</table>\n",
       "</div>"
      ],
      "text/plain": [
       "                                          image_path     label  category\n",
       "0  MURA-v1.1/valid/XR_WRIST/patient11185/study1_p...  positive  XR_WRIST\n",
       "1  MURA-v1.1/valid/XR_WRIST/patient11185/study1_p...  positive  XR_WRIST\n",
       "2  MURA-v1.1/valid/XR_WRIST/patient11185/study1_p...  positive  XR_WRIST\n",
       "3  MURA-v1.1/valid/XR_WRIST/patient11185/study1_p...  positive  XR_WRIST\n",
       "4  MURA-v1.1/valid/XR_WRIST/patient11186/study1_p...  positive  XR_WRIST"
      ]
     },
     "execution_count": 8,
     "metadata": {},
     "output_type": "execute_result"
    }
   ],
   "source": [
    "df_valid_data_paths.head()"
   ]
  },
  {
   "cell_type": "code",
   "execution_count": 9,
   "metadata": {},
   "outputs": [],
   "source": [
    "# def splitByRatio(dataframe,n_samples = int):\n",
    "#     balanced_df = pd.DataFrame()\n",
    "#     for category in dataframe[\"category\"].unique():\n",
    "#         # Filter the DataFrame by category\n",
    "#         sub_df = dataframe[dataframe[\"category\"] == category]\n",
    "\n",
    "#         # Filter positive and negative samples\n",
    "#         pos_samples = sub_df[sub_df[\"label\"] == 'positive'].sample(n=n_samples)\n",
    "#         neg_samples = sub_df[sub_df[\"label\"] == 'negative'].sample(n=n_samples)\n",
    "\n",
    "#         # Concatenate positive and negative samples\n",
    "#         balanced_sub_df = pd.concat([pos_samples, neg_samples])\n",
    "\n",
    "#         # Add to the final balanced DataFrame\n",
    "#         balanced_df = pd.concat([balanced_df, balanced_sub_df])\n",
    "\n",
    "#     return balanced_df"
   ]
  },
  {
   "cell_type": "code",
   "execution_count": 10,
   "metadata": {},
   "outputs": [],
   "source": [
    "# train_balanced = splitByRatio(df_train_images_paths,500)\n",
    "# train_balanced = train_balanced.reset_index(drop=True)\n"
   ]
  },
  {
   "cell_type": "code",
   "execution_count": 11,
   "metadata": {},
   "outputs": [],
   "source": [
    "# valid_balanced = splitByRatio(df_valid_data_paths,100)\n",
    "# valid_balanced = valid_balanced.reset_index(drop=True)\n"
   ]
  },
  {
   "cell_type": "code",
   "execution_count": 12,
   "metadata": {},
   "outputs": [],
   "source": [
    "# filtered_df = df_train_images_paths.loc[df_train_images_paths['label'] == 'negative']\n",
    "# filtered_df = filtered_df.reset_index(drop=True)\n"
   ]
  },
  {
   "cell_type": "code",
   "execution_count": 13,
   "metadata": {},
   "outputs": [],
   "source": [
    "df_train_images_paths[\"label\"] = df_train_images_paths[\"label\"].replace({'positive': 1, 'negative': 0})\n"
   ]
  },
  {
   "cell_type": "code",
   "execution_count": 14,
   "metadata": {},
   "outputs": [
    {
     "ename": "NameError",
     "evalue": "name 'train_balanced' is not defined",
     "output_type": "error",
     "traceback": [
      "\u001b[1;31m---------------------------------------------------------------------------\u001b[0m",
      "\u001b[1;31mNameError\u001b[0m                                 Traceback (most recent call last)",
      "\u001b[1;32md:\\Users\\hamad\\Documents\\GP2\\ViT_Mura_v_3.ipynb Cell 14\u001b[0m line \u001b[0;36m1\n\u001b[1;32m----> <a href='vscode-notebook-cell:/d%3A/Users/hamad/Documents/GP2/ViT_Mura_v_3.ipynb#X20sZmlsZQ%3D%3D?line=0'>1</a>\u001b[0m train_balanced[\u001b[39m\"\u001b[39m\u001b[39mlabel\u001b[39m\u001b[39m\"\u001b[39m] \u001b[39m=\u001b[39m train_balanced[\u001b[39m\"\u001b[39m\u001b[39mlabel\u001b[39m\u001b[39m\"\u001b[39m]\u001b[39m.\u001b[39mreplace({\u001b[39m'\u001b[39m\u001b[39mpositive\u001b[39m\u001b[39m'\u001b[39m: \u001b[39m1\u001b[39m, \u001b[39m'\u001b[39m\u001b[39mnegative\u001b[39m\u001b[39m'\u001b[39m: \u001b[39m0\u001b[39m})\n",
      "\u001b[1;31mNameError\u001b[0m: name 'train_balanced' is not defined"
     ]
    }
   ],
   "source": [
    "# train_balanced[\"label\"] = train_balanced[\"label\"].replace({'positive': 1, 'negative': 0})\n"
   ]
  },
  {
   "cell_type": "code",
   "execution_count": 15,
   "metadata": {},
   "outputs": [],
   "source": [
    "df_valid_data_paths[\"label\"] = df_valid_data_paths[\"label\"].replace({'positive': 1, 'negative': 0})\n"
   ]
  },
  {
   "cell_type": "code",
   "execution_count": null,
   "metadata": {},
   "outputs": [],
   "source": [
    "# valid_balanced[\"label\"] = valid_balanced[\"label\"].replace({'positive': 1, 'negative': 0})\n"
   ]
  },
  {
   "cell_type": "markdown",
   "metadata": {},
   "source": [
    "# Feautre extraction"
   ]
  },
  {
   "cell_type": "code",
   "execution_count": 16,
   "metadata": {},
   "outputs": [],
   "source": [
    "%matplotlib inline"
   ]
  },
  {
   "cell_type": "code",
   "execution_count": 17,
   "metadata": {},
   "outputs": [
    {
     "name": "stdout",
     "output_type": "stream",
     "text": [
      "Requirement already satisfied: scikit-image in c:\\users\\hamad\\appdata\\local\\programs\\python\\python311\\lib\\site-packages (0.21.0)\n",
      "Requirement already satisfied: numpy>=1.21.1 in c:\\users\\hamad\\appdata\\local\\programs\\python\\python311\\lib\\site-packages (from scikit-image) (1.23.5)\n",
      "Requirement already satisfied: scipy>=1.8 in c:\\users\\hamad\\appdata\\local\\programs\\python\\python311\\lib\\site-packages (from scikit-image) (1.11.1)\n",
      "Requirement already satisfied: networkx>=2.8 in c:\\users\\hamad\\appdata\\local\\programs\\python\\python311\\lib\\site-packages (from scikit-image) (3.0rc1)\n",
      "Requirement already satisfied: pillow>=9.0.1 in c:\\users\\hamad\\appdata\\local\\programs\\python\\python311\\lib\\site-packages (from scikit-image) (9.3.0)\n",
      "Requirement already satisfied: imageio>=2.27 in c:\\users\\hamad\\appdata\\local\\programs\\python\\python311\\lib\\site-packages (from scikit-image) (2.31.3)\n",
      "Requirement already satisfied: tifffile>=2022.8.12 in c:\\users\\hamad\\appdata\\local\\programs\\python\\python311\\lib\\site-packages (from scikit-image) (2023.8.30)\n",
      "Requirement already satisfied: PyWavelets>=1.1.1 in c:\\users\\hamad\\appdata\\local\\programs\\python\\python311\\lib\\site-packages (from scikit-image) (1.4.1)\n",
      "Requirement already satisfied: packaging>=21 in c:\\users\\hamad\\appdata\\roaming\\python\\python311\\site-packages (from scikit-image) (23.1)\n",
      "Requirement already satisfied: lazy_loader>=0.2 in c:\\users\\hamad\\appdata\\local\\programs\\python\\python311\\lib\\site-packages (from scikit-image) (0.3)\n",
      "Note: you may need to restart the kernel to use updated packages.\n"
     ]
    }
   ],
   "source": [
    "%pip install scikit-image"
   ]
  },
  {
   "cell_type": "markdown",
   "metadata": {},
   "source": [
    "## HOG"
   ]
  },
  {
   "cell_type": "code",
   "execution_count": 18,
   "metadata": {},
   "outputs": [],
   "source": [
    "from skimage.feature import hog\n",
    "from skimage.feature import canny\n",
    "from skimage.filters import prewitt\n",
    "from skimage.filters import gabor\n",
    "from skimage.filters import sobel\n",
    "from skimage.filters import butterworth\n",
    "from skimage.filters import gaussian\n",
    "from skimage.filters import hessian\n",
    "from skimage.filters import median\n",
    "from skimage import exposure\n",
    "\n",
    "\n",
    "\n",
    "\n",
    "import random"
   ]
  },
  {
   "cell_type": "code",
   "execution_count": null,
   "metadata": {},
   "outputs": [],
   "source": [
    "# idx = random.randint(0, filtered_df.__len__())\n",
    "# img = plt.imread(filtered_df['image_path'][idx])\n",
    "# plt.imshow(img)\n",
    "# img.shape"
   ]
  },
  {
   "cell_type": "code",
   "execution_count": null,
   "metadata": {},
   "outputs": [],
   "source": [
    "# equalized_img = exposure.equalize_adapthist(img, clip_limit=0.02)\n",
    "# plt.imshow(equalized_img)"
   ]
  },
  {
   "cell_type": "code",
   "execution_count": null,
   "metadata": {},
   "outputs": [],
   "source": [
    "# fd, hog_image = hog(equalized_img, orientations=9, pixels_per_cell=(2, 2),\n",
    "#                     cells_per_block=(1, 1), visualize=True)\n",
    "# plt.imshow(hog_image)\n",
    "# fd.shape"
   ]
  },
  {
   "cell_type": "markdown",
   "metadata": {},
   "source": [
    "## Prewitt"
   ]
  },
  {
   "cell_type": "code",
   "execution_count": null,
   "metadata": {},
   "outputs": [],
   "source": [
    "# edge_prewitt = prewitt(equalized_img)\n",
    "# plt.imshow(edge_prewitt)"
   ]
  },
  {
   "cell_type": "markdown",
   "metadata": {},
   "source": [
    "## Gabor Filter\n"
   ]
  },
  {
   "cell_type": "code",
   "execution_count": null,
   "metadata": {},
   "outputs": [],
   "source": [
    "# filt_real, gabor_filter = gabor(equalized_img,frequency=0.1)\n",
    "\n",
    "# plt.imshow(gabor_filter)"
   ]
  },
  {
   "cell_type": "markdown",
   "metadata": {},
   "source": [
    "## Canny"
   ]
  },
  {
   "cell_type": "code",
   "execution_count": null,
   "metadata": {},
   "outputs": [],
   "source": [
    "# Canny_edge = canny(equalized_img,sigma=0)\n",
    "# plt.imshow(Canny_edge)"
   ]
  },
  {
   "cell_type": "markdown",
   "metadata": {},
   "source": [
    "## Sobel\n"
   ]
  },
  {
   "cell_type": "code",
   "execution_count": null,
   "metadata": {},
   "outputs": [],
   "source": [
    "# sobel_edge = sobel(equalized_img)\n",
    "# plt.imshow(sobel_edge)"
   ]
  },
  {
   "cell_type": "code",
   "execution_count": null,
   "metadata": {},
   "outputs": [],
   "source": [
    "# butterworth_img = butterworth(equalized_img)\n",
    "# plt.imshow(butterworth_img)"
   ]
  },
  {
   "cell_type": "code",
   "execution_count": null,
   "metadata": {},
   "outputs": [],
   "source": [
    "# gaussian_img = gaussian(equalized_img)\n",
    "# plt.imshow(gaussian_img)"
   ]
  },
  {
   "cell_type": "code",
   "execution_count": null,
   "metadata": {},
   "outputs": [],
   "source": [
    "# hessian_img = hessian(equalized_img)\n",
    "# plt.imshow(img)"
   ]
  },
  {
   "cell_type": "code",
   "execution_count": null,
   "metadata": {},
   "outputs": [],
   "source": [
    "# laplace_img = median(equalized_img)\n",
    "# plt.imshow(img)"
   ]
  },
  {
   "cell_type": "code",
   "execution_count": 19,
   "metadata": {},
   "outputs": [],
   "source": [
    "from torch.utils.data import Dataset\n",
    "from skimage import img_as_ubyte\n",
    "from skimage.color import rgb2gray\n",
    "class MuraDataset(Dataset):\n",
    "    def __init__(self, image_paths, labels, transform=None, device='cpu'):\n",
    "        self.image_paths = image_paths\n",
    "        self.labels = labels\n",
    "        self.transform = transform\n",
    "        self.device = device\n",
    "\n",
    "    def __len__(self):\n",
    "        return len(self.image_paths)\n",
    "\n",
    "    def __getitem__(self, idx):\n",
    "        if torch.is_tensor(idx):\n",
    "            idx = idx.item()\n",
    "        \n",
    "        img_path = self.image_paths[idx]\n",
    "        image = Image.open(img_path)\n",
    "        image = image.convert('RGB')\n",
    "        \n",
    "        # Convert PIL Image to numpy array\n",
    "        image_np = np.array(image)\n",
    "        \n",
    "        image_gray = rgb2gray(image_np)\n",
    "        \n",
    "        # Apply adaptive histogram equalization\n",
    "        image_gray = exposure.equalize_adapthist(image_gray, clip_limit=0.02)\n",
    "\n",
    "        \n",
    "        # Apply Butterworth filter\n",
    "        image_butterworth = butterworth(image_gray)\n",
    "\n",
    "        \n",
    "        # Apply Gaussian filter\n",
    "        image_gaussian = gaussian(image_gray)\n",
    "        \n",
    "        # Combine the two images into one (stack them along the last axis)\n",
    "        # Create a 3 channel image from the butterworth and gaussian filtered images\n",
    "        image_combined = np.stack([image_butterworth, image_gaussian, image_gray], axis=-1)\n",
    "        \n",
    "        image_combined = (image_combined - np.min(image_combined)) / (np.max(image_combined) - np.min(image_combined))\n",
    "        \n",
    "        # Convert to 8-bit image for PIL\n",
    "        image_combined = img_as_ubyte(image_combined)\n",
    "        \n",
    "        # Convert numpy array back to PIL Image\n",
    "        image = Image.fromarray(image_combined)\n",
    "        \n",
    "        label = self.labels[idx]\n",
    "        \n",
    "        if self.transform:\n",
    "            image = self.transform(image)\n",
    "        \n",
    "        image = image.to(self.device)\n",
    "        \n",
    "        label = torch.tensor(label).to(self.device)\n",
    "\n",
    "        return image, label\n"
   ]
  },
  {
   "cell_type": "code",
   "execution_count": 20,
   "metadata": {},
   "outputs": [
    {
     "data": {
      "text/plain": [
       "image_path    3197\n",
       "label         3197\n",
       "category      3197\n",
       "dtype: int64"
      ]
     },
     "execution_count": 20,
     "metadata": {},
     "output_type": "execute_result"
    }
   ],
   "source": [
    "df_valid_data_paths.count()"
   ]
  },
  {
   "cell_type": "code",
   "execution_count": 21,
   "metadata": {},
   "outputs": [
    {
     "data": {
      "text/plain": [
       "image_path    36808\n",
       "label         36808\n",
       "category      36808\n",
       "dtype: int64"
      ]
     },
     "execution_count": 21,
     "metadata": {},
     "output_type": "execute_result"
    }
   ],
   "source": [
    "df_train_images_paths.count()"
   ]
  },
  {
   "cell_type": "code",
   "execution_count": 22,
   "metadata": {},
   "outputs": [
    {
     "name": "stderr",
     "output_type": "stream",
     "text": [
      "c:\\Users\\Hamad\\AppData\\Local\\Programs\\Python\\Python311\\Lib\\site-packages\\torchvision\\datapoints\\__init__.py:12: UserWarning: The torchvision.datapoints and torchvision.transforms.v2 namespaces are still Beta. While we do not expect major breaking changes, some APIs may still change according to user feedback. Please submit any feedback you may have in this issue: https://github.com/pytorch/vision/issues/6753, and you can also check out https://github.com/pytorch/vision/issues/7319 to learn more about the APIs that we suspect might involve future changes. You can silence this warning by calling torchvision.disable_beta_transforms_warning().\n",
      "  warnings.warn(_BETA_TRANSFORMS_WARNING)\n",
      "c:\\Users\\Hamad\\AppData\\Local\\Programs\\Python\\Python311\\Lib\\site-packages\\torchvision\\transforms\\v2\\__init__.py:54: UserWarning: The torchvision.datapoints and torchvision.transforms.v2 namespaces are still Beta. While we do not expect major breaking changes, some APIs may still change according to user feedback. Please submit any feedback you may have in this issue: https://github.com/pytorch/vision/issues/6753, and you can also check out https://github.com/pytorch/vision/issues/7319 to learn more about the APIs that we suspect might involve future changes. You can silence this warning by calling torchvision.disable_beta_transforms_warning().\n",
      "  warnings.warn(_BETA_TRANSFORMS_WARNING)\n",
      "c:\\Users\\Hamad\\AppData\\Local\\Programs\\Python\\Python311\\Lib\\site-packages\\torchvision\\transforms\\v2\\_deprecated.py:41: UserWarning: The transform `ToTensor()` is deprecated and will be removed in a future release. Instead, please use `transforms.Compose([transforms.ToImageTensor(), transforms.ConvertImageDtype()])`.\n",
      "  warnings.warn(\n"
     ]
    }
   ],
   "source": [
    "from torch.utils.data import DataLoader\n",
    "from torchvision.transforms import v2\n",
    "\n",
    "batchsize = 16\n",
    "transform = v2.Compose([\n",
    "    v2.RandomHorizontalFlip(p=0.5),  # Already included\n",
    "    v2.RandomVerticalFlip(p=0.5),  # New: vertical flip\n",
    "    v2.RandomRotation(10),  # New: random rotation with a maximum rotation angle of 10 degrees\n",
    "    v2.Resize((224, 224)),  # Already included\n",
    "    v2.ToTensor(),  # Already included\n",
    "])\n",
    "\n",
    "\n",
    "val_transform = v2.Compose([\n",
    "    v2.Resize((224, 224)),\n",
    "    v2.ToTensor(),\n",
    "])\n",
    "\n",
    "Mura_transform = MuraDataset(df_train_images_paths[\"image_path\"], df_train_images_paths[\"label\"], transform=transform,device='cuda')\n",
    "train_loader = DataLoader(Mura_transform, batch_size=batchsize, shuffle=True)\n",
    "Mura_transform_valid = MuraDataset(df_valid_data_paths[\"image_path\"], df_valid_data_paths[\"label\"], transform=val_transform,device='cuda')\n",
    "valid_loader = DataLoader(Mura_transform_valid, batch_size=batchsize)\n",
    "\n"
   ]
  },
  {
   "cell_type": "code",
   "execution_count": 24,
   "metadata": {},
   "outputs": [
    {
     "name": "stdout",
     "output_type": "stream",
     "text": [
      "Feature batch shape: torch.Size([16, 3, 224, 224])\n",
      "Labels batch shape: torch.Size([16])\n"
     ]
    },
    {
     "data": {
      "image/png": "[encoded data removed]",
      "text/plain": [
       "<Figure size 640x480 with 1 Axes>"
      ]
     },
     "metadata": {},
     "output_type": "display_data"
    },
    {
     "name": "stdout",
     "output_type": "stream",
     "text": [
      "Label: 0\n"
     ]
    }
   ],
   "source": [
    "# Display image and label.\n",
    "train_features, train_labels = next(iter(train_loader))\n",
    "print(f\"Feature batch shape: {train_features.size()}\")\n",
    "print(f\"Labels batch shape: {train_labels.size()}\")\n",
    "\n",
    "# Select a single image from the batch.\n",
    "img = train_features[0]\n",
    "\n",
    "# Select one channel (e.g., the first channel).\n",
    "img_channel1 = img[1].cpu().numpy()\n",
    "\n",
    "# Display the selected channel.\n",
    "plt.imshow(img_channel1, cmap=\"gray\")\n",
    "plt.show()\n",
    "\n",
    "# Alternatively, you can display the second channel\n",
    "# img_channel2 = img[1].cpu().numpy()\n",
    "# plt.imshow(img_channel2, cmap=\"gray\")\n",
    "# plt.show()\n",
    "\n",
    "label = train_labels[0]\n",
    "print(f\"Label: {label}\")\n"
   ]
  },
  {
   "cell_type": "code",
   "execution_count": null,
   "metadata": {},
   "outputs": [],
   "source": [
    "# %pip install timm"
   ]
  },
  {
   "cell_type": "code",
   "execution_count": null,
   "metadata": {},
   "outputs": [
    {
     "name": "stderr",
     "output_type": "stream",
     "text": [
      "c:\\Users\\Hamad\\AppData\\Local\\Programs\\Python\\Python311\\Lib\\site-packages\\timm\\models\\_factory.py:114: UserWarning: Mapping deprecated model name vit_base_patch16_224_in21k to current vit_base_patch16_224.augreg_in21k.\n",
      "  model = create_fn(\n"
     ]
    }
   ],
   "source": [
    "import timm\n",
    "vit_model = timm.create_model(model_name='vit_base_patch16_224_in21k',num_classes = 2)"
   ]
  },
  {
   "cell_type": "code",
   "execution_count": 25,
   "metadata": {},
   "outputs": [
    {
     "data": {
      "text/plain": [
       "device(type='cuda')"
      ]
     },
     "execution_count": 25,
     "metadata": {},
     "output_type": "execute_result"
    }
   ],
   "source": [
    "device = torch.device(\"cuda\" if torch.cuda.is_available() else \"cpu\")\n",
    "device\n"
   ]
  },
  {
   "cell_type": "code",
   "execution_count": null,
   "metadata": {},
   "outputs": [],
   "source": [
    "# vit_model.to(device)"
   ]
  },
  {
   "cell_type": "code",
   "execution_count": null,
   "metadata": {},
   "outputs": [],
   "source": [
    "# criterion = torch.nn.CrossEntropyLoss()\n",
    "# optimizer = torch.optim.Adam(vit_model.parameters(), lr=1e-7)\n",
    "# scheduler = torch.optim.lr_scheduler.StepLR(optimizer, step_size=10, gamma=0.7)\n"
   ]
  },
  {
   "cell_type": "code",
   "execution_count": null,
   "metadata": {},
   "outputs": [],
   "source": [
    "# num_epochs = 3\n",
    "\n",
    "# for epoch in range(num_epochs):\n",
    "#     vit_model.train()\n",
    "#     total_loss = 0.0\n",
    "#     correct = 0  # To keep track of correct predictions\n",
    "#     total = 0  # To keep track of total predictions\n",
    "\n",
    "#     batch_accuracies = []  # To store batch accuracies for the epoch\n",
    "\n",
    "#     for batch_idx, (images, labels) in enumerate(train_loader):\n",
    "#         images, labels = images.to(device), labels.to(device)\n",
    "\n",
    "#         optimizer.zero_grad()\n",
    "#         outputs = vit_model(images)\n",
    "#         loss = criterion(outputs, labels)\n",
    "#         loss.backward()\n",
    "#         optimizer.step()\n",
    "\n",
    "#         total_loss += loss.item()\n",
    "\n",
    "#         # Calculate accuracy\n",
    "#         _, predicted = outputs.max(1)  # Get the index of the max log-probability\n",
    "#         total += labels.size(0)\n",
    "#         correct += predicted.eq(labels).sum().item()\n",
    "\n",
    "#         # Print loss and accuracy for every 584 batches\n",
    "#         if (batch_idx + 1) % 32 == 0:\n",
    "#             batch_accuracy = 100. * correct / total\n",
    "#             batch_accuracies.append(batch_accuracy)  # Store the batch accuracy\n",
    "#             print(f\"Epoch [{epoch+1}/{num_epochs}], Batch [{batch_idx+1}/{len(train_loader)}], Batch Loss: {loss.item():.4f}, Batch Accuracy: {batch_accuracy:.2f}%\")\n",
    "#     scheduler.step()\n",
    "#     avg_loss = total_loss / len(train_loader)\n",
    "#     epoch_accuracy = 100. * correct / total  # Convert to percentage\n",
    "\n",
    "#     # Calculate the average of batch accuracies for the epoch\n",
    "#     avg_batch_accuracy = sum(batch_accuracies) / len(batch_accuracies) if batch_accuracies else 0.0\n",
    "\n",
    "#     print(f\"Epoch [{epoch+1}/{num_epochs}], Average Loss: {avg_loss:.4f}, Epoch Accuracy: {epoch_accuracy:.2f}%, Average Batch Accuracy: {avg_batch_accuracy:.2f}%\")\n"
   ]
  },
  {
   "cell_type": "code",
   "execution_count": null,
   "metadata": {},
   "outputs": [],
   "source": [
    "# from sklearn.metrics import accuracy_score, precision_score, recall_score, f1_score\n",
    "\n",
    "# # Switch the model to evaluation mode\n",
    "# vit_model.eval()\n",
    "\n",
    "# # Initialize lists to store all true labels and all predictions\n",
    "# all_labels = []\n",
    "# all_predictions = []\n",
    "\n",
    "# # Disabling gradient calculation\n",
    "# with torch.no_grad():\n",
    "#     for batch_idx, (images, labels) in enumerate(valid_loader):\n",
    "#         images, labels = images.to(device), labels.to(device)\n",
    "\n",
    "#         # Forward pass\n",
    "#         outputs = vit_model(images)\n",
    "\n",
    "#         # Get predictions\n",
    "#         _, predicted = outputs.max(1)\n",
    "\n",
    "#         # Store predictions and true labels for later calculation of metrics\n",
    "#         all_predictions.extend(predicted.cpu().numpy())\n",
    "#         all_labels.extend(labels.cpu().numpy())\n",
    "\n",
    "#         # Print status for every 175 batches (or another number if you prefer)\n",
    "#         if (batch_idx + 1) % 175 == 0:\n",
    "#             print(f\"Test Batch [{batch_idx+1}/{len(valid_loader)}] Processed\")\n",
    "\n",
    "# # Compute metrics\n",
    "# accuracy = accuracy_score(all_labels, all_predictions)\n",
    "# precision = precision_score(all_labels, all_predictions, average='weighted')  # Using weighted average if you have class imbalance\n",
    "# recall = recall_score(all_labels, all_predictions, average='weighted')  # Using weighted average if you have class imbalance\n",
    "# f1 = f1_score(all_labels, all_predictions, average='weighted')  # Using weighted average if you have class imbalance\n",
    "\n",
    "\n",
    "# print(f\"Test Accuracy: {accuracy:.4f}\")\n",
    "# print(f\"Test Precision: {precision:.4f}\")\n",
    "# print(f\"Test Recall: {recall:.4f}\")\n",
    "# print(f\"Test F1-Score: {f1:.4f}\")\n"
   ]
  },
  {
   "cell_type": "code",
   "execution_count": null,
   "metadata": {},
   "outputs": [],
   "source": [
    "# import torch\n",
    "# save_path = './Vit_mura_phase_3.pth'\n",
    "# torch.save(vit_model,save_path)"
   ]
  },
  {
   "cell_type": "markdown",
   "metadata": {},
   "source": [
    "# Swin Transformer"
   ]
  },
  {
   "cell_type": "code",
   "execution_count": 26,
   "metadata": {},
   "outputs": [],
   "source": [
    "from transformers import SwinForImageClassification"
   ]
  },
  {
   "cell_type": "code",
   "execution_count": 27,
   "metadata": {},
   "outputs": [
    {
     "data": {
      "application/vnd.jupyter.widget-view+json": {
       "model_id": "ea43c745af2540e7818a0099d554cbd0",
       "version_major": 2,
       "version_minor": 0
      },
      "text/plain": [
       "Downloading model.safetensors:   0%|          | 0.00/113M [00:00<?, ?B/s]"
      ]
     },
     "metadata": {},
     "output_type": "display_data"
    }
   ],
   "source": [
    "model = SwinForImageClassification.from_pretrained(\"microsoft/swin-tiny-patch4-window7-224\")"
   ]
  },
  {
   "cell_type": "markdown",
   "metadata": {},
   "source": [
    "# Removing the last layer and adding only 2 output instead of 1000"
   ]
  },
  {
   "cell_type": "code",
   "execution_count": 28,
   "metadata": {},
   "outputs": [
    {
     "data": {
      "text/plain": [
       "SwinForImageClassification(\n",
       "  (swin): SwinModel(\n",
       "    (embeddings): SwinEmbeddings(\n",
       "      (patch_embeddings): SwinPatchEmbeddings(\n",
       "        (projection): Conv2d(3, 96, kernel_size=(4, 4), stride=(4, 4))\n",
       "      )\n",
       "      (norm): LayerNorm((96,), eps=1e-05, elementwise_affine=True)\n",
       "      (dropout): Dropout(p=0.0, inplace=False)\n",
       "    )\n",
       "    (encoder): SwinEncoder(\n",
       "      (layers): ModuleList(\n",
       "        (0): SwinStage(\n",
       "          (blocks): ModuleList(\n",
       "            (0-1): 2 x SwinLayer(\n",
       "              (layernorm_before): LayerNorm((96,), eps=1e-05, elementwise_affine=True)\n",
       "              (attention): SwinAttention(\n",
       "                (self): SwinSelfAttention(\n",
       "                  (query): Linear(in_features=96, out_features=96, bias=True)\n",
       "                  (key): Linear(in_features=96, out_features=96, bias=True)\n",
       "                  (value): Linear(in_features=96, out_features=96, bias=True)\n",
       "                  (dropout): Dropout(p=0.0, inplace=False)\n",
       "                )\n",
       "                (output): SwinSelfOutput(\n",
       "                  (dense): Linear(in_features=96, out_features=96, bias=True)\n",
       "                  (dropout): Dropout(p=0.0, inplace=False)\n",
       "                )\n",
       "              )\n",
       "              (drop_path): SwinDropPath(p=0.1)\n",
       "              (layernorm_after): LayerNorm((96,), eps=1e-05, elementwise_affine=True)\n",
       "              (intermediate): SwinIntermediate(\n",
       "                (dense): Linear(in_features=96, out_features=384, bias=True)\n",
       "                (intermediate_act_fn): GELUActivation()\n",
       "              )\n",
       "              (output): SwinOutput(\n",
       "                (dense): Linear(in_features=384, out_features=96, bias=True)\n",
       "                (dropout): Dropout(p=0.0, inplace=False)\n",
       "              )\n",
       "            )\n",
       "          )\n",
       "          (downsample): SwinPatchMerging(\n",
       "            (reduction): Linear(in_features=384, out_features=192, bias=False)\n",
       "            (norm): LayerNorm((384,), eps=1e-05, elementwise_affine=True)\n",
       "          )\n",
       "        )\n",
       "        (1): SwinStage(\n",
       "          (blocks): ModuleList(\n",
       "            (0-1): 2 x SwinLayer(\n",
       "              (layernorm_before): LayerNorm((192,), eps=1e-05, elementwise_affine=True)\n",
       "              (attention): SwinAttention(\n",
       "                (self): SwinSelfAttention(\n",
       "                  (query): Linear(in_features=192, out_features=192, bias=True)\n",
       "                  (key): Linear(in_features=192, out_features=192, bias=True)\n",
       "                  (value): Linear(in_features=192, out_features=192, bias=True)\n",
       "                  (dropout): Dropout(p=0.0, inplace=False)\n",
       "                )\n",
       "                (output): SwinSelfOutput(\n",
       "                  (dense): Linear(in_features=192, out_features=192, bias=True)\n",
       "                  (dropout): Dropout(p=0.0, inplace=False)\n",
       "                )\n",
       "              )\n",
       "              (drop_path): SwinDropPath(p=0.1)\n",
       "              (layernorm_after): LayerNorm((192,), eps=1e-05, elementwise_affine=True)\n",
       "              (intermediate): SwinIntermediate(\n",
       "                (dense): Linear(in_features=192, out_features=768, bias=True)\n",
       "                (intermediate_act_fn): GELUActivation()\n",
       "              )\n",
       "              (output): SwinOutput(\n",
       "                (dense): Linear(in_features=768, out_features=192, bias=True)\n",
       "                (dropout): Dropout(p=0.0, inplace=False)\n",
       "              )\n",
       "            )\n",
       "          )\n",
       "          (downsample): SwinPatchMerging(\n",
       "            (reduction): Linear(in_features=768, out_features=384, bias=False)\n",
       "            (norm): LayerNorm((768,), eps=1e-05, elementwise_affine=True)\n",
       "          )\n",
       "        )\n",
       "        (2): SwinStage(\n",
       "          (blocks): ModuleList(\n",
       "            (0-5): 6 x SwinLayer(\n",
       "              (layernorm_before): LayerNorm((384,), eps=1e-05, elementwise_affine=True)\n",
       "              (attention): SwinAttention(\n",
       "                (self): SwinSelfAttention(\n",
       "                  (query): Linear(in_features=384, out_features=384, bias=True)\n",
       "                  (key): Linear(in_features=384, out_features=384, bias=True)\n",
       "                  (value): Linear(in_features=384, out_features=384, bias=True)\n",
       "                  (dropout): Dropout(p=0.0, inplace=False)\n",
       "                )\n",
       "                (output): SwinSelfOutput(\n",
       "                  (dense): Linear(in_features=384, out_features=384, bias=True)\n",
       "                  (dropout): Dropout(p=0.0, inplace=False)\n",
       "                )\n",
       "              )\n",
       "              (drop_path): SwinDropPath(p=0.1)\n",
       "              (layernorm_after): LayerNorm((384,), eps=1e-05, elementwise_affine=True)\n",
       "              (intermediate): SwinIntermediate(\n",
       "                (dense): Linear(in_features=384, out_features=1536, bias=True)\n",
       "                (intermediate_act_fn): GELUActivation()\n",
       "              )\n",
       "              (output): SwinOutput(\n",
       "                (dense): Linear(in_features=1536, out_features=384, bias=True)\n",
       "                (dropout): Dropout(p=0.0, inplace=False)\n",
       "              )\n",
       "            )\n",
       "          )\n",
       "          (downsample): SwinPatchMerging(\n",
       "            (reduction): Linear(in_features=1536, out_features=768, bias=False)\n",
       "            (norm): LayerNorm((1536,), eps=1e-05, elementwise_affine=True)\n",
       "          )\n",
       "        )\n",
       "        (3): SwinStage(\n",
       "          (blocks): ModuleList(\n",
       "            (0-1): 2 x SwinLayer(\n",
       "              (layernorm_before): LayerNorm((768,), eps=1e-05, elementwise_affine=True)\n",
       "              (attention): SwinAttention(\n",
       "                (self): SwinSelfAttention(\n",
       "                  (query): Linear(in_features=768, out_features=768, bias=True)\n",
       "                  (key): Linear(in_features=768, out_features=768, bias=True)\n",
       "                  (value): Linear(in_features=768, out_features=768, bias=True)\n",
       "                  (dropout): Dropout(p=0.0, inplace=False)\n",
       "                )\n",
       "                (output): SwinSelfOutput(\n",
       "                  (dense): Linear(in_features=768, out_features=768, bias=True)\n",
       "                  (dropout): Dropout(p=0.0, inplace=False)\n",
       "                )\n",
       "              )\n",
       "              (drop_path): SwinDropPath(p=0.1)\n",
       "              (layernorm_after): LayerNorm((768,), eps=1e-05, elementwise_affine=True)\n",
       "              (intermediate): SwinIntermediate(\n",
       "                (dense): Linear(in_features=768, out_features=3072, bias=True)\n",
       "                (intermediate_act_fn): GELUActivation()\n",
       "              )\n",
       "              (output): SwinOutput(\n",
       "                (dense): Linear(in_features=3072, out_features=768, bias=True)\n",
       "                (dropout): Dropout(p=0.0, inplace=False)\n",
       "              )\n",
       "            )\n",
       "          )\n",
       "        )\n",
       "      )\n",
       "    )\n",
       "    (layernorm): LayerNorm((768,), eps=1e-05, elementwise_affine=True)\n",
       "    (pooler): AdaptiveAvgPool1d(output_size=1)\n",
       "  )\n",
       "  (classifier): Linear(in_features=768, out_features=2, bias=True)\n",
       ")"
      ]
     },
     "execution_count": 28,
     "metadata": {},
     "output_type": "execute_result"
    }
   ],
   "source": [
    "model.classifier = nn.Linear(in_features=768, out_features=2)\n",
    "model"
   ]
  },
  {
   "cell_type": "code",
   "execution_count": 29,
   "metadata": {},
   "outputs": [
    {
     "data": {
      "text/plain": [
       "===================================================================================================================\n",
       "Layer (type:depth-idx)                                            Output Shape              Param #\n",
       "===================================================================================================================\n",
       "SwinForImageClassification                                        [16, 2]                   --\n",
       "├─SwinModel: 1-1                                                  [16, 768]                 --\n",
       "│    └─SwinEmbeddings: 2-1                                        [16, 3136, 96]            --\n",
       "│    │    └─SwinPatchEmbeddings: 3-1                              [16, 3136, 96]            4,704\n",
       "│    │    └─LayerNorm: 3-2                                        [16, 3136, 96]            192\n",
       "│    │    └─Dropout: 3-3                                          [16, 3136, 96]            --\n",
       "│    └─SwinEncoder: 2-2                                           [16, 49, 768]             --\n",
       "│    │    └─ModuleList: 3-4                                       --                        27,512,922\n",
       "│    └─LayerNorm: 2-3                                             [16, 49, 768]             1,536\n",
       "│    └─AdaptiveAvgPool1d: 2-4                                     [16, 768, 1]              --\n",
       "├─Linear: 1-2                                                     [16, 2]                   1,538\n",
       "===================================================================================================================\n",
       "Total params: 27,520,892\n",
       "Trainable params: 27,520,892\n",
       "Non-trainable params: 0\n",
       "Total mult-adds (Units.MEGABYTES): 992.46\n",
       "===================================================================================================================\n",
       "Input size (MB): 9.63\n",
       "Forward/backward pass size (MB): 2196.50\n",
       "Params size (MB): 109.99\n",
       "Estimated Total Size (MB): 2316.13\n",
       "==================================================================================================================="
      ]
     },
     "execution_count": 29,
     "metadata": {},
     "output_type": "execute_result"
    }
   ],
   "source": [
    "# layers = list(swin_model.children())[:-1]\n",
    "# layers.append(nn.Linear(in_features=768,out_features=2))\n",
    "# model = nn.Sequential(*layers)\n",
    "summary(model, input_size=(16, 3, 224, 224))\n"
   ]
  },
  {
   "cell_type": "code",
   "execution_count": 30,
   "metadata": {},
   "outputs": [
    {
     "data": {
      "text/plain": [
       "SwinForImageClassification(\n",
       "  (swin): SwinModel(\n",
       "    (embeddings): SwinEmbeddings(\n",
       "      (patch_embeddings): SwinPatchEmbeddings(\n",
       "        (projection): Conv2d(3, 96, kernel_size=(4, 4), stride=(4, 4))\n",
       "      )\n",
       "      (norm): LayerNorm((96,), eps=1e-05, elementwise_affine=True)\n",
       "      (dropout): Dropout(p=0.0, inplace=False)\n",
       "    )\n",
       "    (encoder): SwinEncoder(\n",
       "      (layers): ModuleList(\n",
       "        (0): SwinStage(\n",
       "          (blocks): ModuleList(\n",
       "            (0-1): 2 x SwinLayer(\n",
       "              (layernorm_before): LayerNorm((96,), eps=1e-05, elementwise_affine=True)\n",
       "              (attention): SwinAttention(\n",
       "                (self): SwinSelfAttention(\n",
       "                  (query): Linear(in_features=96, out_features=96, bias=True)\n",
       "                  (key): Linear(in_features=96, out_features=96, bias=True)\n",
       "                  (value): Linear(in_features=96, out_features=96, bias=True)\n",
       "                  (dropout): Dropout(p=0.0, inplace=False)\n",
       "                )\n",
       "                (output): SwinSelfOutput(\n",
       "                  (dense): Linear(in_features=96, out_features=96, bias=True)\n",
       "                  (dropout): Dropout(p=0.0, inplace=False)\n",
       "                )\n",
       "              )\n",
       "              (drop_path): SwinDropPath(p=0.1)\n",
       "              (layernorm_after): LayerNorm((96,), eps=1e-05, elementwise_affine=True)\n",
       "              (intermediate): SwinIntermediate(\n",
       "                (dense): Linear(in_features=96, out_features=384, bias=True)\n",
       "                (intermediate_act_fn): GELUActivation()\n",
       "              )\n",
       "              (output): SwinOutput(\n",
       "                (dense): Linear(in_features=384, out_features=96, bias=True)\n",
       "                (dropout): Dropout(p=0.0, inplace=False)\n",
       "              )\n",
       "            )\n",
       "          )\n",
       "          (downsample): SwinPatchMerging(\n",
       "            (reduction): Linear(in_features=384, out_features=192, bias=False)\n",
       "            (norm): LayerNorm((384,), eps=1e-05, elementwise_affine=True)\n",
       "          )\n",
       "        )\n",
       "        (1): SwinStage(\n",
       "          (blocks): ModuleList(\n",
       "            (0-1): 2 x SwinLayer(\n",
       "              (layernorm_before): LayerNorm((192,), eps=1e-05, elementwise_affine=True)\n",
       "              (attention): SwinAttention(\n",
       "                (self): SwinSelfAttention(\n",
       "                  (query): Linear(in_features=192, out_features=192, bias=True)\n",
       "                  (key): Linear(in_features=192, out_features=192, bias=True)\n",
       "                  (value): Linear(in_features=192, out_features=192, bias=True)\n",
       "                  (dropout): Dropout(p=0.0, inplace=False)\n",
       "                )\n",
       "                (output): SwinSelfOutput(\n",
       "                  (dense): Linear(in_features=192, out_features=192, bias=True)\n",
       "                  (dropout): Dropout(p=0.0, inplace=False)\n",
       "                )\n",
       "              )\n",
       "              (drop_path): SwinDropPath(p=0.1)\n",
       "              (layernorm_after): LayerNorm((192,), eps=1e-05, elementwise_affine=True)\n",
       "              (intermediate): SwinIntermediate(\n",
       "                (dense): Linear(in_features=192, out_features=768, bias=True)\n",
       "                (intermediate_act_fn): GELUActivation()\n",
       "              )\n",
       "              (output): SwinOutput(\n",
       "                (dense): Linear(in_features=768, out_features=192, bias=True)\n",
       "                (dropout): Dropout(p=0.0, inplace=False)\n",
       "              )\n",
       "            )\n",
       "          )\n",
       "          (downsample): SwinPatchMerging(\n",
       "            (reduction): Linear(in_features=768, out_features=384, bias=False)\n",
       "            (norm): LayerNorm((768,), eps=1e-05, elementwise_affine=True)\n",
       "          )\n",
       "        )\n",
       "        (2): SwinStage(\n",
       "          (blocks): ModuleList(\n",
       "            (0-5): 6 x SwinLayer(\n",
       "              (layernorm_before): LayerNorm((384,), eps=1e-05, elementwise_affine=True)\n",
       "              (attention): SwinAttention(\n",
       "                (self): SwinSelfAttention(\n",
       "                  (query): Linear(in_features=384, out_features=384, bias=True)\n",
       "                  (key): Linear(in_features=384, out_features=384, bias=True)\n",
       "                  (value): Linear(in_features=384, out_features=384, bias=True)\n",
       "                  (dropout): Dropout(p=0.0, inplace=False)\n",
       "                )\n",
       "                (output): SwinSelfOutput(\n",
       "                  (dense): Linear(in_features=384, out_features=384, bias=True)\n",
       "                  (dropout): Dropout(p=0.0, inplace=False)\n",
       "                )\n",
       "              )\n",
       "              (drop_path): SwinDropPath(p=0.1)\n",
       "              (layernorm_after): LayerNorm((384,), eps=1e-05, elementwise_affine=True)\n",
       "              (intermediate): SwinIntermediate(\n",
       "                (dense): Linear(in_features=384, out_features=1536, bias=True)\n",
       "                (intermediate_act_fn): GELUActivation()\n",
       "              )\n",
       "              (output): SwinOutput(\n",
       "                (dense): Linear(in_features=1536, out_features=384, bias=True)\n",
       "                (dropout): Dropout(p=0.0, inplace=False)\n",
       "              )\n",
       "            )\n",
       "          )\n",
       "          (downsample): SwinPatchMerging(\n",
       "            (reduction): Linear(in_features=1536, out_features=768, bias=False)\n",
       "            (norm): LayerNorm((1536,), eps=1e-05, elementwise_affine=True)\n",
       "          )\n",
       "        )\n",
       "        (3): SwinStage(\n",
       "          (blocks): ModuleList(\n",
       "            (0-1): 2 x SwinLayer(\n",
       "              (layernorm_before): LayerNorm((768,), eps=1e-05, elementwise_affine=True)\n",
       "              (attention): SwinAttention(\n",
       "                (self): SwinSelfAttention(\n",
       "                  (query): Linear(in_features=768, out_features=768, bias=True)\n",
       "                  (key): Linear(in_features=768, out_features=768, bias=True)\n",
       "                  (value): Linear(in_features=768, out_features=768, bias=True)\n",
       "                  (dropout): Dropout(p=0.0, inplace=False)\n",
       "                )\n",
       "                (output): SwinSelfOutput(\n",
       "                  (dense): Linear(in_features=768, out_features=768, bias=True)\n",
       "                  (dropout): Dropout(p=0.0, inplace=False)\n",
       "                )\n",
       "              )\n",
       "              (drop_path): SwinDropPath(p=0.1)\n",
       "              (layernorm_after): LayerNorm((768,), eps=1e-05, elementwise_affine=True)\n",
       "              (intermediate): SwinIntermediate(\n",
       "                (dense): Linear(in_features=768, out_features=3072, bias=True)\n",
       "                (intermediate_act_fn): GELUActivation()\n",
       "              )\n",
       "              (output): SwinOutput(\n",
       "                (dense): Linear(in_features=3072, out_features=768, bias=True)\n",
       "                (dropout): Dropout(p=0.0, inplace=False)\n",
       "              )\n",
       "            )\n",
       "          )\n",
       "        )\n",
       "      )\n",
       "    )\n",
       "    (layernorm): LayerNorm((768,), eps=1e-05, elementwise_affine=True)\n",
       "    (pooler): AdaptiveAvgPool1d(output_size=1)\n",
       "  )\n",
       "  (classifier): Linear(in_features=768, out_features=2, bias=True)\n",
       ")"
      ]
     },
     "execution_count": 30,
     "metadata": {},
     "output_type": "execute_result"
    }
   ],
   "source": [
    "model.to(device)"
   ]
  },
  {
   "cell_type": "markdown",
   "metadata": {},
   "source": [
    "# Grid search to find the best learning rate"
   ]
  },
  {
   "cell_type": "code",
   "execution_count": 31,
   "metadata": {},
   "outputs": [],
   "source": [
    "criterion = torch.nn.CrossEntropyLoss()\n",
    "optimizer = torch.optim.Adam(model.parameters(), lr=1e-5)\n",
    "scheduler = torch.optim.lr_scheduler.StepLR(optimizer, step_size=10, gamma=0.7)"
   ]
  },
  {
   "cell_type": "code",
   "execution_count": null,
   "metadata": {},
   "outputs": [],
   "source": [
    "# learning_rates = [0.001, 0.0001,0.00001,0.000001]\n",
    "# best_lr = None\n",
    "# best_accuracy = 0.0\n",
    "\n",
    "# for lr in learning_rates:\n",
    "#     optimizer = torch.optim.Adam(model.parameters(), lr=lr)\n",
    "#     # Initialize and train Swin Transformer with learning rate = lr\n",
    "#     # ...\n",
    "#     # Validate the model\n",
    "#     val_accuracy = validate_model(model, val_data)\n",
    "#     if val_accuracy > best_accuracy:\n",
    "#         best_accuracy = val_accuracy\n",
    "#         best_lr = lr\n",
    "        \n"
   ]
  },
  {
   "cell_type": "code",
   "execution_count": 32,
   "metadata": {},
   "outputs": [
    {
     "name": "stderr",
     "output_type": "stream",
     "text": [
      "c:\\Users\\Hamad\\AppData\\Local\\Programs\\Python\\Python311\\Lib\\site-packages\\torch\\optim\\optimizer.py:243: UserWarning: 'has_cuda' is deprecated, please use 'torch.backends.cuda.is_built()'\n",
      "  if not is_compiling() and torch.has_cuda and torch.cuda.is_available():\n"
     ]
    },
    {
     "name": "stdout",
     "output_type": "stream",
     "text": [
      "Epoch [1/10], Batch [200/2301], Batch Loss: 0.6517, Batch Accuracy: 61.41%\n",
      "Epoch [1/10], Batch [400/2301], Batch Loss: 0.6249, Batch Accuracy: 65.03%\n",
      "Epoch [1/10], Batch [600/2301], Batch Loss: 0.5746, Batch Accuracy: 66.56%\n",
      "Epoch [1/10], Batch [800/2301], Batch Loss: 0.4697, Batch Accuracy: 68.22%\n",
      "Epoch [1/10], Batch [1000/2301], Batch Loss: 0.5457, Batch Accuracy: 69.26%\n",
      "Epoch [1/10], Batch [1200/2301], Batch Loss: 0.5886, Batch Accuracy: 70.41%\n",
      "Epoch [1/10], Batch [1400/2301], Batch Loss: 0.5968, Batch Accuracy: 71.14%\n",
      "Epoch [1/10], Batch [1600/2301], Batch Loss: 0.4514, Batch Accuracy: 71.74%\n",
      "Epoch [1/10], Batch [1800/2301], Batch Loss: 0.4458, Batch Accuracy: 72.50%\n",
      "Epoch [1/10], Batch [2000/2301], Batch Loss: 0.4485, Batch Accuracy: 72.92%\n",
      "Epoch [1/10], Batch [2200/2301], Batch Loss: 0.4858, Batch Accuracy: 73.34%\n",
      "Epoch [1/10], Average Loss: 0.5350, Epoch Accuracy: 73.49%, Average Batch Accuracy: 69.32%\n",
      "Epoch [2/10], Batch [200/2301], Batch Loss: 0.6851, Batch Accuracy: 77.75%\n",
      "Epoch [2/10], Batch [400/2301], Batch Loss: 0.3354, Batch Accuracy: 78.25%\n",
      "Epoch [2/10], Batch [600/2301], Batch Loss: 0.5771, Batch Accuracy: 78.45%\n",
      "Epoch [2/10], Batch [800/2301], Batch Loss: 0.4476, Batch Accuracy: 78.66%\n",
      "Epoch [2/10], Batch [1000/2301], Batch Loss: 0.5315, Batch Accuracy: 78.54%\n",
      "Epoch [2/10], Batch [1200/2301], Batch Loss: 0.4760, Batch Accuracy: 78.44%\n",
      "Epoch [2/10], Batch [1400/2301], Batch Loss: 0.5619, Batch Accuracy: 78.67%\n",
      "Epoch [2/10], Batch [1600/2301], Batch Loss: 0.3897, Batch Accuracy: 78.79%\n",
      "Epoch [2/10], Batch [1800/2301], Batch Loss: 0.3776, Batch Accuracy: 78.73%\n",
      "Epoch [2/10], Batch [2000/2301], Batch Loss: 0.5768, Batch Accuracy: 78.74%\n",
      "Epoch [2/10], Batch [2200/2301], Batch Loss: 0.5561, Batch Accuracy: 78.77%\n",
      "Epoch [2/10], Average Loss: 0.4676, Epoch Accuracy: 78.80%, Average Batch Accuracy: 78.53%\n",
      "Epoch [3/10], Batch [200/2301], Batch Loss: 0.3576, Batch Accuracy: 80.41%\n",
      "Epoch [3/10], Batch [400/2301], Batch Loss: 0.4333, Batch Accuracy: 80.66%\n",
      "Epoch [3/10], Batch [600/2301], Batch Loss: 0.5897, Batch Accuracy: 80.51%\n",
      "Epoch [3/10], Batch [800/2301], Batch Loss: 0.6577, Batch Accuracy: 80.39%\n",
      "Epoch [3/10], Batch [1000/2301], Batch Loss: 0.4576, Batch Accuracy: 80.26%\n",
      "Epoch [3/10], Batch [1200/2301], Batch Loss: 0.3228, Batch Accuracy: 80.09%\n",
      "Epoch [3/10], Batch [1400/2301], Batch Loss: 0.4113, Batch Accuracy: 80.08%\n",
      "Epoch [3/10], Batch [1600/2301], Batch Loss: 0.4700, Batch Accuracy: 79.98%\n",
      "Epoch [3/10], Batch [1800/2301], Batch Loss: 0.5322, Batch Accuracy: 80.08%\n",
      "Epoch [3/10], Batch [2000/2301], Batch Loss: 0.2682, Batch Accuracy: 80.14%\n",
      "Epoch [3/10], Batch [2200/2301], Batch Loss: 0.4717, Batch Accuracy: 80.21%\n",
      "Epoch [3/10], Average Loss: 0.4430, Epoch Accuracy: 80.30%, Average Batch Accuracy: 80.26%\n",
      "Epoch [4/10], Batch [200/2301], Batch Loss: 0.2350, Batch Accuracy: 81.44%\n",
      "Epoch [4/10], Batch [400/2301], Batch Loss: 0.2112, Batch Accuracy: 81.42%\n",
      "Epoch [4/10], Batch [600/2301], Batch Loss: 0.9064, Batch Accuracy: 81.86%\n",
      "Epoch [4/10], Batch [800/2301], Batch Loss: 0.3714, Batch Accuracy: 81.81%\n",
      "Epoch [4/10], Batch [1000/2301], Batch Loss: 0.2557, Batch Accuracy: 81.69%\n",
      "Epoch [4/10], Batch [1200/2301], Batch Loss: 0.3205, Batch Accuracy: 81.71%\n",
      "Epoch [4/10], Batch [1400/2301], Batch Loss: 0.4700, Batch Accuracy: 81.62%\n",
      "Epoch [4/10], Batch [1600/2301], Batch Loss: 0.2395, Batch Accuracy: 81.46%\n",
      "Epoch [4/10], Batch [1800/2301], Batch Loss: 0.2176, Batch Accuracy: 81.30%\n",
      "Epoch [4/10], Batch [2000/2301], Batch Loss: 0.2323, Batch Accuracy: 81.40%\n",
      "Epoch [4/10], Batch [2200/2301], Batch Loss: 0.6692, Batch Accuracy: 81.31%\n",
      "Epoch [4/10], Average Loss: 0.4264, Epoch Accuracy: 81.26%, Average Batch Accuracy: 81.55%\n",
      "Epoch [5/10], Batch [200/2301], Batch Loss: 0.3618, Batch Accuracy: 83.38%\n",
      "Epoch [5/10], Batch [400/2301], Batch Loss: 0.4927, Batch Accuracy: 82.75%\n",
      "Epoch [5/10], Batch [600/2301], Batch Loss: 0.3800, Batch Accuracy: 82.92%\n",
      "Epoch [5/10], Batch [800/2301], Batch Loss: 0.3760, Batch Accuracy: 82.67%\n",
      "Epoch [5/10], Batch [1000/2301], Batch Loss: 0.1339, Batch Accuracy: 82.66%\n",
      "Epoch [5/10], Batch [1200/2301], Batch Loss: 0.3670, Batch Accuracy: 82.56%\n",
      "Epoch [5/10], Batch [1400/2301], Batch Loss: 0.4521, Batch Accuracy: 82.42%\n",
      "Epoch [5/10], Batch [1600/2301], Batch Loss: 0.4482, Batch Accuracy: 82.27%\n",
      "Epoch [5/10], Batch [1800/2301], Batch Loss: 0.5770, Batch Accuracy: 82.21%\n",
      "Epoch [5/10], Batch [2000/2301], Batch Loss: 0.3034, Batch Accuracy: 82.22%\n",
      "Epoch [5/10], Batch [2200/2301], Batch Loss: 0.4646, Batch Accuracy: 82.20%\n",
      "Epoch [5/10], Average Loss: 0.4095, Epoch Accuracy: 82.23%, Average Batch Accuracy: 82.57%\n",
      "Epoch [6/10], Batch [200/2301], Batch Loss: 0.3353, Batch Accuracy: 82.84%\n",
      "Epoch [6/10], Batch [400/2301], Batch Loss: 0.6048, Batch Accuracy: 82.64%\n",
      "Epoch [6/10], Batch [600/2301], Batch Loss: 0.4404, Batch Accuracy: 82.64%\n",
      "Epoch [6/10], Batch [800/2301], Batch Loss: 0.3051, Batch Accuracy: 82.69%\n",
      "Epoch [6/10], Batch [1000/2301], Batch Loss: 0.3344, Batch Accuracy: 82.59%\n",
      "Epoch [6/10], Batch [1200/2301], Batch Loss: 0.2664, Batch Accuracy: 82.73%\n",
      "Epoch [6/10], Batch [1400/2301], Batch Loss: 0.3295, Batch Accuracy: 82.70%\n",
      "Epoch [6/10], Batch [1600/2301], Batch Loss: 0.2869, Batch Accuracy: 82.69%\n",
      "Epoch [6/10], Batch [1800/2301], Batch Loss: 0.4361, Batch Accuracy: 82.55%\n",
      "Epoch [6/10], Batch [2000/2301], Batch Loss: 0.3423, Batch Accuracy: 82.67%\n",
      "Epoch [6/10], Batch [2200/2301], Batch Loss: 0.3506, Batch Accuracy: 82.56%\n",
      "Epoch [6/10], Average Loss: 0.4006, Epoch Accuracy: 82.63%, Average Batch Accuracy: 82.66%\n",
      "Epoch [7/10], Batch [200/2301], Batch Loss: 0.1952, Batch Accuracy: 82.97%\n",
      "Epoch [7/10], Batch [400/2301], Batch Loss: 0.5676, Batch Accuracy: 83.28%\n",
      "Epoch [7/10], Batch [600/2301], Batch Loss: 0.4644, Batch Accuracy: 83.31%\n",
      "Epoch [7/10], Batch [800/2301], Batch Loss: 0.5941, Batch Accuracy: 83.39%\n",
      "Epoch [7/10], Batch [1000/2301], Batch Loss: 0.4067, Batch Accuracy: 83.39%\n",
      "Epoch [7/10], Batch [1200/2301], Batch Loss: 0.4246, Batch Accuracy: 83.31%\n",
      "Epoch [7/10], Batch [1400/2301], Batch Loss: 0.2267, Batch Accuracy: 83.43%\n",
      "Epoch [7/10], Batch [1600/2301], Batch Loss: 0.5056, Batch Accuracy: 83.42%\n",
      "Epoch [7/10], Batch [1800/2301], Batch Loss: 0.5539, Batch Accuracy: 83.42%\n",
      "Epoch [7/10], Batch [2000/2301], Batch Loss: 0.4329, Batch Accuracy: 83.43%\n",
      "Epoch [7/10], Batch [2200/2301], Batch Loss: 0.4697, Batch Accuracy: 83.36%\n",
      "Epoch [7/10], Average Loss: 0.3873, Epoch Accuracy: 83.38%, Average Batch Accuracy: 83.34%\n",
      "Epoch [8/10], Batch [200/2301], Batch Loss: 0.4207, Batch Accuracy: 82.94%\n",
      "Epoch [8/10], Batch [400/2301], Batch Loss: 0.5280, Batch Accuracy: 83.75%\n",
      "Epoch [8/10], Batch [600/2301], Batch Loss: 0.3012, Batch Accuracy: 83.90%\n",
      "Epoch [8/10], Batch [800/2301], Batch Loss: 0.5001, Batch Accuracy: 83.89%\n",
      "Epoch [8/10], Batch [1000/2301], Batch Loss: 0.7128, Batch Accuracy: 84.19%\n",
      "Epoch [8/10], Batch [1200/2301], Batch Loss: 0.4240, Batch Accuracy: 84.02%\n",
      "Epoch [8/10], Batch [1400/2301], Batch Loss: 0.4298, Batch Accuracy: 83.93%\n",
      "Epoch [8/10], Batch [1600/2301], Batch Loss: 0.3033, Batch Accuracy: 84.00%\n",
      "Epoch [8/10], Batch [1800/2301], Batch Loss: 0.3494, Batch Accuracy: 84.02%\n",
      "Epoch [8/10], Batch [2000/2301], Batch Loss: 0.3298, Batch Accuracy: 84.06%\n",
      "Epoch [8/10], Batch [2200/2301], Batch Loss: 0.2893, Batch Accuracy: 84.03%\n",
      "Epoch [8/10], Average Loss: 0.3743, Epoch Accuracy: 84.01%, Average Batch Accuracy: 83.88%\n",
      "Epoch [9/10], Batch [200/2301], Batch Loss: 0.3735, Batch Accuracy: 85.09%\n",
      "Epoch [9/10], Batch [400/2301], Batch Loss: 0.1532, Batch Accuracy: 84.97%\n",
      "Epoch [9/10], Batch [600/2301], Batch Loss: 0.4492, Batch Accuracy: 85.16%\n",
      "Epoch [9/10], Batch [800/2301], Batch Loss: 0.2327, Batch Accuracy: 85.01%\n",
      "Epoch [9/10], Batch [1000/2301], Batch Loss: 0.5458, Batch Accuracy: 84.88%\n",
      "Epoch [9/10], Batch [1200/2301], Batch Loss: 0.4312, Batch Accuracy: 84.84%\n",
      "Epoch [9/10], Batch [1400/2301], Batch Loss: 0.2345, Batch Accuracy: 84.77%\n",
      "Epoch [9/10], Batch [1600/2301], Batch Loss: 0.3078, Batch Accuracy: 84.64%\n",
      "Epoch [9/10], Batch [1800/2301], Batch Loss: 0.3574, Batch Accuracy: 84.59%\n",
      "Epoch [9/10], Batch [2000/2301], Batch Loss: 0.2882, Batch Accuracy: 84.65%\n",
      "Epoch [9/10], Batch [2200/2301], Batch Loss: 0.4105, Batch Accuracy: 84.54%\n",
      "Epoch [9/10], Average Loss: 0.3610, Epoch Accuracy: 84.55%, Average Batch Accuracy: 84.83%\n",
      "Epoch [10/10], Batch [200/2301], Batch Loss: 0.1755, Batch Accuracy: 84.69%\n",
      "Epoch [10/10], Batch [400/2301], Batch Loss: 0.2178, Batch Accuracy: 85.00%\n",
      "Epoch [10/10], Batch [600/2301], Batch Loss: 0.2956, Batch Accuracy: 85.16%\n",
      "Epoch [10/10], Batch [800/2301], Batch Loss: 0.2290, Batch Accuracy: 85.19%\n",
      "Epoch [10/10], Batch [1000/2301], Batch Loss: 0.1943, Batch Accuracy: 85.17%\n",
      "Epoch [10/10], Batch [1200/2301], Batch Loss: 0.3795, Batch Accuracy: 85.23%\n",
      "Epoch [10/10], Batch [1400/2301], Batch Loss: 0.1605, Batch Accuracy: 85.31%\n",
      "Epoch [10/10], Batch [1600/2301], Batch Loss: 0.2030, Batch Accuracy: 85.16%\n",
      "Epoch [10/10], Batch [1800/2301], Batch Loss: 0.3093, Batch Accuracy: 85.30%\n",
      "Epoch [10/10], Batch [2000/2301], Batch Loss: 0.5471, Batch Accuracy: 85.28%\n",
      "Epoch [10/10], Batch [2200/2301], Batch Loss: 0.3789, Batch Accuracy: 85.19%\n",
      "Epoch [10/10], Average Loss: 0.3497, Epoch Accuracy: 85.21%, Average Batch Accuracy: 85.15%\n"
     ]
    }
   ],
   "source": [
    "num_epochs = 10\n",
    "\n",
    "for epoch in range(num_epochs):\n",
    "    model.train()\n",
    "    total_loss = 0.0\n",
    "    correct = 0  # To keep track of correct predictions\n",
    "    total = 0  # To keep track of total predictions\n",
    "\n",
    "    batch_accuracies = []  # To store batch accuracies for the epoch\n",
    "\n",
    "    for batch_idx, (images, labels) in enumerate(train_loader):\n",
    "        images, labels = images.to(device), labels.to(device)\n",
    "\n",
    "        optimizer.zero_grad()\n",
    "        outputs = model(images)\n",
    "        logits = outputs.logits  # Extract the logits\n",
    "        loss = criterion(logits, labels) \n",
    "        loss.backward()\n",
    "        optimizer.step()\n",
    "\n",
    "        total_loss += loss.item()\n",
    "\n",
    "        \n",
    "        _, predicted = logits.max(1)  # Get the index of the max log-probability\n",
    "        total += labels.size(0)\n",
    "        correct += predicted.eq(labels).sum().item()\n",
    "\n",
    "        # Print loss and accuracy for every 200 batches\n",
    "        if (batch_idx + 1) % 200 == 0:\n",
    "            batch_accuracy = 100. * correct / total\n",
    "            batch_accuracies.append(batch_accuracy)  # Store the batch accuracy\n",
    "            print(f\"Epoch [{epoch+1}/{num_epochs}], Batch [{batch_idx+1}/{len(train_loader)}], Batch Loss: {loss.item():.4f}, Batch Accuracy: {batch_accuracy:.2f}%\")\n",
    "    scheduler.step()\n",
    "    avg_loss = total_loss / len(train_loader)\n",
    "    epoch_accuracy = 100. * correct / total  # Convert to percentage\n",
    "\n",
    "    # Calculate the average of batch accuracies for the epoch\n",
    "    avg_batch_accuracy = sum(batch_accuracies) / len(batch_accuracies) if batch_accuracies else 0.0\n",
    "\n",
    "    print(f\"Epoch [{epoch+1}/{num_epochs}], Average Loss: {avg_loss:.4f}, Epoch Accuracy: {epoch_accuracy:.2f}%, Average Batch Accuracy: {avg_batch_accuracy:.2f}%\")\n"
   ]
  },
  {
   "cell_type": "code",
   "execution_count": null,
   "metadata": {},
   "outputs": [
    {
     "data": {
      "text/plain": [
       "100"
      ]
     },
     "execution_count": 26,
     "metadata": {},
     "output_type": "execute_result"
    }
   ],
   "source": [
    "len(valid_loader)"
   ]
  },
  {
   "cell_type": "code",
   "execution_count": 33,
   "metadata": {},
   "outputs": [
    {
     "name": "stdout",
     "output_type": "stream",
     "text": [
      "Test Batch [100/200] Processed\n",
      "Test Batch [200/200] Processed\n",
      "Test Accuracy: 0.8186\n",
      "Test Precision: 0.8868\n",
      "Test Recall: 0.7118\n",
      "Test F1-Score: 0.7897\n"
     ]
    }
   ],
   "source": [
    "from sklearn.metrics import accuracy_score, precision_score, recall_score, f1_score\n",
    "\n",
    "# Switch the model to evaluation mode\n",
    "model.eval()\n",
    "\n",
    "# Initialize lists to store all true labels and all predictions\n",
    "all_labels = []\n",
    "all_predictions = []    \n",
    "\n",
    "# Disabling gradient calculation\n",
    "with torch.no_grad():\n",
    "    for batch_idx, (images, labels) in enumerate(valid_loader):\n",
    "        images, labels = images.to(device), labels.to(device)\n",
    "\n",
    "        # Forward pass\n",
    "        outputs = model(images)  \n",
    "        logits = outputs.logits\n",
    "\n",
    "        # Get predictions\n",
    "        _, predicted = logits.max(1)\n",
    "\n",
    "        # Store predictions and true labels for later calculation of metrics\n",
    "        all_predictions.extend(predicted.cpu().numpy())\n",
    "        all_labels.extend(labels.cpu().numpy())\n",
    "\n",
    "        # Print status for every 50 batches (or another number if you prefer)\n",
    "        if (batch_idx + 1) % 100 == 0:\n",
    "            print(f\"Test Batch [{batch_idx+1}/{len(valid_loader)}] Processed\")\n",
    "\n",
    "\n",
    "# Compute metrics\n",
    "accuracy = accuracy_score(all_labels, all_predictions)\n",
    "precision = precision_score(all_labels, all_predictions)  # Using weighted average if you have class imbalance\n",
    "recall = recall_score(all_labels, all_predictions)  # Using weighted average if you have class imbalance\n",
    "f1 = f1_score(all_labels, all_predictions)  # Using weighted average if you have class imbalance\n",
    "\n",
    "\n",
    "print(f\"Test Accuracy: {accuracy:.4f}\")\n",
    "print(f\"Test Precision: {precision:.4f}\")\n",
    "print(f\"Test Recall: {recall:.4f}\")\n",
    "print(f\"Test F1-Score: {f1:.4f}\")\n",
    "\n"
   ]
  },
  {
   "cell_type": "markdown",
   "metadata": {},
   "source": [
    "7 epochs reuslt:\n",
    "# Test Accuracy: 0.8017\n",
    "# Test Precision: 0.8810\n",
    "# Test Recall: 0.6771\n",
    "# Test F1-Score: 0.7657\n"
   ]
  },
  {
   "cell_type": "code",
   "execution_count": 34,
   "metadata": {},
   "outputs": [],
   "source": [
    "import torch\n",
    "save_path = './SWIN_mura_phase_3_p2_10epoch.pth'\n",
    "torch.save(model,save_path)"
   ]
  }
 ],
 "metadata": {
  "kernelspec": {
   "display_name": "Python 3",
   "language": "python",
   "name": "python3"
  },
  "language_info": {
   "codemirror_mode": {
    "name": "ipython",
    "version": 3
   },
   "file_extension": ".py",
   "mimetype": "text/x-python",
   "name": "python",
   "nbconvert_exporter": "python",
   "pygments_lexer": "ipython3",
   "version": "3.11.4"
  },
  "orig_nbformat": 4
 },
 "nbformat": 4,
 "nbformat_minor": 2
}
