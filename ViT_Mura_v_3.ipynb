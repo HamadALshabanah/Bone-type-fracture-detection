{
 "cells": [
  {
   "cell_type": "code",
   "execution_count": 2,
   "metadata": {},
   "outputs": [
    {
     "name": "stdout",
     "output_type": "stream",
     "text": [
      "Requirement already satisfied: torchinfo in c:\\users\\hamad\\appdata\\local\\programs\\python\\python311\\lib\\site-packages (1.8.0)Note: you may need to restart the kernel to use updated packages.\n"
     ]
    },
    {
     "name": "stderr",
     "output_type": "stream",
     "text": [
      "\n",
      "[notice] A new release of pip is available: 23.2 -> 23.2.1\n",
      "[notice] To update, run: python.exe -m pip install --upgrade pip\n"
     ]
    },
    {
     "name": "stdout",
     "output_type": "stream",
     "text": [
      "\n"
     ]
    }
   ],
   "source": [
    "%pip install torchinfo"
   ]
  },
  {
   "cell_type": "code",
   "execution_count": 1,
   "metadata": {},
   "outputs": [],
   "source": [
    "import torch\n",
    "from torchvision import transforms, utils\n",
    "import matplotlib.pyplot as plt\n",
    "from PIL import Image\n",
    "import os\n",
    "import pandas as pd\n",
    "import numpy as np\n",
    "import torch.nn as nn\n",
    "from torchinfo import summary\n",
    "from sklearn.model_selection import GridSearchCV\n",
    "from skorch import NeuralNetClassifier\n"
   ]
  },
  {
   "cell_type": "code",
   "execution_count": 2,
   "metadata": {},
   "outputs": [],
   "source": [
    "path = './MURA-v1.1/'\n",
    "train_image_paths_csv = \"train_image_paths.csv\"\n",
    "df_train_images_paths = pd.read_csv(os.path.join(path,train_image_paths_csv),dtype=str,header=None)\n",
    "df_train_images_paths.columns = ['image_path']"
   ]
  },
  {
   "cell_type": "code",
   "execution_count": 3,
   "metadata": {},
   "outputs": [],
   "source": [
    "df_train_images_paths['label'] = df_train_images_paths['image_path'].map(lambda x: 'positive' if 'positive' in x else 'negative')\n",
    "df_train_images_paths['category'] = df_train_images_paths['image_path'].apply(lambda x: x.split('/')[2])\n",
    "#df_train_images_paths['patientId'] = df_train_images_paths['image_path'].apply(lambda x: x.split('/')[3].replace('patient',''))"
   ]
  },
  {
   "cell_type": "code",
   "execution_count": 4,
   "metadata": {},
   "outputs": [],
   "source": [
    "valid_image_paths_csv = \"valid_image_paths.csv\"\n",
    "df_valid_data_paths = pd.read_csv(os.path.join(path,valid_image_paths_csv),dtype=str,header=None)\n",
    "df_valid_data_paths.columns = ['image_path']"
   ]
  },
  {
   "cell_type": "code",
   "execution_count": 5,
   "metadata": {},
   "outputs": [],
   "source": [
    "df_valid_data_paths['label'] = df_valid_data_paths['image_path'].map(lambda x:'positive' if 'positive' in x else 'negative')\n",
    "df_valid_data_paths['category']  = df_valid_data_paths['image_path'].apply(lambda x: x.split('/')[2])\n",
    "#df_valid_data_paths['dir'] =  df_valid_data_paths['image_path'].apply(lambda x: x.split('/')[1])\n",
    "#df_valid_data_paths['patientId']  = df_valid_data_paths['image_path'].apply(lambda x: x.split('/')[3].replace('patient',''))"
   ]
  },
  {
   "cell_type": "code",
   "execution_count": null,
   "metadata": {},
   "outputs": [],
   "source": [
    "df_train_images_paths.head()"
   ]
  },
  {
   "cell_type": "code",
   "execution_count": null,
   "metadata": {},
   "outputs": [],
   "source": [
    "df_valid_data_paths.head()"
   ]
  },
  {
   "cell_type": "code",
   "execution_count": 11,
   "metadata": {},
   "outputs": [],
   "source": [
    "def splitByRatio(dataframe,n_samples = int):\n",
    "    balanced_df = pd.DataFrame()\n",
    "    for category in dataframe[\"category\"].unique():\n",
    "        # Filter the DataFrame by category\n",
    "        sub_df = dataframe[dataframe[\"category\"] == category]\n",
    "\n",
    "        # Filter positive and negative samples\n",
    "        pos_samples = sub_df[sub_df[\"label\"] == 'positive'].sample(n=n_samples)\n",
    "        neg_samples = sub_df[sub_df[\"label\"] == 'negative'].sample(n=n_samples)\n",
    "\n",
    "        # Concatenate positive and negative samples\n",
    "        balanced_sub_df = pd.concat([pos_samples, neg_samples])\n",
    "\n",
    "        # Add to the final balanced DataFrame\n",
    "        balanced_df = pd.concat([balanced_df, balanced_sub_df])\n",
    "\n",
    "    return balanced_df"
   ]
  },
  {
   "cell_type": "code",
   "execution_count": 15,
   "metadata": {},
   "outputs": [],
   "source": [
    "train_balanced = splitByRatio(df_train_images_paths,500)\n",
    "train_balanced = train_balanced.reset_index(drop=True)\n"
   ]
  },
  {
   "cell_type": "code",
   "execution_count": 16,
   "metadata": {},
   "outputs": [],
   "source": [
    "valid_balanced = splitByRatio(df_valid_data_paths,100)\n",
    "valid_balanced = valid_balanced.reset_index(drop=True)\n"
   ]
  },
  {
   "cell_type": "code",
   "execution_count": 19,
   "metadata": {},
   "outputs": [],
   "source": [
    "filtered_df = df_train_images_paths.loc[df_train_images_paths['label'] == 'negative']\n",
    "filtered_df = filtered_df.reset_index(drop=True)\n"
   ]
  },
  {
   "cell_type": "code",
   "execution_count": null,
   "metadata": {},
   "outputs": [],
   "source": [
    "filtered_df.head()"
   ]
  },
  {
   "cell_type": "code",
   "execution_count": 37,
   "metadata": {},
   "outputs": [],
   "source": [
    "df_train_images_paths[\"label\"] = df_train_images_paths[\"label\"].replace({'positive': 1, 'negative': 0})\n"
   ]
  },
  {
   "cell_type": "code",
   "execution_count": 17,
   "metadata": {},
   "outputs": [],
   "source": [
    "train_balanced[\"label\"] = train_balanced[\"label\"].replace({'positive': 1, 'negative': 0})\n"
   ]
  },
  {
   "cell_type": "code",
   "execution_count": 38,
   "metadata": {},
   "outputs": [],
   "source": [
    "df_valid_data_paths[\"label\"] = df_valid_data_paths[\"label\"].replace({'positive': 1, 'negative': 0})\n"
   ]
  },
  {
   "cell_type": "code",
   "execution_count": 18,
   "metadata": {},
   "outputs": [],
   "source": [
    "valid_balanced[\"label\"] = valid_balanced[\"label\"].replace({'positive': 1, 'negative': 0})\n"
   ]
  },
  {
   "cell_type": "markdown",
   "metadata": {},
   "source": [
    "# Feautre extraction"
   ]
  },
  {
   "cell_type": "code",
   "execution_count": 24,
   "metadata": {},
   "outputs": [],
   "source": [
    "%matplotlib inline"
   ]
  },
  {
   "cell_type": "code",
   "execution_count": null,
   "metadata": {},
   "outputs": [],
   "source": [
    "%pip install scikit-image"
   ]
  },
  {
   "cell_type": "markdown",
   "metadata": {},
   "source": [
    "## HOG"
   ]
  },
  {
   "cell_type": "code",
   "execution_count": 20,
   "metadata": {},
   "outputs": [],
   "source": [
    "from skimage.feature import hog\n",
    "from skimage.feature import canny\n",
    "from skimage.filters import prewitt\n",
    "from skimage.filters import gabor\n",
    "from skimage.filters import sobel\n",
    "from skimage.filters import butterworth\n",
    "from skimage.filters import gaussian\n",
    "from skimage.filters import hessian\n",
    "from skimage.filters import median\n",
    "from skimage import exposure\n",
    "\n",
    "\n",
    "\n",
    "\n",
    "import random"
   ]
  },
  {
   "cell_type": "code",
   "execution_count": null,
   "metadata": {},
   "outputs": [],
   "source": [
    "idx = random.randint(0, filtered_df.__len__())\n",
    "img = plt.imread(filtered_df['image_path'][idx])\n",
    "plt.imshow(img)\n",
    "img.shape"
   ]
  },
  {
   "cell_type": "code",
   "execution_count": null,
   "metadata": {},
   "outputs": [],
   "source": [
    "equalized_img = exposure.equalize_adapthist(img, clip_limit=0.02)\n",
    "plt.imshow(equalized_img)"
   ]
  },
  {
   "cell_type": "code",
   "execution_count": null,
   "metadata": {},
   "outputs": [],
   "source": [
    "fd, hog_image = hog(equalized_img, orientations=9, pixels_per_cell=(2, 2),\n",
    "                    cells_per_block=(1, 1), visualize=True)\n",
    "plt.imshow(hog_image)\n",
    "fd.shape"
   ]
  },
  {
   "cell_type": "markdown",
   "metadata": {},
   "source": [
    "## Prewitt"
   ]
  },
  {
   "cell_type": "code",
   "execution_count": null,
   "metadata": {},
   "outputs": [],
   "source": [
    "edge_prewitt = prewitt(equalized_img)\n",
    "plt.imshow(edge_prewitt)"
   ]
  },
  {
   "cell_type": "markdown",
   "metadata": {},
   "source": [
    "## Gabor Filter\n"
   ]
  },
  {
   "cell_type": "code",
   "execution_count": null,
   "metadata": {},
   "outputs": [],
   "source": [
    "filt_real, gabor_filter = gabor(equalized_img,frequency=0.1)\n",
    "\n",
    "plt.imshow(gabor_filter)"
   ]
  },
  {
   "cell_type": "markdown",
   "metadata": {},
   "source": [
    "## Canny"
   ]
  },
  {
   "cell_type": "code",
   "execution_count": null,
   "metadata": {},
   "outputs": [],
   "source": [
    "Canny_edge = canny(equalized_img,sigma=0)\n",
    "plt.imshow(Canny_edge)"
   ]
  },
  {
   "cell_type": "markdown",
   "metadata": {},
   "source": [
    "## Sobel\n"
   ]
  },
  {
   "cell_type": "code",
   "execution_count": null,
   "metadata": {},
   "outputs": [],
   "source": [
    "sobel_edge = sobel(equalized_img)\n",
    "plt.imshow(sobel_edge)"
   ]
  },
  {
   "cell_type": "code",
   "execution_count": null,
   "metadata": {},
   "outputs": [],
   "source": [
    "butterworth_img = butterworth(equalized_img)\n",
    "plt.imshow(butterworth_img)"
   ]
  },
  {
   "cell_type": "code",
   "execution_count": null,
   "metadata": {},
   "outputs": [],
   "source": [
    "gaussian_img = gaussian(equalized_img)\n",
    "plt.imshow(gaussian_img)"
   ]
  },
  {
   "cell_type": "code",
   "execution_count": null,
   "metadata": {},
   "outputs": [],
   "source": [
    "hessian_img = hessian(equalized_img)\n",
    "plt.imshow(img)"
   ]
  },
  {
   "cell_type": "code",
   "execution_count": null,
   "metadata": {},
   "outputs": [],
   "source": [
    "laplace_img = median(equalized_img)\n",
    "plt.imshow(img)"
   ]
  },
  {
   "cell_type": "code",
   "execution_count": 48,
   "metadata": {},
   "outputs": [],
   "source": [
    "from torch.utils.data import Dataset\n",
    "from skimage import img_as_ubyte\n",
    "from skimage.color import rgb2gray\n",
    "class MuraDataset(Dataset):\n",
    "    def __init__(self, image_paths, labels, transform=None, device='cpu'):\n",
    "        self.image_paths = image_paths\n",
    "        self.labels = labels\n",
    "        self.transform = transform\n",
    "        self.device = device\n",
    "\n",
    "    def __len__(self):\n",
    "        return len(self.image_paths)\n",
    "\n",
    "    def __getitem__(self, idx):\n",
    "        if torch.is_tensor(idx):\n",
    "            idx = idx.item()\n",
    "        \n",
    "        img_path = self.image_paths[idx]\n",
    "        image = Image.open(img_path)\n",
    "        image = image.convert('RGB')\n",
    "        \n",
    "        # Convert PIL Image to numpy array\n",
    "        image_np = np.array(image)\n",
    "        \n",
    "        image_gray = rgb2gray(image_np)\n",
    "        \n",
    "        # Apply adaptive histogram equalization\n",
    "        image_gray = exposure.equalize_adapthist(image_gray, clip_limit=0.02)\n",
    "\n",
    "        \n",
    "        # Apply Butterworth filter\n",
    "        image_butterworth = butterworth(image_gray)\n",
    "\n",
    "        \n",
    "        # Apply Gaussian filter\n",
    "        image_gaussian = gaussian(image_gray)\n",
    "        \n",
    "        # Combine the two images into one (stack them along the last axis)\n",
    "        # Create a 3 channel image from the butterworth and gaussian filtered images\n",
    "        image_combined = np.stack([image_butterworth, image_gaussian, image_gray], axis=-1)\n",
    "        \n",
    "        image_combined = (image_combined - np.min(image_combined)) / (np.max(image_combined) - np.min(image_combined))\n",
    "        \n",
    "        # Convert to 8-bit image for PIL\n",
    "        image_combined = img_as_ubyte(image_combined)\n",
    "        \n",
    "        # Convert numpy array back to PIL Image\n",
    "        image = Image.fromarray(image_combined)\n",
    "        \n",
    "        label = self.labels[idx]\n",
    "        \n",
    "        if self.transform:\n",
    "            image = self.transform(image)\n",
    "        \n",
    "        image = image.to(self.device)\n",
    "        \n",
    "        label = torch.tensor(label).to(self.device)\n",
    "\n",
    "        return image, label\n"
   ]
  },
  {
   "cell_type": "code",
   "execution_count": 21,
   "metadata": {},
   "outputs": [
    {
     "data": {
      "text/plain": [
       "image_path    3197\n",
       "label         3197\n",
       "category      3197\n",
       "dtype: int64"
      ]
     },
     "execution_count": 21,
     "metadata": {},
     "output_type": "execute_result"
    }
   ],
   "source": [
    "df_valid_data_paths.count()"
   ]
  },
  {
   "cell_type": "code",
   "execution_count": 22,
   "metadata": {},
   "outputs": [
    {
     "data": {
      "text/plain": [
       "image_path    36808\n",
       "label         36808\n",
       "category      36808\n",
       "dtype: int64"
      ]
     },
     "execution_count": 22,
     "metadata": {},
     "output_type": "execute_result"
    }
   ],
   "source": [
    "df_train_images_paths.count()"
   ]
  },
  {
   "cell_type": "code",
   "execution_count": 49,
   "metadata": {},
   "outputs": [
    {
     "name": "stderr",
     "output_type": "stream",
     "text": [
      "c:\\Users\\Hamad\\AppData\\Local\\Programs\\Python\\Python311\\Lib\\site-packages\\torchvision\\transforms\\v2\\_deprecated.py:41: UserWarning: The transform `ToTensor()` is deprecated and will be removed in a future release. Instead, please use `transforms.Compose([transforms.ToImageTensor(), transforms.ConvertImageDtype()])`.\n",
      "  warnings.warn(\n"
     ]
    }
   ],
   "source": [
    "from torch.utils.data import DataLoader\n",
    "from torchvision.transforms import v2\n",
    "\n",
    "batchsize = 8\n",
    "transform = transforms.Compose([\n",
    "    v2.RandomHorizontalFlip(p=0.5),\n",
    "    v2.Resize((224, 224)),\n",
    "    v2.ToTensor(),\n",
    "])\n",
    "\n",
    "val_transform = v2.Compose([\n",
    "    v2.Resize((224, 224)),\n",
    "    v2.ToTensor(),\n",
    "])\n",
    "\n",
    "Mura_transform = MuraDataset(df_train_images_paths[\"image_path\"], df_train_images_paths[\"label\"], transform=transform,device='cuda')\n",
    "train_loader = DataLoader(Mura_transform, batch_size=batchsize, shuffle=True)\n",
    "Mura_transform_valid = MuraDataset(df_valid_data_paths[\"image_path\"], df_valid_data_paths[\"label\"], transform=val_transform,device='cuda')\n",
    "valid_loader = DataLoader(Mura_transform_valid, batch_size=batchsize)\n",
    "\n"
   ]
  },
  {
   "cell_type": "code",
   "execution_count": 42,
   "metadata": {},
   "outputs": [
    {
     "name": "stdout",
     "output_type": "stream",
     "text": [
      "Feature batch shape: torch.Size([8, 3, 224, 224])\n",
      "Labels batch shape: torch.Size([8])\n"
     ]
    },
    {
     "data": {
      "image/png": "[encoded data removed]",
      "text/plain": [
       "<Figure size 640x480 with 1 Axes>"
      ]
     },
     "metadata": {},
     "output_type": "display_data"
    },
    {
     "name": "stdout",
     "output_type": "stream",
     "text": [
      "Label: 1\n"
     ]
    }
   ],
   "source": [
    "# Display image and label.\n",
    "train_features, train_labels = next(iter(train_loader))\n",
    "print(f\"Feature batch shape: {train_features.size()}\")\n",
    "print(f\"Labels batch shape: {train_labels.size()}\")\n",
    "\n",
    "# Select a single image from the batch.\n",
    "img = train_features[0]\n",
    "\n",
    "# Select one channel (e.g., the first channel).\n",
    "img_channel1 = img[1].cpu().numpy()\n",
    "\n",
    "# Display the selected channel.\n",
    "plt.imshow(img_channel1, cmap=\"gray\")\n",
    "plt.show()\n",
    "\n",
    "# Alternatively, you can display the second channel\n",
    "# img_channel2 = img[1].cpu().numpy()\n",
    "# plt.imshow(img_channel2, cmap=\"gray\")\n",
    "# plt.show()\n",
    "\n",
    "label = train_labels[0]\n",
    "print(f\"Label: {label}\")\n"
   ]
  },
  {
   "cell_type": "code",
   "execution_count": null,
   "metadata": {},
   "outputs": [],
   "source": [
    "# %pip install timm"
   ]
  },
  {
   "cell_type": "code",
   "execution_count": 42,
   "metadata": {},
   "outputs": [
    {
     "name": "stderr",
     "output_type": "stream",
     "text": [
      "c:\\Users\\Hamad\\AppData\\Local\\Programs\\Python\\Python311\\Lib\\site-packages\\timm\\models\\_factory.py:114: UserWarning: Mapping deprecated model name vit_base_patch16_224_in21k to current vit_base_patch16_224.augreg_in21k.\n",
      "  model = create_fn(\n"
     ]
    }
   ],
   "source": [
    "import timm\n",
    "vit_model = timm.create_model(model_name='vit_base_patch16_224_in21k',num_classes = 2)"
   ]
  },
  {
   "cell_type": "code",
   "execution_count": 27,
   "metadata": {},
   "outputs": [
    {
     "data": {
      "text/plain": [
       "device(type='cuda')"
      ]
     },
     "execution_count": 27,
     "metadata": {},
     "output_type": "execute_result"
    }
   ],
   "source": [
    "device = torch.device(\"cuda\" if torch.cuda.is_available() else \"cpu\")\n",
    "device\n"
   ]
  },
  {
   "cell_type": "code",
   "execution_count": null,
   "metadata": {},
   "outputs": [],
   "source": [
    "# vit_model.to(device)"
   ]
  },
  {
   "cell_type": "code",
   "execution_count": 62,
   "metadata": {},
   "outputs": [],
   "source": [
    "# criterion = torch.nn.CrossEntropyLoss()\n",
    "# optimizer = torch.optim.Adam(vit_model.parameters(), lr=1e-7)\n",
    "# scheduler = torch.optim.lr_scheduler.StepLR(optimizer, step_size=10, gamma=0.7)\n"
   ]
  },
  {
   "cell_type": "code",
   "execution_count": 46,
   "metadata": {},
   "outputs": [],
   "source": [
    "# num_epochs = 3\n",
    "\n",
    "# for epoch in range(num_epochs):\n",
    "#     vit_model.train()\n",
    "#     total_loss = 0.0\n",
    "#     correct = 0  # To keep track of correct predictions\n",
    "#     total = 0  # To keep track of total predictions\n",
    "\n",
    "#     batch_accuracies = []  # To store batch accuracies for the epoch\n",
    "\n",
    "#     for batch_idx, (images, labels) in enumerate(train_loader):\n",
    "#         images, labels = images.to(device), labels.to(device)\n",
    "\n",
    "#         optimizer.zero_grad()\n",
    "#         outputs = vit_model(images)\n",
    "#         loss = criterion(outputs, labels)\n",
    "#         loss.backward()\n",
    "#         optimizer.step()\n",
    "\n",
    "#         total_loss += loss.item()\n",
    "\n",
    "#         # Calculate accuracy\n",
    "#         _, predicted = outputs.max(1)  # Get the index of the max log-probability\n",
    "#         total += labels.size(0)\n",
    "#         correct += predicted.eq(labels).sum().item()\n",
    "\n",
    "#         # Print loss and accuracy for every 584 batches\n",
    "#         if (batch_idx + 1) % 32 == 0:\n",
    "#             batch_accuracy = 100. * correct / total\n",
    "#             batch_accuracies.append(batch_accuracy)  # Store the batch accuracy\n",
    "#             print(f\"Epoch [{epoch+1}/{num_epochs}], Batch [{batch_idx+1}/{len(train_loader)}], Batch Loss: {loss.item():.4f}, Batch Accuracy: {batch_accuracy:.2f}%\")\n",
    "#     scheduler.step()\n",
    "#     avg_loss = total_loss / len(train_loader)\n",
    "#     epoch_accuracy = 100. * correct / total  # Convert to percentage\n",
    "\n",
    "#     # Calculate the average of batch accuracies for the epoch\n",
    "#     avg_batch_accuracy = sum(batch_accuracies) / len(batch_accuracies) if batch_accuracies else 0.0\n",
    "\n",
    "#     print(f\"Epoch [{epoch+1}/{num_epochs}], Average Loss: {avg_loss:.4f}, Epoch Accuracy: {epoch_accuracy:.2f}%, Average Batch Accuracy: {avg_batch_accuracy:.2f}%\")\n"
   ]
  },
  {
   "cell_type": "code",
   "execution_count": 47,
   "metadata": {},
   "outputs": [],
   "source": [
    "# from sklearn.metrics import accuracy_score, precision_score, recall_score, f1_score\n",
    "\n",
    "# # Switch the model to evaluation mode\n",
    "# vit_model.eval()\n",
    "\n",
    "# # Initialize lists to store all true labels and all predictions\n",
    "# all_labels = []\n",
    "# all_predictions = []\n",
    "\n",
    "# # Disabling gradient calculation\n",
    "# with torch.no_grad():\n",
    "#     for batch_idx, (images, labels) in enumerate(valid_loader):\n",
    "#         images, labels = images.to(device), labels.to(device)\n",
    "\n",
    "#         # Forward pass\n",
    "#         outputs = vit_model(images)\n",
    "\n",
    "#         # Get predictions\n",
    "#         _, predicted = outputs.max(1)\n",
    "\n",
    "#         # Store predictions and true labels for later calculation of metrics\n",
    "#         all_predictions.extend(predicted.cpu().numpy())\n",
    "#         all_labels.extend(labels.cpu().numpy())\n",
    "\n",
    "#         # Print status for every 175 batches (or another number if you prefer)\n",
    "#         if (batch_idx + 1) % 175 == 0:\n",
    "#             print(f\"Test Batch [{batch_idx+1}/{len(valid_loader)}] Processed\")\n",
    "\n",
    "# # Compute metrics\n",
    "# accuracy = accuracy_score(all_labels, all_predictions)\n",
    "# precision = precision_score(all_labels, all_predictions, average='weighted')  # Using weighted average if you have class imbalance\n",
    "# recall = recall_score(all_labels, all_predictions, average='weighted')  # Using weighted average if you have class imbalance\n",
    "# f1 = f1_score(all_labels, all_predictions, average='weighted')  # Using weighted average if you have class imbalance\n",
    "\n",
    "\n",
    "# print(f\"Test Accuracy: {accuracy:.4f}\")\n",
    "# print(f\"Test Precision: {precision:.4f}\")\n",
    "# print(f\"Test Recall: {recall:.4f}\")\n",
    "# print(f\"Test F1-Score: {f1:.4f}\")\n"
   ]
  },
  {
   "cell_type": "code",
   "execution_count": 48,
   "metadata": {},
   "outputs": [],
   "source": [
    "# import torch\n",
    "# save_path = './Vit_mura_phase_3.pth'\n",
    "# torch.save(vit_model,save_path)"
   ]
  },
  {
   "cell_type": "markdown",
   "metadata": {},
   "source": [
    "# Swin Transformer"
   ]
  },
  {
   "cell_type": "code",
   "execution_count": 28,
   "metadata": {},
   "outputs": [],
   "source": [
    "from transformers import SwinForImageClassification"
   ]
  },
  {
   "cell_type": "code",
   "execution_count": 29,
   "metadata": {},
   "outputs": [],
   "source": [
    "model = SwinForImageClassification.from_pretrained(\"microsoft/swin-tiny-patch4-window7-224\")"
   ]
  },
  {
   "cell_type": "markdown",
   "metadata": {},
   "source": [
    "# Removing the last layer and adding only 2 output instead of 1000"
   ]
  },
  {
   "cell_type": "code",
   "execution_count": 30,
   "metadata": {},
   "outputs": [
    {
     "data": {
      "text/plain": [
       "SwinForImageClassification(\n",
       "  (swin): SwinModel(\n",
       "    (embeddings): SwinEmbeddings(\n",
       "      (patch_embeddings): SwinPatchEmbeddings(\n",
       "        (projection): Conv2d(3, 96, kernel_size=(4, 4), stride=(4, 4))\n",
       "      )\n",
       "      (norm): LayerNorm((96,), eps=1e-05, elementwise_affine=True)\n",
       "      (dropout): Dropout(p=0.0, inplace=False)\n",
       "    )\n",
       "    (encoder): SwinEncoder(\n",
       "      (layers): ModuleList(\n",
       "        (0): SwinStage(\n",
       "          (blocks): ModuleList(\n",
       "            (0-1): 2 x SwinLayer(\n",
       "              (layernorm_before): LayerNorm((96,), eps=1e-05, elementwise_affine=True)\n",
       "              (attention): SwinAttention(\n",
       "                (self): SwinSelfAttention(\n",
       "                  (query): Linear(in_features=96, out_features=96, bias=True)\n",
       "                  (key): Linear(in_features=96, out_features=96, bias=True)\n",
       "                  (value): Linear(in_features=96, out_features=96, bias=True)\n",
       "                  (dropout): Dropout(p=0.0, inplace=False)\n",
       "                )\n",
       "                (output): SwinSelfOutput(\n",
       "                  (dense): Linear(in_features=96, out_features=96, bias=True)\n",
       "                  (dropout): Dropout(p=0.0, inplace=False)\n",
       "                )\n",
       "              )\n",
       "              (drop_path): SwinDropPath(p=0.1)\n",
       "              (layernorm_after): LayerNorm((96,), eps=1e-05, elementwise_affine=True)\n",
       "              (intermediate): SwinIntermediate(\n",
       "                (dense): Linear(in_features=96, out_features=384, bias=True)\n",
       "                (intermediate_act_fn): GELUActivation()\n",
       "              )\n",
       "              (output): SwinOutput(\n",
       "                (dense): Linear(in_features=384, out_features=96, bias=True)\n",
       "                (dropout): Dropout(p=0.0, inplace=False)\n",
       "              )\n",
       "            )\n",
       "          )\n",
       "          (downsample): SwinPatchMerging(\n",
       "            (reduction): Linear(in_features=384, out_features=192, bias=False)\n",
       "            (norm): LayerNorm((384,), eps=1e-05, elementwise_affine=True)\n",
       "          )\n",
       "        )\n",
       "        (1): SwinStage(\n",
       "          (blocks): ModuleList(\n",
       "            (0-1): 2 x SwinLayer(\n",
       "              (layernorm_before): LayerNorm((192,), eps=1e-05, elementwise_affine=True)\n",
       "              (attention): SwinAttention(\n",
       "                (self): SwinSelfAttention(\n",
       "                  (query): Linear(in_features=192, out_features=192, bias=True)\n",
       "                  (key): Linear(in_features=192, out_features=192, bias=True)\n",
       "                  (value): Linear(in_features=192, out_features=192, bias=True)\n",
       "                  (dropout): Dropout(p=0.0, inplace=False)\n",
       "                )\n",
       "                (output): SwinSelfOutput(\n",
       "                  (dense): Linear(in_features=192, out_features=192, bias=True)\n",
       "                  (dropout): Dropout(p=0.0, inplace=False)\n",
       "                )\n",
       "              )\n",
       "              (drop_path): SwinDropPath(p=0.1)\n",
       "              (layernorm_after): LayerNorm((192,), eps=1e-05, elementwise_affine=True)\n",
       "              (intermediate): SwinIntermediate(\n",
       "                (dense): Linear(in_features=192, out_features=768, bias=True)\n",
       "                (intermediate_act_fn): GELUActivation()\n",
       "              )\n",
       "              (output): SwinOutput(\n",
       "                (dense): Linear(in_features=768, out_features=192, bias=True)\n",
       "                (dropout): Dropout(p=0.0, inplace=False)\n",
       "              )\n",
       "            )\n",
       "          )\n",
       "          (downsample): SwinPatchMerging(\n",
       "            (reduction): Linear(in_features=768, out_features=384, bias=False)\n",
       "            (norm): LayerNorm((768,), eps=1e-05, elementwise_affine=True)\n",
       "          )\n",
       "        )\n",
       "        (2): SwinStage(\n",
       "          (blocks): ModuleList(\n",
       "            (0-5): 6 x SwinLayer(\n",
       "              (layernorm_before): LayerNorm((384,), eps=1e-05, elementwise_affine=True)\n",
       "              (attention): SwinAttention(\n",
       "                (self): SwinSelfAttention(\n",
       "                  (query): Linear(in_features=384, out_features=384, bias=True)\n",
       "                  (key): Linear(in_features=384, out_features=384, bias=True)\n",
       "                  (value): Linear(in_features=384, out_features=384, bias=True)\n",
       "                  (dropout): Dropout(p=0.0, inplace=False)\n",
       "                )\n",
       "                (output): SwinSelfOutput(\n",
       "                  (dense): Linear(in_features=384, out_features=384, bias=True)\n",
       "                  (dropout): Dropout(p=0.0, inplace=False)\n",
       "                )\n",
       "              )\n",
       "              (drop_path): SwinDropPath(p=0.1)\n",
       "              (layernorm_after): LayerNorm((384,), eps=1e-05, elementwise_affine=True)\n",
       "              (intermediate): SwinIntermediate(\n",
       "                (dense): Linear(in_features=384, out_features=1536, bias=True)\n",
       "                (intermediate_act_fn): GELUActivation()\n",
       "              )\n",
       "              (output): SwinOutput(\n",
       "                (dense): Linear(in_features=1536, out_features=384, bias=True)\n",
       "                (dropout): Dropout(p=0.0, inplace=False)\n",
       "              )\n",
       "            )\n",
       "          )\n",
       "          (downsample): SwinPatchMerging(\n",
       "            (reduction): Linear(in_features=1536, out_features=768, bias=False)\n",
       "            (norm): LayerNorm((1536,), eps=1e-05, elementwise_affine=True)\n",
       "          )\n",
       "        )\n",
       "        (3): SwinStage(\n",
       "          (blocks): ModuleList(\n",
       "            (0-1): 2 x SwinLayer(\n",
       "              (layernorm_before): LayerNorm((768,), eps=1e-05, elementwise_affine=True)\n",
       "              (attention): SwinAttention(\n",
       "                (self): SwinSelfAttention(\n",
       "                  (query): Linear(in_features=768, out_features=768, bias=True)\n",
       "                  (key): Linear(in_features=768, out_features=768, bias=True)\n",
       "                  (value): Linear(in_features=768, out_features=768, bias=True)\n",
       "                  (dropout): Dropout(p=0.0, inplace=False)\n",
       "                )\n",
       "                (output): SwinSelfOutput(\n",
       "                  (dense): Linear(in_features=768, out_features=768, bias=True)\n",
       "                  (dropout): Dropout(p=0.0, inplace=False)\n",
       "                )\n",
       "              )\n",
       "              (drop_path): SwinDropPath(p=0.1)\n",
       "              (layernorm_after): LayerNorm((768,), eps=1e-05, elementwise_affine=True)\n",
       "              (intermediate): SwinIntermediate(\n",
       "                (dense): Linear(in_features=768, out_features=3072, bias=True)\n",
       "                (intermediate_act_fn): GELUActivation()\n",
       "              )\n",
       "              (output): SwinOutput(\n",
       "                (dense): Linear(in_features=3072, out_features=768, bias=True)\n",
       "                (dropout): Dropout(p=0.0, inplace=False)\n",
       "              )\n",
       "            )\n",
       "          )\n",
       "        )\n",
       "      )\n",
       "    )\n",
       "    (layernorm): LayerNorm((768,), eps=1e-05, elementwise_affine=True)\n",
       "    (pooler): AdaptiveAvgPool1d(output_size=1)\n",
       "  )\n",
       "  (classifier): Linear(in_features=768, out_features=2, bias=True)\n",
       ")"
      ]
     },
     "execution_count": 30,
     "metadata": {},
     "output_type": "execute_result"
    }
   ],
   "source": [
    "model.classifier = nn.Linear(in_features=768, out_features=2)\n",
    "model"
   ]
  },
  {
   "cell_type": "code",
   "execution_count": null,
   "metadata": {},
   "outputs": [],
   "source": [
    "# layers = list(swin_model.children())[:-1]\n",
    "# layers.append(nn.Linear(in_features=768,out_features=2))\n",
    "# model = nn.Sequential(*layers)\n",
    "summary(model, input_size=(8, 3, 224, 224))\n"
   ]
  },
  {
   "cell_type": "code",
   "execution_count": null,
   "metadata": {},
   "outputs": [],
   "source": [
    "model.to(device)"
   ]
  },
  {
   "cell_type": "markdown",
   "metadata": {},
   "source": [
    "# Grid search to find the best learning rate"
   ]
  },
  {
   "cell_type": "code",
   "execution_count": 43,
   "metadata": {},
   "outputs": [],
   "source": [
    "criterion = torch.nn.CrossEntropyLoss()\n",
    "optimizer = torch.optim.Adam(model.parameters(), lr=1e-5)\n",
    "scheduler = torch.optim.lr_scheduler.StepLR(optimizer, step_size=10, gamma=0.7)"
   ]
  },
  {
   "cell_type": "code",
   "execution_count": 33,
   "metadata": {},
   "outputs": [],
   "source": [
    "# learning_rates = [0.001, 0.0001,0.00001,0.000001]\n",
    "# best_lr = None\n",
    "# best_accuracy = 0.0\n",
    "\n",
    "# for lr in learning_rates:\n",
    "#     optimizer = torch.optim.Adam(model.parameters(), lr=lr)\n",
    "#     # Initialize and train Swin Transformer with learning rate = lr\n",
    "#     # ...\n",
    "#     # Validate the model\n",
    "#     val_accuracy = validate_model(model, val_data)\n",
    "#     if val_accuracy > best_accuracy:\n",
    "#         best_accuracy = val_accuracy\n",
    "#         best_lr = lr\n",
    "        \n"
   ]
  },
  {
   "cell_type": "code",
   "execution_count": 45,
   "metadata": {},
   "outputs": [
    {
     "name": "stdout",
     "output_type": "stream",
     "text": [
      "Epoch [1/7], Batch [200/4601], Batch Loss: 0.6355, Batch Accuracy: 71.94%\n",
      "Epoch [1/7], Batch [400/4601], Batch Loss: 0.3625, Batch Accuracy: 72.94%\n",
      "Epoch [1/7], Batch [600/4601], Batch Loss: 0.2558, Batch Accuracy: 73.31%\n",
      "Epoch [1/7], Batch [800/4601], Batch Loss: 0.5197, Batch Accuracy: 73.59%\n",
      "Epoch [1/7], Batch [1000/4601], Batch Loss: 0.5046, Batch Accuracy: 73.99%\n",
      "Epoch [1/7], Batch [1200/4601], Batch Loss: 0.5219, Batch Accuracy: 74.29%\n",
      "Epoch [1/7], Batch [1400/4601], Batch Loss: 0.2487, Batch Accuracy: 74.71%\n",
      "Epoch [1/7], Batch [1600/4601], Batch Loss: 0.6161, Batch Accuracy: 74.84%\n",
      "Epoch [1/7], Batch [1800/4601], Batch Loss: 0.3205, Batch Accuracy: 75.17%\n",
      "Epoch [1/7], Batch [2000/4601], Batch Loss: 0.3340, Batch Accuracy: 75.25%\n",
      "Epoch [1/7], Batch [2200/4601], Batch Loss: 0.3587, Batch Accuracy: 75.41%\n",
      "Epoch [1/7], Batch [2400/4601], Batch Loss: 0.3201, Batch Accuracy: 75.61%\n",
      "Epoch [1/7], Batch [2600/4601], Batch Loss: 0.8179, Batch Accuracy: 75.72%\n",
      "Epoch [1/7], Batch [2800/4601], Batch Loss: 0.2907, Batch Accuracy: 75.88%\n",
      "Epoch [1/7], Batch [3000/4601], Batch Loss: 0.4291, Batch Accuracy: 75.96%\n",
      "Epoch [1/7], Batch [3200/4601], Batch Loss: 0.4772, Batch Accuracy: 76.14%\n",
      "Epoch [1/7], Batch [3400/4601], Batch Loss: 0.4920, Batch Accuracy: 76.25%\n",
      "Epoch [1/7], Batch [3600/4601], Batch Loss: 0.1935, Batch Accuracy: 76.41%\n",
      "Epoch [1/7], Batch [3800/4601], Batch Loss: 0.3697, Batch Accuracy: 76.45%\n",
      "Epoch [1/7], Batch [4000/4601], Batch Loss: 0.2293, Batch Accuracy: 76.61%\n",
      "Epoch [1/7], Batch [4200/4601], Batch Loss: 0.6310, Batch Accuracy: 76.79%\n",
      "Epoch [1/7], Batch [4400/4601], Batch Loss: 0.1148, Batch Accuracy: 76.88%\n",
      "Epoch [1/7], Batch [4600/4601], Batch Loss: 0.9517, Batch Accuracy: 76.94%\n",
      "Epoch [1/7], Average Loss: 0.4943, Epoch Accuracy: 76.94%, Average Batch Accuracy: 75.26%\n",
      "Epoch [2/7], Batch [200/4601], Batch Loss: 0.3107, Batch Accuracy: 80.88%\n",
      "Epoch [2/7], Batch [400/4601], Batch Loss: 0.5807, Batch Accuracy: 80.62%\n",
      "Epoch [2/7], Batch [600/4601], Batch Loss: 0.3386, Batch Accuracy: 80.23%\n",
      "Epoch [2/7], Batch [800/4601], Batch Loss: 0.3541, Batch Accuracy: 80.19%\n",
      "Epoch [2/7], Batch [1000/4601], Batch Loss: 0.1770, Batch Accuracy: 80.09%\n",
      "Epoch [2/7], Batch [1200/4601], Batch Loss: 0.1795, Batch Accuracy: 80.10%\n",
      "Epoch [2/7], Batch [1400/4601], Batch Loss: 0.3024, Batch Accuracy: 80.06%\n",
      "Epoch [2/7], Batch [1600/4601], Batch Loss: 0.2218, Batch Accuracy: 80.23%\n",
      "Epoch [2/7], Batch [1800/4601], Batch Loss: 0.6544, Batch Accuracy: 80.35%\n",
      "Epoch [2/7], Batch [2000/4601], Batch Loss: 0.7763, Batch Accuracy: 80.41%\n",
      "Epoch [2/7], Batch [2200/4601], Batch Loss: 0.3112, Batch Accuracy: 80.32%\n",
      "Epoch [2/7], Batch [2400/4601], Batch Loss: 0.8034, Batch Accuracy: 80.27%\n",
      "Epoch [2/7], Batch [2600/4601], Batch Loss: 0.1928, Batch Accuracy: 80.34%\n",
      "Epoch [2/7], Batch [2800/4601], Batch Loss: 0.4847, Batch Accuracy: 80.37%\n",
      "Epoch [2/7], Batch [3000/4601], Batch Loss: 0.6311, Batch Accuracy: 80.31%\n",
      "Epoch [2/7], Batch [3200/4601], Batch Loss: 0.4656, Batch Accuracy: 80.32%\n",
      "Epoch [2/7], Batch [3400/4601], Batch Loss: 0.4737, Batch Accuracy: 80.32%\n",
      "Epoch [2/7], Batch [3600/4601], Batch Loss: 0.5582, Batch Accuracy: 80.27%\n",
      "Epoch [2/7], Batch [3800/4601], Batch Loss: 0.6190, Batch Accuracy: 80.29%\n",
      "Epoch [2/7], Batch [4000/4601], Batch Loss: 0.3304, Batch Accuracy: 80.35%\n",
      "Epoch [2/7], Batch [4200/4601], Batch Loss: 0.4166, Batch Accuracy: 80.26%\n",
      "Epoch [2/7], Batch [4400/4601], Batch Loss: 0.2074, Batch Accuracy: 80.37%\n",
      "Epoch [2/7], Batch [4600/4601], Batch Loss: 0.3459, Batch Accuracy: 80.35%\n",
      "Epoch [2/7], Average Loss: 0.4392, Epoch Accuracy: 80.35%, Average Batch Accuracy: 80.32%\n",
      "Epoch [3/7], Batch [200/4601], Batch Loss: 0.4387, Batch Accuracy: 83.31%\n",
      "Epoch [3/7], Batch [400/4601], Batch Loss: 0.4940, Batch Accuracy: 82.88%\n",
      "Epoch [3/7], Batch [600/4601], Batch Loss: 0.4375, Batch Accuracy: 82.67%\n",
      "Epoch [3/7], Batch [800/4601], Batch Loss: 0.3837, Batch Accuracy: 82.73%\n",
      "Epoch [3/7], Batch [1000/4601], Batch Loss: 0.3759, Batch Accuracy: 82.84%\n",
      "Epoch [3/7], Batch [1200/4601], Batch Loss: 0.4571, Batch Accuracy: 82.70%\n",
      "Epoch [3/7], Batch [1400/4601], Batch Loss: 0.3331, Batch Accuracy: 82.78%\n",
      "Epoch [3/7], Batch [1600/4601], Batch Loss: 0.4505, Batch Accuracy: 82.82%\n",
      "Epoch [3/7], Batch [1800/4601], Batch Loss: 0.5268, Batch Accuracy: 82.79%\n",
      "Epoch [3/7], Batch [2000/4601], Batch Loss: 0.4417, Batch Accuracy: 82.85%\n",
      "Epoch [3/7], Batch [2200/4601], Batch Loss: 0.5178, Batch Accuracy: 82.70%\n",
      "Epoch [3/7], Batch [2400/4601], Batch Loss: 0.1137, Batch Accuracy: 82.61%\n",
      "Epoch [3/7], Batch [2600/4601], Batch Loss: 0.4217, Batch Accuracy: 82.69%\n",
      "Epoch [3/7], Batch [2800/4601], Batch Loss: 1.0996, Batch Accuracy: 82.65%\n",
      "Epoch [3/7], Batch [3000/4601], Batch Loss: 0.3159, Batch Accuracy: 82.62%\n",
      "Epoch [3/7], Batch [3200/4601], Batch Loss: 0.4627, Batch Accuracy: 82.57%\n",
      "Epoch [3/7], Batch [3400/4601], Batch Loss: 0.2461, Batch Accuracy: 82.57%\n",
      "Epoch [3/7], Batch [3600/4601], Batch Loss: 0.7215, Batch Accuracy: 82.60%\n",
      "Epoch [3/7], Batch [3800/4601], Batch Loss: 0.3895, Batch Accuracy: 82.55%\n",
      "Epoch [3/7], Batch [4000/4601], Batch Loss: 0.3015, Batch Accuracy: 82.50%\n",
      "Epoch [3/7], Batch [4200/4601], Batch Loss: 0.2465, Batch Accuracy: 82.44%\n",
      "Epoch [3/7], Batch [4400/4601], Batch Loss: 0.3456, Batch Accuracy: 82.53%\n",
      "Epoch [3/7], Batch [4600/4601], Batch Loss: 0.3567, Batch Accuracy: 82.52%\n",
      "Epoch [3/7], Average Loss: 0.4004, Epoch Accuracy: 82.52%, Average Batch Accuracy: 82.69%\n",
      "Epoch [4/7], Batch [200/4601], Batch Loss: 0.4785, Batch Accuracy: 85.44%\n",
      "Epoch [4/7], Batch [400/4601], Batch Loss: 0.2998, Batch Accuracy: 85.94%\n",
      "Epoch [4/7], Batch [600/4601], Batch Loss: 0.2784, Batch Accuracy: 85.71%\n",
      "Epoch [4/7], Batch [800/4601], Batch Loss: 0.2932, Batch Accuracy: 85.25%\n",
      "Epoch [4/7], Batch [1000/4601], Batch Loss: 0.3060, Batch Accuracy: 85.16%\n",
      "Epoch [4/7], Batch [1200/4601], Batch Loss: 0.1200, Batch Accuracy: 84.92%\n",
      "Epoch [4/7], Batch [1400/4601], Batch Loss: 0.1614, Batch Accuracy: 84.85%\n",
      "Epoch [4/7], Batch [1600/4601], Batch Loss: 0.3022, Batch Accuracy: 84.88%\n",
      "Epoch [4/7], Batch [1800/4601], Batch Loss: 0.1746, Batch Accuracy: 84.76%\n",
      "Epoch [4/7], Batch [2000/4601], Batch Loss: 0.3355, Batch Accuracy: 84.57%\n",
      "Epoch [4/7], Batch [2200/4601], Batch Loss: 0.1598, Batch Accuracy: 84.48%\n",
      "Epoch [4/7], Batch [2400/4601], Batch Loss: 0.2787, Batch Accuracy: 84.39%\n",
      "Epoch [4/7], Batch [2600/4601], Batch Loss: 1.0315, Batch Accuracy: 84.37%\n",
      "Epoch [4/7], Batch [2800/4601], Batch Loss: 0.1158, Batch Accuracy: 84.40%\n",
      "Epoch [4/7], Batch [3000/4601], Batch Loss: 0.0513, Batch Accuracy: 84.42%\n",
      "Epoch [4/7], Batch [3200/4601], Batch Loss: 0.2557, Batch Accuracy: 84.46%\n",
      "Epoch [4/7], Batch [3400/4601], Batch Loss: 0.7714, Batch Accuracy: 84.36%\n",
      "Epoch [4/7], Batch [3600/4601], Batch Loss: 0.4135, Batch Accuracy: 84.33%\n",
      "Epoch [4/7], Batch [3800/4601], Batch Loss: 0.5512, Batch Accuracy: 84.28%\n",
      "Epoch [4/7], Batch [4000/4601], Batch Loss: 0.2926, Batch Accuracy: 84.29%\n",
      "Epoch [4/7], Batch [4200/4601], Batch Loss: 0.1689, Batch Accuracy: 84.37%\n",
      "Epoch [4/7], Batch [4400/4601], Batch Loss: 0.1633, Batch Accuracy: 84.34%\n",
      "Epoch [4/7], Batch [4600/4601], Batch Loss: 0.1939, Batch Accuracy: 84.33%\n",
      "Epoch [4/7], Average Loss: 0.3650, Epoch Accuracy: 84.33%, Average Batch Accuracy: 84.71%\n",
      "Epoch [5/7], Batch [200/4601], Batch Loss: 0.9524, Batch Accuracy: 85.38%\n",
      "Epoch [5/7], Batch [400/4601], Batch Loss: 0.8162, Batch Accuracy: 86.22%\n",
      "Epoch [5/7], Batch [600/4601], Batch Loss: 0.0656, Batch Accuracy: 86.17%\n",
      "Epoch [5/7], Batch [800/4601], Batch Loss: 0.4849, Batch Accuracy: 85.95%\n",
      "Epoch [5/7], Batch [1000/4601], Batch Loss: 0.3571, Batch Accuracy: 86.17%\n",
      "Epoch [5/7], Batch [1200/4601], Batch Loss: 0.1939, Batch Accuracy: 86.15%\n",
      "Epoch [5/7], Batch [1400/4601], Batch Loss: 0.0666, Batch Accuracy: 86.03%\n",
      "Epoch [5/7], Batch [1600/4601], Batch Loss: 0.4854, Batch Accuracy: 85.95%\n",
      "Epoch [5/7], Batch [1800/4601], Batch Loss: 0.0699, Batch Accuracy: 86.03%\n",
      "Epoch [5/7], Batch [2000/4601], Batch Loss: 0.4641, Batch Accuracy: 85.99%\n",
      "Epoch [5/7], Batch [2200/4601], Batch Loss: 0.1840, Batch Accuracy: 86.16%\n",
      "Epoch [5/7], Batch [2400/4601], Batch Loss: 0.4009, Batch Accuracy: 86.24%\n",
      "Epoch [5/7], Batch [2600/4601], Batch Loss: 0.3744, Batch Accuracy: 86.35%\n",
      "Epoch [5/7], Batch [2800/4601], Batch Loss: 0.7289, Batch Accuracy: 86.34%\n",
      "Epoch [5/7], Batch [3000/4601], Batch Loss: 0.5440, Batch Accuracy: 86.34%\n",
      "Epoch [5/7], Batch [3200/4601], Batch Loss: 0.4428, Batch Accuracy: 86.32%\n",
      "Epoch [5/7], Batch [3400/4601], Batch Loss: 0.1997, Batch Accuracy: 86.22%\n",
      "Epoch [5/7], Batch [3600/4601], Batch Loss: 0.1547, Batch Accuracy: 86.19%\n",
      "Epoch [5/7], Batch [3800/4601], Batch Loss: 0.4544, Batch Accuracy: 86.25%\n",
      "Epoch [5/7], Batch [4000/4601], Batch Loss: 0.2346, Batch Accuracy: 86.21%\n",
      "Epoch [5/7], Batch [4200/4601], Batch Loss: 0.5954, Batch Accuracy: 86.16%\n",
      "Epoch [5/7], Batch [4400/4601], Batch Loss: 0.2979, Batch Accuracy: 86.12%\n",
      "Epoch [5/7], Batch [4600/4601], Batch Loss: 0.2707, Batch Accuracy: 86.14%\n",
      "Epoch [5/7], Average Loss: 0.3276, Epoch Accuracy: 86.14%, Average Batch Accuracy: 86.13%\n",
      "Epoch [6/7], Batch [200/4601], Batch Loss: 0.3298, Batch Accuracy: 89.75%\n",
      "Epoch [6/7], Batch [400/4601], Batch Loss: 0.5148, Batch Accuracy: 88.47%\n",
      "Epoch [6/7], Batch [600/4601], Batch Loss: 0.0415, Batch Accuracy: 88.54%\n",
      "Epoch [6/7], Batch [800/4601], Batch Loss: 0.1163, Batch Accuracy: 88.47%\n",
      "Epoch [6/7], Batch [1000/4601], Batch Loss: 0.3133, Batch Accuracy: 88.58%\n",
      "Epoch [6/7], Batch [1200/4601], Batch Loss: 0.4860, Batch Accuracy: 88.43%\n",
      "Epoch [6/7], Batch [1400/4601], Batch Loss: 0.2127, Batch Accuracy: 88.45%\n",
      "Epoch [6/7], Batch [1600/4601], Batch Loss: 0.1253, Batch Accuracy: 88.40%\n",
      "Epoch [6/7], Batch [1800/4601], Batch Loss: 0.1713, Batch Accuracy: 88.42%\n",
      "Epoch [6/7], Batch [2000/4601], Batch Loss: 0.0891, Batch Accuracy: 88.44%\n",
      "Epoch [6/7], Batch [2200/4601], Batch Loss: 0.2316, Batch Accuracy: 88.26%\n",
      "Epoch [6/7], Batch [2400/4601], Batch Loss: 0.7026, Batch Accuracy: 88.29%\n",
      "Epoch [6/7], Batch [2600/4601], Batch Loss: 0.0347, Batch Accuracy: 88.21%\n",
      "Epoch [6/7], Batch [2800/4601], Batch Loss: 0.2552, Batch Accuracy: 88.17%\n",
      "Epoch [6/7], Batch [3000/4601], Batch Loss: 0.1679, Batch Accuracy: 88.17%\n",
      "Epoch [6/7], Batch [3200/4601], Batch Loss: 0.3618, Batch Accuracy: 88.18%\n",
      "Epoch [6/7], Batch [3400/4601], Batch Loss: 0.0871, Batch Accuracy: 88.17%\n",
      "Epoch [6/7], Batch [3600/4601], Batch Loss: 0.1864, Batch Accuracy: 88.15%\n",
      "Epoch [6/7], Batch [3800/4601], Batch Loss: 0.4000, Batch Accuracy: 88.08%\n",
      "Epoch [6/7], Batch [4000/4601], Batch Loss: 0.5161, Batch Accuracy: 88.09%\n",
      "Epoch [6/7], Batch [4200/4601], Batch Loss: 0.0457, Batch Accuracy: 88.11%\n",
      "Epoch [6/7], Batch [4400/4601], Batch Loss: 0.0655, Batch Accuracy: 88.15%\n",
      "Epoch [6/7], Batch [4600/4601], Batch Loss: 0.5199, Batch Accuracy: 88.10%\n",
      "Epoch [6/7], Average Loss: 0.2881, Epoch Accuracy: 88.10%, Average Batch Accuracy: 88.35%\n",
      "Epoch [7/7], Batch [200/4601], Batch Loss: 0.9230, Batch Accuracy: 90.56%\n",
      "Epoch [7/7], Batch [400/4601], Batch Loss: 0.0355, Batch Accuracy: 89.91%\n",
      "Epoch [7/7], Batch [600/4601], Batch Loss: 0.2134, Batch Accuracy: 89.81%\n",
      "Epoch [7/7], Batch [800/4601], Batch Loss: 0.2618, Batch Accuracy: 89.59%\n",
      "Epoch [7/7], Batch [1000/4601], Batch Loss: 0.0967, Batch Accuracy: 89.70%\n",
      "Epoch [7/7], Batch [1200/4601], Batch Loss: 0.1469, Batch Accuracy: 89.74%\n",
      "Epoch [7/7], Batch [1400/4601], Batch Loss: 0.1043, Batch Accuracy: 89.65%\n",
      "Epoch [7/7], Batch [1600/4601], Batch Loss: 0.3033, Batch Accuracy: 89.66%\n",
      "Epoch [7/7], Batch [1800/4601], Batch Loss: 0.1718, Batch Accuracy: 89.67%\n",
      "Epoch [7/7], Batch [2000/4601], Batch Loss: 0.1682, Batch Accuracy: 89.64%\n",
      "Epoch [7/7], Batch [2200/4601], Batch Loss: 0.2420, Batch Accuracy: 89.60%\n",
      "Epoch [7/7], Batch [2400/4601], Batch Loss: 0.0240, Batch Accuracy: 89.72%\n",
      "Epoch [7/7], Batch [2600/4601], Batch Loss: 0.2361, Batch Accuracy: 89.74%\n",
      "Epoch [7/7], Batch [2800/4601], Batch Loss: 0.1564, Batch Accuracy: 89.71%\n",
      "Epoch [7/7], Batch [3000/4601], Batch Loss: 0.0894, Batch Accuracy: 89.69%\n",
      "Epoch [7/7], Batch [3200/4601], Batch Loss: 0.2302, Batch Accuracy: 89.76%\n",
      "Epoch [7/7], Batch [3400/4601], Batch Loss: 0.2387, Batch Accuracy: 89.79%\n",
      "Epoch [7/7], Batch [3600/4601], Batch Loss: 0.0618, Batch Accuracy: 89.80%\n",
      "Epoch [7/7], Batch [3800/4601], Batch Loss: 0.2339, Batch Accuracy: 89.75%\n",
      "Epoch [7/7], Batch [4000/4601], Batch Loss: 0.0357, Batch Accuracy: 89.78%\n",
      "Epoch [7/7], Batch [4200/4601], Batch Loss: 0.4327, Batch Accuracy: 89.72%\n",
      "Epoch [7/7], Batch [4400/4601], Batch Loss: 0.5905, Batch Accuracy: 89.70%\n",
      "Epoch [7/7], Batch [4600/4601], Batch Loss: 0.9784, Batch Accuracy: 89.72%\n",
      "Epoch [7/7], Average Loss: 0.2514, Epoch Accuracy: 89.72%, Average Batch Accuracy: 89.76%\n"
     ]
    }
   ],
   "source": [
    "num_epochs = 7\n",
    "\n",
    "for epoch in range(num_epochs):\n",
    "    model.train()\n",
    "    total_loss = 0.0\n",
    "    correct = 0  # To keep track of correct predictions\n",
    "    total = 0  # To keep track of total predictions\n",
    "\n",
    "    batch_accuracies = []  # To store batch accuracies for the epoch\n",
    "\n",
    "    for batch_idx, (images, labels) in enumerate(train_loader):\n",
    "        images, labels = images.to(device), labels.to(device)\n",
    "\n",
    "        optimizer.zero_grad()\n",
    "        outputs = model(images)\n",
    "        logits = outputs.logits  # Extract the logits\n",
    "        loss = criterion(logits, labels) \n",
    "        loss.backward()\n",
    "        optimizer.step()\n",
    "\n",
    "        total_loss += loss.item()\n",
    "\n",
    "        \n",
    "        _, predicted = logits.max(1)  # Get the index of the max log-probability\n",
    "        total += labels.size(0)\n",
    "        correct += predicted.eq(labels).sum().item()\n",
    "\n",
    "        # Print loss and accuracy for every 200 batches\n",
    "        if (batch_idx + 1) % 200 == 0:\n",
    "            batch_accuracy = 100. * correct / total\n",
    "            batch_accuracies.append(batch_accuracy)  # Store the batch accuracy\n",
    "            print(f\"Epoch [{epoch+1}/{num_epochs}], Batch [{batch_idx+1}/{len(train_loader)}], Batch Loss: {loss.item():.4f}, Batch Accuracy: {batch_accuracy:.2f}%\")\n",
    "    scheduler.step()\n",
    "    avg_loss = total_loss / len(train_loader)\n",
    "    epoch_accuracy = 100. * correct / total  # Convert to percentage\n",
    "\n",
    "    # Calculate the average of batch accuracies for the epoch\n",
    "    avg_batch_accuracy = sum(batch_accuracies) / len(batch_accuracies) if batch_accuracies else 0.0\n",
    "\n",
    "    print(f\"Epoch [{epoch+1}/{num_epochs}], Average Loss: {avg_loss:.4f}, Epoch Accuracy: {epoch_accuracy:.2f}%, Average Batch Accuracy: {avg_batch_accuracy:.2f}%\")\n"
   ]
  },
  {
   "cell_type": "code",
   "execution_count": null,
   "metadata": {},
   "outputs": [
    {
     "data": {
      "text/plain": [
       "100"
      ]
     },
     "execution_count": 26,
     "metadata": {},
     "output_type": "execute_result"
    }
   ],
   "source": [
    "len(valid_loader)"
   ]
  },
  {
   "cell_type": "code",
   "execution_count": 50,
   "metadata": {},
   "outputs": [
    {
     "name": "stdout",
     "output_type": "stream",
     "text": [
      "Test Batch [100/400] Processed\n",
      "Test Batch [200/400] Processed\n",
      "Test Batch [300/400] Processed\n",
      "Test Batch [400/400] Processed\n",
      "Test Accuracy: 0.8017\n",
      "Test Precision: 0.8810\n",
      "Test Recall: 0.6771\n",
      "Test F1-Score: 0.7657\n"
     ]
    }
   ],
   "source": [
    "from sklearn.metrics import accuracy_score, precision_score, recall_score, f1_score\n",
    "\n",
    "# Switch the model to evaluation mode\n",
    "model.eval()\n",
    "\n",
    "# Initialize lists to store all true labels and all predictions\n",
    "all_labels = []\n",
    "all_predictions = []    \n",
    "\n",
    "# Disabling gradient calculation\n",
    "with torch.no_grad():\n",
    "    for batch_idx, (images, labels) in enumerate(valid_loader):\n",
    "        images, labels = images.to(device), labels.to(device)\n",
    "\n",
    "        # Forward pass\n",
    "        outputs = model(images)  \n",
    "        logits = outputs.logits\n",
    "\n",
    "        # Get predictions\n",
    "        _, predicted = logits.max(1)\n",
    "\n",
    "        # Store predictions and true labels for later calculation of metrics\n",
    "        all_predictions.extend(predicted.cpu().numpy())\n",
    "        all_labels.extend(labels.cpu().numpy())\n",
    "\n",
    "        # Print status for every 50 batches (or another number if you prefer)\n",
    "        if (batch_idx + 1) % 100 == 0:\n",
    "            print(f\"Test Batch [{batch_idx+1}/{len(valid_loader)}] Processed\")\n",
    "\n",
    "\n",
    "# Compute metrics\n",
    "accuracy = accuracy_score(all_labels, all_predictions)\n",
    "precision = precision_score(all_labels, all_predictions)  # Using weighted average if you have class imbalance\n",
    "recall = recall_score(all_labels, all_predictions)  # Using weighted average if you have class imbalance\n",
    "f1 = f1_score(all_labels, all_predictions)  # Using weighted average if you have class imbalance\n",
    "\n",
    "\n",
    "print(f\"Test Accuracy: {accuracy:.4f}\")\n",
    "print(f\"Test Precision: {precision:.4f}\")\n",
    "print(f\"Test Recall: {recall:.4f}\")\n",
    "print(f\"Test F1-Score: {f1:.4f}\")\n",
    "\n"
   ]
  },
  {
   "cell_type": "markdown",
   "metadata": {},
   "source": [
    "7 epochs reuslt:\n",
    "# Test Accuracy: 0.8017\n",
    "# Test Precision: 0.8810\n",
    "# Test Recall: 0.6771\n",
    "# Test F1-Score: 0.7657\n"
   ]
  },
  {
   "cell_type": "code",
   "execution_count": 47,
   "metadata": {},
   "outputs": [],
   "source": [
    "import torch\n",
    "save_path = './SWIN_mura_phase_3_v2_7epoch.pth'\n",
    "torch.save(model,save_path)"
   ]
  }
 ],
 "metadata": {
  "kernelspec": {
   "display_name": "Python 3",
   "language": "python",
   "name": "python3"
  },
  "language_info": {
   "codemirror_mode": {
    "name": "ipython",
    "version": 3
   },
   "file_extension": ".py",
   "mimetype": "text/x-python",
   "name": "python",
   "nbconvert_exporter": "python",
   "pygments_lexer": "ipython3",
   "version": "3.11.4"
  },
  "orig_nbformat": 4
 },
 "nbformat": 4,
 "nbformat_minor": 2
}
