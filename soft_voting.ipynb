{
 "cells": [
  {
   "cell_type": "code",
   "execution_count": 82,
   "metadata": {},
   "outputs": [],
   "source": [
    "import torch\n",
    "from PIL import Image\n",
    "from torchvision.transforms import v2\n",
    "from torchvision import transforms\n",
    "import numpy as np\n",
    "import torch.nn.functional as F\n",
    "from skimage.color import rgb2gray\n",
    "from skimage import img_as_ubyte\n",
    "from skimage.filters import butterworth\n",
    "from skimage.filters import gaussian\n",
    "from skimage import exposure"
   ]
  },
  {
   "cell_type": "code",
   "execution_count": 83,
   "metadata": {},
   "outputs": [],
   "source": [
    "googleNet = torch.load('Final_Models\\googlenet_mura_Norma_p2LionOPT_40epoch.pth')\n",
    "googleNet = googleNet.to('cpu')"
   ]
  },
  {
   "cell_type": "code",
   "execution_count": 84,
   "metadata": {},
   "outputs": [],
   "source": [
    "swin = torch.load('Final_Models\\SWIN_PART3mura_LION_Normalization_Balanced20epoch.pth')\n",
    "swin = swin.to('cpu')"
   ]
  },
  {
   "cell_type": "markdown",
   "metadata": {},
   "source": [
    "# طريقة معالجة الصورة\n",
    "# Data Flow"
   ]
  },
  {
   "cell_type": "code",
   "execution_count": 85,
   "metadata": {},
   "outputs": [],
   "source": [
    "image = Image.open(r\"MURA-v1.1\\valid\\XR_WRIST\\patient11313\\study1_negative\\image2.png\")\n",
    "image = image.convert('RGB')\n",
    " # Convert PIL Image to numpy array\n",
    "image_np = np.array(image)\n",
    "\n",
    "      \n",
    "image_gray = rgb2gray(image_np)        \n",
    "        \n",
    "        \n",
    "image_gray = exposure.equalize_adapthist(image_gray, clip_limit=0.02)\n",
    "\n",
    "        \n",
    "image_butterworth = butterworth(image_gray)\n",
    "\n",
    "\n",
    "image_gaussian = gaussian(image_gray)\n",
    "        \n",
    "# Combine the two images into one (stack them along the last axis)\n",
    "# Create a 3 channel image from the butterworth and gaussian filtered images\n",
    "image_combined = np.stack([image_butterworth, image_gaussian, image_gray], axis=-1)\n",
    "        \n",
    "image_combined = (image_combined - np.min(image_combined)) / (np.max(image_combined) - np.min(image_combined))\n",
    "        \n",
    "        # Convert to 8-bit image for PIL\n",
    "image_combined = img_as_ubyte(image_combined)\n",
    "        \n",
    "        # Convert numpy array back to PIL Image\n",
    "image = Image.fromarray(image_combined)\n",
    "\n",
    "mean_values = [0.2665, 0.4648, 0.4648]# Calculated\n",
    "std_values = [0.1079, 0.1650, 0.1666] # Calculated\n",
    "val_transform = v2.Compose([\n",
    "    v2.Resize((224, 224)),\n",
    "    v2.ToTensor(),\n",
    "    v2.Normalize(mean=mean_values, std=std_values)\n",
    "\n",
    "])\n",
    "image = val_transform(image)\n",
    "transformed_image = image.unsqueeze(0)"
   ]
  },
  {
   "cell_type": "markdown",
   "metadata": {},
   "source": [
    "# احتمال صورة واحدة"
   ]
  },
  {
   "cell_type": "code",
   "execution_count": 86,
   "metadata": {},
   "outputs": [],
   "source": [
    "with torch.no_grad():\n",
    "    googleNet_output = googleNet(transformed_image)\n",
    "    googleNet_proba = F.softmax(googleNet_output, dim=1)\n",
    "    \n",
    "    # _, predicted_indices = torch.max(googleNet_output, 1)\n",
    "    # predicted_index = predicted_indices.item()  # Convert tensor to Python number\n",
    "    "
   ]
  },
  {
   "cell_type": "code",
   "execution_count": 87,
   "metadata": {},
   "outputs": [
    {
     "name": "stdout",
     "output_type": "stream",
     "text": [
      "tensor([[0.9944, 0.0056]])\n"
     ]
    }
   ],
   "source": [
    "print(googleNet_proba)"
   ]
  },
  {
   "cell_type": "code",
   "execution_count": 88,
   "metadata": {},
   "outputs": [],
   "source": [
    "with torch.no_grad():\n",
    "    swin_output = swin(transformed_image)\n",
    "    logits = swin_output.logits \n",
    "    swin_proba = F.softmax(logits, dim=1)\n",
    "\n",
    "    _, predicted_indices = torch.max(logits, 1)\n",
    "    predicted_index = predicted_indices.item()  # Convert tensor to Python number"
   ]
  },
  {
   "cell_type": "code",
   "execution_count": 89,
   "metadata": {},
   "outputs": [
    {
     "name": "stdout",
     "output_type": "stream",
     "text": [
      "tensor([[ 3.8530, -4.3215]])\n"
     ]
    }
   ],
   "source": [
    "print(logits)"
   ]
  },
  {
   "cell_type": "code",
   "execution_count": 90,
   "metadata": {},
   "outputs": [],
   "source": [
    "swin_proba_np = swin_proba.numpy()\n",
    "googleNet_proba_np = googleNet_proba.numpy()\n"
   ]
  },
  {
   "cell_type": "code",
   "execution_count": 91,
   "metadata": {},
   "outputs": [
    {
     "name": "stdout",
     "output_type": "stream",
     "text": [
      "[[[9.9971837e-01 2.8166702e-04]]\n",
      "\n",
      " [[9.9440902e-01 5.5909292e-03]]]\n"
     ]
    }
   ],
   "source": [
    "probabilities = np.array([swin_proba_np, googleNet_proba_np])\n",
    "print(probabilities)\n"
   ]
  },
  {
   "cell_type": "code",
   "execution_count": 92,
   "metadata": {},
   "outputs": [],
   "source": [
    "average_probabilities = np.mean(probabilities, axis=0)\n",
    "ensemble_prediction = np.argmax(average_probabilities)  "
   ]
  },
  {
   "cell_type": "code",
   "execution_count": 93,
   "metadata": {},
   "outputs": [
    {
     "data": {
      "text/plain": [
       "array([[0.9970637, 0.0029363]], dtype=float32)"
      ]
     },
     "execution_count": 93,
     "metadata": {},
     "output_type": "execute_result"
    }
   ],
   "source": [
    "average_probabilities"
   ]
  },
  {
   "cell_type": "code",
   "execution_count": 94,
   "metadata": {},
   "outputs": [
    {
     "data": {
      "text/plain": [
       "0"
      ]
     },
     "execution_count": 94,
     "metadata": {},
     "output_type": "execute_result"
    }
   ],
   "source": [
    "ensemble_prediction"
   ]
  },
  {
   "cell_type": "markdown",
   "metadata": {},
   "source": [
    "# النتيجة"
   ]
  },
  {
   "cell_type": "code",
   "execution_count": 96,
   "metadata": {},
   "outputs": [
    {
     "name": "stdout",
     "output_type": "stream",
     "text": [
      "Normal\n"
     ]
    }
   ],
   "source": [
    "if ensemble_prediction == 0:\n",
    "        print('Normal')\n",
    "elif ensemble_prediction == 1:\n",
    "        print('Abnormal')"
   ]
  },
  {
   "cell_type": "code",
   "execution_count": null,
   "metadata": {},
   "outputs": [],
   "source": []
  }
 ],
 "metadata": {
  "kernelspec": {
   "display_name": "Python 3",
   "language": "python",
   "name": "python3"
  },
  "language_info": {
   "codemirror_mode": {
    "name": "ipython",
    "version": 3
   },
   "file_extension": ".py",
   "mimetype": "text/x-python",
   "name": "python",
   "nbconvert_exporter": "python",
   "pygments_lexer": "ipython3",
   "version": "3.11.4"
  },
  "orig_nbformat": 4
 },
 "nbformat": 4,
 "nbformat_minor": 2
}
